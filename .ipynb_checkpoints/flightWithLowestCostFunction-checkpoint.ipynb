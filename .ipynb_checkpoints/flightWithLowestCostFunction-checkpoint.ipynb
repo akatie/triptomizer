{
 "cells": [
  {
   "cell_type": "code",
   "execution_count": 1,
   "metadata": {
    "collapsed": true
   },
   "outputs": [],
   "source": [
    "import pandas as pd\n",
    "import numpy as np\n",
    "import matplotlib.pyplot as plt\n",
    "import pandas.io.sql as pd_sql\n",
    "\n",
    "%matplotlib inline"
   ]
  },
  {
   "cell_type": "markdown",
   "metadata": {},
   "source": [
    "# Explore Dataset"
   ]
  },
  {
   "cell_type": "code",
   "execution_count": 14,
   "metadata": {
    "collapsed": true
   },
   "outputs": [],
   "source": [
    "df = pd.read_csv(\"computations_12122015.csv\") "
   ]
  },
  {
   "cell_type": "code",
   "execution_count": 15,
   "metadata": {
    "collapsed": false
   },
   "outputs": [
    {
     "data": {
      "text/html": [
       "<div>\n",
       "<table border=\"1\" class=\"dataframe\">\n",
       "  <thead>\n",
       "    <tr style=\"text-align: right;\">\n",
       "      <th></th>\n",
       "      <th>id</th>\n",
       "      <th>totalcost</th>\n",
       "      <th>totalduration</th>\n",
       "      <th>airport</th>\n",
       "      <th>flightid</th>\n",
       "      <th>flightcost</th>\n",
       "      <th>parkingcost</th>\n",
       "      <th>drivingcost</th>\n",
       "      <th>timeleavehome</th>\n",
       "      <th>flightdeparture</th>\n",
       "      <th>flightduration</th>\n",
       "      <th>atairporttime</th>\n",
       "      <th>drivingduration</th>\n",
       "      <th>airline</th>\n",
       "      <th>costperhour</th>\n",
       "    </tr>\n",
       "  </thead>\n",
       "  <tbody>\n",
       "    <tr>\n",
       "      <th>0</th>\n",
       "      <td>1</td>\n",
       "      <td>180.81</td>\n",
       "      <td>552</td>\n",
       "      <td>BWI</td>\n",
       "      <td>2ciqOzND4aTUuEtKvqnX82002</td>\n",
       "      <td>143.1</td>\n",
       "      <td>35.6</td>\n",
       "      <td>2.11</td>\n",
       "      <td>2016-01-25T04:15</td>\n",
       "      <td>2016-01-25T07:40-05:00</td>\n",
       "      <td>360</td>\n",
       "      <td>120</td>\n",
       "      <td>72</td>\n",
       "      <td>AS</td>\n",
       "      <td>20.090000</td>\n",
       "    </tr>\n",
       "    <tr>\n",
       "      <th>1</th>\n",
       "      <td>2</td>\n",
       "      <td>189.31</td>\n",
       "      <td>698</td>\n",
       "      <td>BWI</td>\n",
       "      <td>2ciqOzND4aTUuEtKvqnX82007</td>\n",
       "      <td>151.6</td>\n",
       "      <td>35.6</td>\n",
       "      <td>2.11</td>\n",
       "      <td>2016-01-25T10:00</td>\n",
       "      <td>2016-01-25T13:20-05:00</td>\n",
       "      <td>511</td>\n",
       "      <td>120</td>\n",
       "      <td>67</td>\n",
       "      <td>UA</td>\n",
       "      <td>17.210000</td>\n",
       "    </tr>\n",
       "    <tr>\n",
       "      <th>2</th>\n",
       "      <td>3</td>\n",
       "      <td>189.31</td>\n",
       "      <td>821</td>\n",
       "      <td>BWI</td>\n",
       "      <td>2ciqOzND4aTUuEtKvqnX8200d</td>\n",
       "      <td>151.6</td>\n",
       "      <td>35.6</td>\n",
       "      <td>2.11</td>\n",
       "      <td>2016-01-25T05:00</td>\n",
       "      <td>2016-01-25T08:12-05:00</td>\n",
       "      <td>629</td>\n",
       "      <td>120</td>\n",
       "      <td>72</td>\n",
       "      <td>UA</td>\n",
       "      <td>14.562308</td>\n",
       "    </tr>\n",
       "    <tr>\n",
       "      <th>3</th>\n",
       "      <td>4</td>\n",
       "      <td>194.31</td>\n",
       "      <td>795</td>\n",
       "      <td>BWI</td>\n",
       "      <td>2ciqOzND4aTUuEtKvqnX8200E</td>\n",
       "      <td>156.6</td>\n",
       "      <td>35.6</td>\n",
       "      <td>2.11</td>\n",
       "      <td>2016-01-25T14:00</td>\n",
       "      <td>2016-01-25T17:15-05:00</td>\n",
       "      <td>607</td>\n",
       "      <td>120</td>\n",
       "      <td>68</td>\n",
       "      <td>AS</td>\n",
       "      <td>14.946923</td>\n",
       "    </tr>\n",
       "    <tr>\n",
       "      <th>4</th>\n",
       "      <td>5</td>\n",
       "      <td>194.31</td>\n",
       "      <td>775</td>\n",
       "      <td>BWI</td>\n",
       "      <td>2ciqOzND4aTUuEtKvqnX8200D</td>\n",
       "      <td>156.6</td>\n",
       "      <td>35.6</td>\n",
       "      <td>2.11</td>\n",
       "      <td>2016-01-25T14:00</td>\n",
       "      <td>2016-01-25T17:15-05:00</td>\n",
       "      <td>587</td>\n",
       "      <td>120</td>\n",
       "      <td>68</td>\n",
       "      <td>AS</td>\n",
       "      <td>16.192500</td>\n",
       "    </tr>\n",
       "  </tbody>\n",
       "</table>\n",
       "</div>"
      ],
      "text/plain": [
       "   id  totalcost  totalduration airport                   flightid  \\\n",
       "0   1     180.81            552     BWI  2ciqOzND4aTUuEtKvqnX82002   \n",
       "1   2     189.31            698     BWI  2ciqOzND4aTUuEtKvqnX82007   \n",
       "2   3     189.31            821     BWI  2ciqOzND4aTUuEtKvqnX8200d   \n",
       "3   4     194.31            795     BWI  2ciqOzND4aTUuEtKvqnX8200E   \n",
       "4   5     194.31            775     BWI  2ciqOzND4aTUuEtKvqnX8200D   \n",
       "\n",
       "   flightcost  parkingcost  drivingcost     timeleavehome  \\\n",
       "0       143.1         35.6         2.11  2016-01-25T04:15   \n",
       "1       151.6         35.6         2.11  2016-01-25T10:00   \n",
       "2       151.6         35.6         2.11  2016-01-25T05:00   \n",
       "3       156.6         35.6         2.11  2016-01-25T14:00   \n",
       "4       156.6         35.6         2.11  2016-01-25T14:00   \n",
       "\n",
       "          flightdeparture  flightduration  atairporttime  drivingduration  \\\n",
       "0  2016-01-25T07:40-05:00             360            120               72   \n",
       "1  2016-01-25T13:20-05:00             511            120               67   \n",
       "2  2016-01-25T08:12-05:00             629            120               72   \n",
       "3  2016-01-25T17:15-05:00             607            120               68   \n",
       "4  2016-01-25T17:15-05:00             587            120               68   \n",
       "\n",
       "  airline  costperhour  \n",
       "0      AS    20.090000  \n",
       "1      UA    17.210000  \n",
       "2      UA    14.562308  \n",
       "3      AS    14.946923  \n",
       "4      AS    16.192500  "
      ]
     },
     "execution_count": 15,
     "metadata": {},
     "output_type": "execute_result"
    }
   ],
   "source": [
    "df.head(5)"
   ]
  },
  {
   "cell_type": "code",
   "execution_count": 16,
   "metadata": {
    "collapsed": false
   },
   "outputs": [
    {
     "data": {
      "text/plain": [
       "['id',\n",
       " 'totalcost',\n",
       " 'totalduration',\n",
       " 'airport',\n",
       " 'flightid',\n",
       " 'flightcost',\n",
       " 'parkingcost',\n",
       " 'drivingcost',\n",
       " 'timeleavehome',\n",
       " 'flightdeparture',\n",
       " 'flightduration',\n",
       " 'atairporttime',\n",
       " 'drivingduration',\n",
       " 'airline',\n",
       " 'costperhour']"
      ]
     },
     "execution_count": 16,
     "metadata": {},
     "output_type": "execute_result"
    }
   ],
   "source": [
    "list(df.columns.values)"
   ]
  },
  {
   "cell_type": "code",
   "execution_count": 17,
   "metadata": {
    "collapsed": false
   },
   "outputs": [],
   "source": [
    "FEATURES  = [\n",
    "    \"flightcost\",\n",
    "    \"parkingcost\",\n",
    "    \"drivingcost\",\n",
    "    \"flightduration\",\n",
    "    \"atairporttime\",\n",
    "    \"drivingduration\",\n",
    "    \"airline\",\n",
    "    \"costperhour\"\n",
    "]\n",
    "\n",
    "LABEL_MAP = {\n",
    "    1: \"IAD\",\n",
    "    2: \"DCA\",\n",
    "    3: \"BWI\",\n",
    "}"
   ]
  },
  {
   "cell_type": "code",
   "execution_count": 18,
   "metadata": {
    "collapsed": false
   },
   "outputs": [
    {
     "name": "stdout",
     "output_type": "stream",
     "text": [
      "                id    totalcost  totalduration   flightcost  parkingcost  \\\n",
      "count  1316.000000  1316.000000    1316.000000  1316.000000  1316.000000   \n",
      "mean    658.500000   406.321345     880.164894   355.275479    49.581763   \n",
      "std     380.040787   132.397859     120.487133   133.837318    14.521403   \n",
      "min       1.000000   165.810000     470.000000   128.100000    35.600000   \n",
      "25%     329.750000   324.060000     809.000000   276.850000    40.000000   \n",
      "50%     658.500000   389.010000     884.000000   327.600000    40.000000   \n",
      "75%     987.250000   461.310000     956.000000   408.852500    68.000000   \n",
      "max    1316.000000  1624.310000    1289.000000  1586.600000    68.000000   \n",
      "\n",
      "       drivingcost  flightduration  atairporttime  drivingduration  \\\n",
      "count  1316.000000     1316.000000    1316.000000      1316.000000   \n",
      "mean      1.464103      731.861702     102.902736        45.400456   \n",
      "std       0.825445      111.163350      21.850017        19.918770   \n",
      "min       0.410000      350.000000      75.000000        21.000000   \n",
      "25%       0.410000      668.000000      75.000000        21.000000   \n",
      "50%       2.110000      741.000000     120.000000        52.000000   \n",
      "75%       2.110000      802.000000     120.000000        57.000000   \n",
      "max       2.110000     1097.000000     120.000000        72.000000   \n",
      "\n",
      "       costperhour  \n",
      "count  1316.000000  \n",
      "mean     29.352719  \n",
      "std      11.269272  \n",
      "min      12.967143  \n",
      "25%      22.952333  \n",
      "50%      27.154308  \n",
      "75%      32.417500  \n",
      "max     135.359167  \n"
     ]
    }
   ],
   "source": [
    "for k,v in LABEL_MAP.items():\n",
    "    df.ix[df.airport == k, 'airport'] = v\n",
    "\n",
    "# Describe the dataset\n",
    "print df.describe()"
   ]
  },
  {
   "cell_type": "code",
   "execution_count": 19,
   "metadata": {
    "collapsed": false
   },
   "outputs": [
    {
     "data": {
      "text/plain": [
       "0"
      ]
     },
     "execution_count": 19,
     "metadata": {},
     "output_type": "execute_result"
    }
   ],
   "source": [
    "sum(df['flightid'].isnull()) "
   ]
  },
  {
   "cell_type": "code",
   "execution_count": 20,
   "metadata": {
    "collapsed": false
   },
   "outputs": [
    {
     "data": {
      "text/html": [
       "<div>\n",
       "<table border=\"1\" class=\"dataframe\">\n",
       "  <thead>\n",
       "    <tr style=\"text-align: right;\">\n",
       "      <th></th>\n",
       "      <th>id</th>\n",
       "      <th>totalcost</th>\n",
       "      <th>totalduration</th>\n",
       "      <th>flightcost</th>\n",
       "      <th>parkingcost</th>\n",
       "      <th>drivingcost</th>\n",
       "      <th>flightduration</th>\n",
       "      <th>atairporttime</th>\n",
       "      <th>drivingduration</th>\n",
       "      <th>costperhour</th>\n",
       "    </tr>\n",
       "  </thead>\n",
       "  <tbody>\n",
       "    <tr>\n",
       "      <th>count</th>\n",
       "      <td>1316.000000</td>\n",
       "      <td>1316.000000</td>\n",
       "      <td>1316.000000</td>\n",
       "      <td>1316.000000</td>\n",
       "      <td>1316.000000</td>\n",
       "      <td>1316.000000</td>\n",
       "      <td>1316.000000</td>\n",
       "      <td>1316.000000</td>\n",
       "      <td>1316.000000</td>\n",
       "      <td>1316.000000</td>\n",
       "    </tr>\n",
       "    <tr>\n",
       "      <th>mean</th>\n",
       "      <td>658.500000</td>\n",
       "      <td>406.321345</td>\n",
       "      <td>880.164894</td>\n",
       "      <td>355.275479</td>\n",
       "      <td>49.581763</td>\n",
       "      <td>1.464103</td>\n",
       "      <td>731.861702</td>\n",
       "      <td>102.902736</td>\n",
       "      <td>45.400456</td>\n",
       "      <td>29.352719</td>\n",
       "    </tr>\n",
       "    <tr>\n",
       "      <th>std</th>\n",
       "      <td>380.040787</td>\n",
       "      <td>132.397859</td>\n",
       "      <td>120.487133</td>\n",
       "      <td>133.837318</td>\n",
       "      <td>14.521403</td>\n",
       "      <td>0.825445</td>\n",
       "      <td>111.163350</td>\n",
       "      <td>21.850017</td>\n",
       "      <td>19.918770</td>\n",
       "      <td>11.269272</td>\n",
       "    </tr>\n",
       "    <tr>\n",
       "      <th>min</th>\n",
       "      <td>1.000000</td>\n",
       "      <td>165.810000</td>\n",
       "      <td>470.000000</td>\n",
       "      <td>128.100000</td>\n",
       "      <td>35.600000</td>\n",
       "      <td>0.410000</td>\n",
       "      <td>350.000000</td>\n",
       "      <td>75.000000</td>\n",
       "      <td>21.000000</td>\n",
       "      <td>12.967143</td>\n",
       "    </tr>\n",
       "    <tr>\n",
       "      <th>25%</th>\n",
       "      <td>329.750000</td>\n",
       "      <td>324.060000</td>\n",
       "      <td>809.000000</td>\n",
       "      <td>276.850000</td>\n",
       "      <td>40.000000</td>\n",
       "      <td>0.410000</td>\n",
       "      <td>668.000000</td>\n",
       "      <td>75.000000</td>\n",
       "      <td>21.000000</td>\n",
       "      <td>22.952333</td>\n",
       "    </tr>\n",
       "    <tr>\n",
       "      <th>50%</th>\n",
       "      <td>658.500000</td>\n",
       "      <td>389.010000</td>\n",
       "      <td>884.000000</td>\n",
       "      <td>327.600000</td>\n",
       "      <td>40.000000</td>\n",
       "      <td>2.110000</td>\n",
       "      <td>741.000000</td>\n",
       "      <td>120.000000</td>\n",
       "      <td>52.000000</td>\n",
       "      <td>27.154308</td>\n",
       "    </tr>\n",
       "    <tr>\n",
       "      <th>75%</th>\n",
       "      <td>987.250000</td>\n",
       "      <td>461.310000</td>\n",
       "      <td>956.000000</td>\n",
       "      <td>408.852500</td>\n",
       "      <td>68.000000</td>\n",
       "      <td>2.110000</td>\n",
       "      <td>802.000000</td>\n",
       "      <td>120.000000</td>\n",
       "      <td>57.000000</td>\n",
       "      <td>32.417500</td>\n",
       "    </tr>\n",
       "    <tr>\n",
       "      <th>max</th>\n",
       "      <td>1316.000000</td>\n",
       "      <td>1624.310000</td>\n",
       "      <td>1289.000000</td>\n",
       "      <td>1586.600000</td>\n",
       "      <td>68.000000</td>\n",
       "      <td>2.110000</td>\n",
       "      <td>1097.000000</td>\n",
       "      <td>120.000000</td>\n",
       "      <td>72.000000</td>\n",
       "      <td>135.359167</td>\n",
       "    </tr>\n",
       "  </tbody>\n",
       "</table>\n",
       "</div>"
      ],
      "text/plain": [
       "                id    totalcost  totalduration   flightcost  parkingcost  \\\n",
       "count  1316.000000  1316.000000    1316.000000  1316.000000  1316.000000   \n",
       "mean    658.500000   406.321345     880.164894   355.275479    49.581763   \n",
       "std     380.040787   132.397859     120.487133   133.837318    14.521403   \n",
       "min       1.000000   165.810000     470.000000   128.100000    35.600000   \n",
       "25%     329.750000   324.060000     809.000000   276.850000    40.000000   \n",
       "50%     658.500000   389.010000     884.000000   327.600000    40.000000   \n",
       "75%     987.250000   461.310000     956.000000   408.852500    68.000000   \n",
       "max    1316.000000  1624.310000    1289.000000  1586.600000    68.000000   \n",
       "\n",
       "       drivingcost  flightduration  atairporttime  drivingduration  \\\n",
       "count  1316.000000     1316.000000    1316.000000      1316.000000   \n",
       "mean      1.464103      731.861702     102.902736        45.400456   \n",
       "std       0.825445      111.163350      21.850017        19.918770   \n",
       "min       0.410000      350.000000      75.000000        21.000000   \n",
       "25%       0.410000      668.000000      75.000000        21.000000   \n",
       "50%       2.110000      741.000000     120.000000        52.000000   \n",
       "75%       2.110000      802.000000     120.000000        57.000000   \n",
       "max       2.110000     1097.000000     120.000000        72.000000   \n",
       "\n",
       "       costperhour  \n",
       "count  1316.000000  \n",
       "mean     29.352719  \n",
       "std      11.269272  \n",
       "min      12.967143  \n",
       "25%      22.952333  \n",
       "50%      27.154308  \n",
       "75%      32.417500  \n",
       "max     135.359167  "
      ]
     },
     "execution_count": 20,
     "metadata": {},
     "output_type": "execute_result"
    }
   ],
   "source": [
    "df.describe()"
   ]
  },
  {
   "cell_type": "markdown",
   "metadata": {},
   "source": [
    "# Explore Dataset (airport)"
   ]
  },
  {
   "cell_type": "code",
   "execution_count": 21,
   "metadata": {
    "collapsed": false
   },
   "outputs": [
    {
     "name": "stdout",
     "output_type": "stream",
     "text": [
      "1316 instances with 15 features\n",
      "\n",
      "airport\n",
      "BWI    316\n",
      "DCA    500\n",
      "IAD    500\n",
      "Name: airport, dtype: int64\n"
     ]
    }
   ],
   "source": [
    "# Determine the shape of the data\n",
    "print \"{} instances with {} features\\n\".format(*df.shape)\n",
    "\n",
    "# Determine the frequency of each class\n",
    "print df.groupby('airport')['airport'].count()"
   ]
  },
  {
   "cell_type": "code",
   "execution_count": 22,
   "metadata": {
    "collapsed": false
   },
   "outputs": [
    {
     "data": {
      "text/plain": [
       "<matplotlib.axes._subplots.AxesSubplot at 0x1fe957f0>"
      ]
     },
     "execution_count": 22,
     "metadata": {},
     "output_type": "execute_result"
    },
    {
     "data": {
      "image/png": "[encoded data removed]",
      "text/plain": [
       "<matplotlib.figure.Figure at 0x1f9ef0f0>"
      ]
     },
     "metadata": {},
     "output_type": "display_data"
    }
   ],
   "source": [
    "fig, ax = plt.subplots()\n",
    "df['airport'].value_counts().plot(ax=ax, color=['r', 'g', 'b'],kind='bar')"
   ]
  },
  {
   "cell_type": "markdown",
   "metadata": {},
   "source": [
    "# Explore Dataset (airline)"
   ]
  },
  {
   "cell_type": "code",
   "execution_count": 23,
   "metadata": {
    "collapsed": false
   },
   "outputs": [
    {
     "name": "stdout",
     "output_type": "stream",
     "text": [
      "1316 instances with 15 features\n",
      "\n",
      "airline\n",
      "AC      15\n",
      "AS      15\n",
      "B6      39\n",
      "F9       1\n",
      "NK       3\n",
      "UA    1232\n",
      "VX      11\n",
      "Name: airline, dtype: int64\n"
     ]
    }
   ],
   "source": [
    "print \"{} instances with {} features\\n\".format(*df.shape)\n",
    "\n",
    "# Determine the frequency of each airline\n",
    "print df.groupby('airline')['airline'].count()"
   ]
  },
  {
   "cell_type": "code",
   "execution_count": 24,
   "metadata": {
    "collapsed": false
   },
   "outputs": [
    {
     "data": {
      "text/plain": [
       "<matplotlib.axes._subplots.AxesSubplot at 0x1fe824a8>"
      ]
     },
     "execution_count": 24,
     "metadata": {},
     "output_type": "execute_result"
    },
    {
     "data": {
      "image/png": "[encoded data removed]",
      "text/plain": [
       "<matplotlib.figure.Figure at 0x1f45fa58>"
      ]
     },
     "metadata": {},
     "output_type": "display_data"
    }
   ],
   "source": [
    "fig, ax = plt.subplots()\n",
    "df['airline'].value_counts().plot(ax=ax, color=['r', 'g', 'b'],kind='bar')"
   ]
  },
  {
   "cell_type": "markdown",
   "metadata": {},
   "source": [
    "# Flight Cost "
   ]
  },
  {
   "cell_type": "code",
   "execution_count": 25,
   "metadata": {
    "collapsed": false
   },
   "outputs": [
    {
     "data": {
      "image/png": "[encoded data removed]",
      "text/plain": [
       "<matplotlib.figure.Figure at 0x1fb3b0b8>"
      ]
     },
     "metadata": {},
     "output_type": "display_data"
    }
   ],
   "source": [
    "fig = plt.figure()\n",
    "ax = fig.add_subplot(111)\n",
    "ax.hist(df['flightcost'], bins = 40, range = (df['flightcost'].min(),df['totalcost'].max()))\n",
    "plt.title('flight cost distribution')\n",
    "plt.xlabel('flightcost')\n",
    "plt.ylabel('Count of Flights with same price range')\n",
    "plt.show()"
   ]
  },
  {
   "cell_type": "markdown",
   "metadata": {},
   "source": [
    "# Total Cost (flight cost, real time driving cost and parking cost)"
   ]
  },
  {
   "cell_type": "code",
   "execution_count": 26,
   "metadata": {
    "collapsed": false
   },
   "outputs": [
    {
     "data": {
      "image/png": "[encoded data removed]",
      "text/plain": [
       "<matplotlib.figure.Figure at 0x1feacc88>"
      ]
     },
     "metadata": {},
     "output_type": "display_data"
    }
   ],
   "source": [
    "fig = plt.figure()\n",
    "ax = fig.add_subplot(111)\n",
    "ax.hist(df['totalcost'], bins = 40, range = (df['flightcost'].min(),df['totalcost'].max()))\n",
    "plt.title('totalcost distribution')\n",
    "plt.xlabel('totalcost')\n",
    "plt.ylabel('Count of Flights with same total cost range')\n",
    "plt.show()"
   ]
  },
  {
   "cell_type": "markdown",
   "metadata": {},
   "source": [
    "# Flight Duration"
   ]
  },
  {
   "cell_type": "code",
   "execution_count": 27,
   "metadata": {
    "collapsed": false
   },
   "outputs": [
    {
     "data": {
      "image/png": "[encoded data removed]",
      "text/plain": [
       "<matplotlib.figure.Figure at 0x1fd87780>"
      ]
     },
     "metadata": {},
     "output_type": "display_data"
    }
   ],
   "source": [
    "fig = plt.figure()\n",
    "ax = fig.add_subplot(111)\n",
    "ax.hist(df['flightduration'], bins = 40, range = (df['flightduration'].min(),df['totalduration'].max()))\n",
    "plt.title('flight duration distribution')\n",
    "plt.xlabel('flightduration')\n",
    "plt.ylabel('Count of Flights with same duration range')\n",
    "plt.show()"
   ]
  },
  {
   "cell_type": "markdown",
   "metadata": {},
   "source": [
    "# Total Duration (flight duration, time at airport and real time driving duration)"
   ]
  },
  {
   "cell_type": "code",
   "execution_count": 28,
   "metadata": {
    "collapsed": false
   },
   "outputs": [
    {
     "data": {
      "image/png": "[encoded data removed]",
      "text/plain": [
       "<matplotlib.figure.Figure at 0x1f76af60>"
      ]
     },
     "metadata": {},
     "output_type": "display_data"
    }
   ],
   "source": [
    "fig = plt.figure()\n",
    "ax = fig.add_subplot(111)\n",
    "ax.hist(df['totalduration'], bins = 40, range = (df['flightduration'].min(),df['totalduration'].max()))\n",
    "plt.title('total duration distribution')\n",
    "plt.xlabel('totalduration')\n",
    "plt.ylabel('Count of Flights with same total duration range')\n",
    "plt.show()"
   ]
  },
  {
   "cell_type": "markdown",
   "metadata": {},
   "source": [
    "# User data"
   ]
  },
  {
   "cell_type": "code",
   "execution_count": 4,
   "metadata": {
    "collapsed": true
   },
   "outputs": [],
   "source": [
    "userdata = pd.read_csv(\"userdata.csv\") "
   ]
  },
  {
   "cell_type": "code",
   "execution_count": 5,
   "metadata": {
    "collapsed": false
   },
   "outputs": [
    {
     "data": {
      "text/html": [
       "<div>\n",
       "<table border=\"1\" class=\"dataframe\">\n",
       "  <thead>\n",
       "    <tr style=\"text-align: right;\">\n",
       "      <th></th>\n",
       "      <th>id</th>\n",
       "      <th>flightid</th>\n",
       "      <th>airline</th>\n",
       "      <th>flightnum</th>\n",
       "      <th>departime</th>\n",
       "      <th>cost</th>\n",
       "      <th>airport</th>\n",
       "      <th>flightdur</th>\n",
       "      <th>costperhour</th>\n",
       "    </tr>\n",
       "  </thead>\n",
       "  <tbody>\n",
       "    <tr>\n",
       "      <th>0</th>\n",
       "      <td>13</td>\n",
       "      <td>NaN</td>\n",
       "      <td>AA</td>\n",
       "      <td>245</td>\n",
       "      <td>17:15</td>\n",
       "      <td>181</td>\n",
       "      <td>DCA</td>\n",
       "      <td>355</td>\n",
       "      <td>31</td>\n",
       "    </tr>\n",
       "    <tr>\n",
       "      <th>1</th>\n",
       "      <td>14</td>\n",
       "      <td>NaN</td>\n",
       "      <td>AA</td>\n",
       "      <td>245</td>\n",
       "      <td>17:15</td>\n",
       "      <td>181</td>\n",
       "      <td>DCA</td>\n",
       "      <td>355</td>\n",
       "      <td>31</td>\n",
       "    </tr>\n",
       "    <tr>\n",
       "      <th>2</th>\n",
       "      <td>15</td>\n",
       "      <td>NaN</td>\n",
       "      <td>AA</td>\n",
       "      <td>245</td>\n",
       "      <td>17:15</td>\n",
       "      <td>181</td>\n",
       "      <td>DCA</td>\n",
       "      <td>355</td>\n",
       "      <td>31</td>\n",
       "    </tr>\n",
       "    <tr>\n",
       "      <th>3</th>\n",
       "      <td>16</td>\n",
       "      <td>NaN</td>\n",
       "      <td>VX</td>\n",
       "      <td>89</td>\n",
       "      <td>9:00</td>\n",
       "      <td>181</td>\n",
       "      <td>IAD</td>\n",
       "      <td>350</td>\n",
       "      <td>31</td>\n",
       "    </tr>\n",
       "    <tr>\n",
       "      <th>4</th>\n",
       "      <td>17</td>\n",
       "      <td>RSETozIzLjLQdvO1tO9iRU001</td>\n",
       "      <td>AS</td>\n",
       "      <td>5</td>\n",
       "      <td>9:15</td>\n",
       "      <td>181</td>\n",
       "      <td>DCA</td>\n",
       "      <td>374</td>\n",
       "      <td>29</td>\n",
       "    </tr>\n",
       "  </tbody>\n",
       "</table>\n",
       "</div>"
      ],
      "text/plain": [
       "   id                   flightid airline flightnum departime  cost airport  \\\n",
       "0  13                        NaN      AA       245     17:15   181     DCA   \n",
       "1  14                        NaN      AA       245     17:15   181     DCA   \n",
       "2  15                        NaN      AA       245     17:15   181     DCA   \n",
       "3  16                        NaN      VX        89      9:00   181     IAD   \n",
       "4  17  RSETozIzLjLQdvO1tO9iRU001      AS         5      9:15   181     DCA   \n",
       "\n",
       "   flightdur  costperhour  \n",
       "0        355           31  \n",
       "1        355           31  \n",
       "2        355           31  \n",
       "3        350           31  \n",
       "4        374           29  "
      ]
     },
     "execution_count": 5,
     "metadata": {},
     "output_type": "execute_result"
    }
   ],
   "source": [
    "userdata.head(5)"
   ]
  },
  {
   "cell_type": "code",
   "execution_count": 31,
   "metadata": {
    "collapsed": false
   },
   "outputs": [
    {
     "name": "stdout",
     "output_type": "stream",
     "text": [
      "the number of selectedflights is 34.\n",
      "selectedFlightForIAD is 5.\n",
      "selectedFlightForDCA is 17.\n",
      "selectedFlightForBWI is 12.\n"
     ]
    }
   ],
   "source": [
    "# Set some variables\n",
    "numberOfSelectedFlights = userdata.shape[0] \n",
    "selectedFlightForIAD = len(userdata[userdata.airport == 'IAD'])\n",
    "selectedFlightForDCA = len(userdata[userdata.airport == 'DCA'])\n",
    "selectedFlightForBWI = len(userdata[userdata.airport == 'BWI'])\n",
    "\n",
    "print 'the number of selectedflights is %d.' % numberOfSelectedFlights\n",
    "print 'selectedFlightForIAD is %d.' % selectedFlightForIAD\n",
    "print 'selectedFlightForDCA is %d.' % selectedFlightForDCA\n",
    "print 'selectedFlightForBWI is %d.' % selectedFlightForBWI"
   ]
  },
  {
   "cell_type": "code",
   "execution_count": 32,
   "metadata": {
    "collapsed": false
   },
   "outputs": [
    {
     "data": {
      "text/plain": [
       "<matplotlib.axes._subplots.AxesSubplot at 0x20642f28>"
      ]
     },
     "execution_count": 32,
     "metadata": {},
     "output_type": "execute_result"
    },
    {
     "data": {
      "image/png": "[encoded data removed]",
      "text/plain": [
       "<matplotlib.figure.Figure at 0x205d95f8>"
      ]
     },
     "metadata": {},
     "output_type": "display_data"
    }
   ],
   "source": [
    "fig, ax = plt.subplots()\n",
    "userdata['airport'].value_counts().plot(ax=ax, color=['r', 'g', 'b'],kind='bar')"
   ]
  },
  {
   "cell_type": "code",
   "execution_count": 33,
   "metadata": {
    "collapsed": false
   },
   "outputs": [
    {
     "name": "stdout",
     "output_type": "stream",
     "text": [
      "the number of selectedflights is 34.\n",
      "selectedFlightForAA is 7.\n",
      "selectedFlightForVX is 4.\n",
      "selectedFlightForAS is 9.\n",
      "selectedFlightForUA is 1.\n",
      "selectedFlightForNK is 11.\n",
      "selectedFlightForF9 is 1.\n",
      "selectedFlightForAK is 1.\n"
     ]
    }
   ],
   "source": [
    "numberOfSelectedFlights = userdata.shape[0] \n",
    "selectedFlightForAA = len(userdata[userdata.airline == 'AA'])\n",
    "selectedFlightForVX = len(userdata[userdata.airline == 'VX'])\n",
    "selectedFlightForAS = len(userdata[userdata.airline == 'AS'])\n",
    "selectedFlightForUA = len(userdata[userdata.airline == 'UA'])\n",
    "selectedFlightForNK = len(userdata[userdata.airline == 'NK'])\n",
    "selectedFlightForF9 = len(userdata[userdata.airline == 'F9'])\n",
    "selectedFlightForAK = len(userdata[userdata.airline == 'AK'])\n",
    "\n",
    "print 'the number of selectedflights is %d.' % numberOfSelectedFlights\n",
    "print 'selectedFlightForAA is %d.' % selectedFlightForAA\n",
    "print 'selectedFlightForVX is %d.' % selectedFlightForVX\n",
    "print 'selectedFlightForAS is %d.' % selectedFlightForAS\n",
    "print 'selectedFlightForUA is %d.' % selectedFlightForUA\n",
    "print 'selectedFlightForNK is %d.' % selectedFlightForNK\n",
    "print 'selectedFlightForF9 is %d.' % selectedFlightForF9\n",
    "print 'selectedFlightForAK is %d.' % selectedFlightForAK"
   ]
  },
  {
   "cell_type": "code",
   "execution_count": 34,
   "metadata": {
    "collapsed": false
   },
   "outputs": [
    {
     "data": {
      "text/plain": [
       "<matplotlib.axes._subplots.AxesSubplot at 0x205c9a58>"
      ]
     },
     "execution_count": 34,
     "metadata": {},
     "output_type": "execute_result"
    },
    {
     "data": {
      "image/png": "[encoded data removed]",
      "text/plain": [
       "<matplotlib.figure.Figure at 0x20606438>"
      ]
     },
     "metadata": {},
     "output_type": "display_data"
    }
   ],
   "source": [
    "fig, ax = plt.subplots()\n",
    "userdata['airline'].value_counts().plot(ax=ax, color=['r', 'g', 'b'],kind='bar')"
   ]
  },
  {
   "cell_type": "markdown",
   "metadata": {},
   "source": [
    "# Modeling (K-means clustering)"
   ]
  },
  {
   "cell_type": "code",
   "execution_count": 6,
   "metadata": {
    "collapsed": true
   },
   "outputs": [],
   "source": [
    "from sklearn.cluster import KMeans"
   ]
  },
  {
   "cell_type": "code",
   "execution_count": 7,
   "metadata": {
    "collapsed": true
   },
   "outputs": [],
   "source": [
    "import csv"
   ]
  },
  {
   "cell_type": "code",
   "execution_count": 8,
   "metadata": {
    "collapsed": true
   },
   "outputs": [],
   "source": [
    "x=[]\n",
    "y=[]"
   ]
  },
  {
   "cell_type": "code",
   "execution_count": 9,
   "metadata": {
    "collapsed": true
   },
   "outputs": [],
   "source": [
    "with open('userdata.csv', 'rb') as csvf:\n",
    "    reader = csv.reader(csvf, delimiter=',')\n",
    "    headers = next(reader)\n",
    "    for row in reader:\n",
    "        try:\n",
    "            x.append(float(row[5]))\n",
    "            y.append(float(row[7]))\n",
    "        except ValueError,e:\n",
    "            print \"error\",e,\"on line\",row"
   ]
  },
  {
   "cell_type": "code",
   "execution_count": 10,
   "metadata": {
    "collapsed": true
   },
   "outputs": [],
   "source": [
    "data=[]\n",
    "for i in range(0,34):\n",
    "  data.append([x[i],y[i]])"
   ]
  },
  {
   "cell_type": "code",
   "execution_count": 11,
   "metadata": {
    "collapsed": false
   },
   "outputs": [
    {
     "data": {
      "image/png": "[encoded data removed]",
      "text/plain": [
       "<matplotlib.figure.Figure at 0x1f421e48>"
      ]
     },
     "metadata": {},
     "output_type": "display_data"
    }
   ],
   "source": [
    "plt.figure(figsize=(6,6))\n",
    "\n",
    "plt.xlabel(\"cost\",fontsize=14)\n",
    "plt.ylabel(\"duration\", fontsize=14)\n",
    "\n",
    "plt.title(\"Before Clustering \", fontsize=20)\n",
    "\n",
    "plt.plot(x, y, 'k.', color='#0080ff', markersize=30, alpha=0.6)\n",
    "\n",
    "plt.show()"
   ]
  },
  {
   "cell_type": "code",
   "execution_count": 12,
   "metadata": {
    "collapsed": false
   },
   "outputs": [
    {
     "data": {
      "text/plain": [
       "KMeans(copy_x=True, init='k-means++', max_iter=300, n_clusters=3, n_init=10,\n",
       "    n_jobs=1, precompute_distances='auto', random_state=None, tol=0.0001,\n",
       "    verbose=0)"
      ]
     },
     "execution_count": 12,
     "metadata": {},
     "output_type": "execute_result"
    }
   ],
   "source": [
    "kmeans = KMeans(init='k-means++', n_clusters=3, n_init=10)\n",
    "\n",
    "# kmeans = KMeans(init='random', n_clusters=3, n_init=10)\n",
    "\n",
    "kmeans.fit(data)"
   ]
  },
  {
   "cell_type": "code",
   "execution_count": 43,
   "metadata": {
    "collapsed": false
   },
   "outputs": [
    {
     "data": {
      "image/png": "[encoded data removed]",
      "text/plain": [
       "<matplotlib.figure.Figure at 0x1fbc34a8>"
      ]
     },
     "metadata": {},
     "output_type": "display_data"
    }
   ],
   "source": [
    "plt.figure(figsize=(6,6))\n",
    "\n",
    "plt.xlabel(\"cost\",fontsize=14)\n",
    "plt.ylabel(\"duration\", fontsize=14)\n",
    "\n",
    "plt.title(\"After K-Means Clustering\", fontsize=20)\n",
    "\n",
    "plt.plot(x, y, 'k.', color='#ffaaaa', markersize=45, alpha=0.6)\n",
    "\n",
    "# Plot the centroids as a blue X\n",
    "centroids = kmeans.cluster_centers_\n",
    "\n",
    "plt.scatter(centroids[:, 0], centroids[:, 1], marker='x', s=200,\n",
    "  linewidths=3, color='b', zorder=10)\n",
    "plt.show()"
   ]
  },
  {
   "cell_type": "markdown",
   "metadata": {},
   "source": [
    "# Clustering (DBSCAN)"
   ]
  },
  {
   "cell_type": "code",
   "execution_count": 13,
   "metadata": {
    "collapsed": true
   },
   "outputs": [],
   "source": [
    "from sklearn.cluster import DBSCAN"
   ]
  },
  {
   "cell_type": "code",
   "execution_count": 14,
   "metadata": {
    "collapsed": true
   },
   "outputs": [],
   "source": [
    "dbscan = DBSCAN(random_state=111)"
   ]
  },
  {
   "cell_type": "code",
   "execution_count": 15,
   "metadata": {
    "collapsed": false
   },
   "outputs": [
    {
     "data": {
      "text/plain": [
       "DBSCAN(algorithm='auto', eps=0.5, leaf_size=30, metric='euclidean',\n",
       "    min_samples=5, p=None, random_state=111)"
      ]
     },
     "execution_count": 15,
     "metadata": {},
     "output_type": "execute_result"
    }
   ],
   "source": [
    "dbscan"
   ]
  },
  {
   "cell_type": "code",
   "execution_count": 16,
   "metadata": {
    "collapsed": false
   },
   "outputs": [
    {
     "name": "stderr",
     "output_type": "stream",
     "text": [
      "C:\\Users\\faye\\Anaconda2\\lib\\site-packages\\sklearn\\cluster\\dbscan_.py:106: DeprecationWarning: The parameter random_state is deprecated in 0.16 and will be removed in version 0.18. DBSCAN is deterministic except for rare border cases.\n",
      "  category=DeprecationWarning)\n"
     ]
    },
    {
     "data": {
      "text/plain": [
       "DBSCAN(algorithm='auto', eps=0.5, leaf_size=30, metric='euclidean',\n",
       "    min_samples=5, p=None, random_state=111)"
      ]
     },
     "execution_count": 16,
     "metadata": {},
     "output_type": "execute_result"
    }
   ],
   "source": [
    "dbscan.fit(data)"
   ]
  },
  {
   "cell_type": "code",
   "execution_count": 17,
   "metadata": {
    "collapsed": false
   },
   "outputs": [
    {
     "data": {
      "text/plain": [
       "array([ 0,  0,  0, -1, -1, -1,  1, -1,  1,  1,  0,  1,  1,  1, -1, -1, -1,\n",
       "       -1, -1,  1, -1, -1,  2,  2, -1,  0, -1, -1,  2,  2, -1, -1,  2, -1], dtype=int64)"
      ]
     },
     "execution_count": 17,
     "metadata": {},
     "output_type": "execute_result"
    }
   ],
   "source": [
    "dbscan.labels_"
   ]
  },
  {
   "cell_type": "code",
   "execution_count": 18,
   "metadata": {
    "collapsed": false
   },
   "outputs": [
    {
     "name": "stderr",
     "output_type": "stream",
     "text": [
      "C:\\Users\\faye\\Anaconda2\\lib\\site-packages\\matplotlib\\collections.py:590: FutureWarning: elementwise comparison failed; returning scalar instead, but in the future will perform elementwise comparison\n",
      "  if self._edgecolors == str('face'):\n"
     ]
    },
    {
     "data": {
      "image/png": "[encoded data removed]",
      "text/plain": [
       "<matplotlib.figure.Figure at 0x1f808b38>"
      ]
     },
     "metadata": {},
     "output_type": "display_data"
    }
   ],
   "source": [
    "for i in range(0, 34):\n",
    "    if dbscan.labels_[i] == 0:\n",
    "        c1 = plt.scatter(data[i][0],data[i][1],c='r',marker='+', s=200)\n",
    "    elif dbscan.labels_[i] == 1:\n",
    "        c2 = plt.scatter(data[i][0],data[i][1],c='g',marker='o', s=200)\n",
    "    elif dbscan.labels_[i] == 2:\n",
    "        c3 = plt.scatter(data[i][0],data[i][1],c='y',marker='x', s=200)\n",
    "    elif dbscan.labels_[i] == -1:\n",
    "        c4 = plt.scatter(data[i][0],data[i][1],c='b',marker='*', s=200)\n",
    "\n",
    "plt.legend([c1, c2, c3, c4], ['Cluster 1', 'Cluster 2','Cluster 3','Noise'])\n",
    "plt.title('DBSCAN finds 3 clusters and noise')\n",
    "plt.show()"
   ]
  },
  {
   "cell_type": "code",
   "execution_count": 44,
   "metadata": {
    "collapsed": false
   },
   "outputs": [],
   "source": [
    "#Some current studies show the following 3 major factors in purchasing flight:\n",
    "#Price (43%)\n",
    "#Schedule and convenient flight time (21%)\n",
    "#Frequent Flyer Program (13%)\n",
    "#costWeightFactor\n",
    "#durationWeightFactor\n",
    "costWeightFactor=0.21\n",
    "durationWeightFactor=0.43\n",
    "selectedIndexWithWeight=0\n",
    "selectedIndexAsIs=0\n",
    "selectedOneWithWeight=df['totalcost'][0]*costWeightFactor+df['totalduration'][0]*durationWeightFactor\n",
    "selectedOneAsIs=df['totalcost'][0]+df['totalduration'][0]\n",
    "for index, row in df.iterrows():\n",
    "    costFunctionWithWeight=row['totalcost']*costWeightFactor+row['totalduration']*durationWeightFactor\n",
    "    costFunctionAsIs=row['totalcost']+row['totalduration']\n",
    "    if costFunctionWithWeight < selectedOneWithWeight:\n",
    "        selectedOneWithWeight=costFunctionWithWeight\n",
    "        selectedIndexWithWeight=index\n",
    "        selectedCostPerHourWithWeight=row['costperhour']\n",
    "    if costFunctionAsIs < selectedOneAsIs:\n",
    "        selectedOneAsIs=costFunctionAsIs\n",
    "        selectedIndexAsIs=index \n",
    "        selectedCostPerHourAsIs=row['costperhour']\n"
   ]
  },
  {
   "cell_type": "markdown",
   "metadata": {},
   "source": [
    "# recommended flight (totalcost and total duration have equal weight)"
   ]
  },
  {
   "cell_type": "code",
   "execution_count": 45,
   "metadata": {
    "collapsed": false
   },
   "outputs": [
    {
     "name": "stdout",
     "output_type": "stream",
     "text": [
      "This is the recommended flight without weight factor:\n",
      "airport,      flightid,   flightcost, flightduration, costperhour\n"
     ]
    },
    {
     "data": {
      "text/plain": [
       "('BWI', '2ciqOzND4aTUuEtKvqnX82001', 128.1, 352, 18.423333333333332)"
      ]
     },
     "execution_count": 45,
     "metadata": {},
     "output_type": "execute_result"
    }
   ],
   "source": [
    "print \"This is the recommended flight without weight factor:\"\n",
    "print \"airport,      flightid,   flightcost, flightduration, costperhour\"\n",
    "df['airport'][selectedIndexAsIs],df['flightid'][selectedIndexAsIs],float(df['flightcost'][selectedIndexAsIs]),df['flightduration'][selectedIndexAsIs],float(df['costperhour'][selectedIndexAsIs])"
   ]
  },
  {
   "cell_type": "markdown",
   "metadata": {},
   "source": [
    "# recommended flight (totalcost and totalduration have different weight factor)"
   ]
  },
  {
   "cell_type": "code",
   "execution_count": 46,
   "metadata": {
    "collapsed": false
   },
   "outputs": [
    {
     "name": "stdout",
     "output_type": "stream",
     "text": [
      "This is the recommended flight with weight factor (the weight factor is based on a research):\n",
      "airport,      flightid,   flightcost, flightduration, costperhour\n"
     ]
    },
    {
     "data": {
      "text/plain": [
       "('DCA', 'RSETozIzLjLQdvO1tO9iRU001', 180.1, 374, 35.501428571428569)"
      ]
     },
     "execution_count": 46,
     "metadata": {},
     "output_type": "execute_result"
    }
   ],
   "source": [
    "print \"This is the recommended flight with weight factor (the weight factor is based on a research):\"\n",
    "print \"airport,      flightid,   flightcost, flightduration, costperhour\"\n",
    "df['airport'][selectedIndexWithWeight],df['flightid'][selectedIndexWithWeight],float(df['flightcost'][selectedIndexWithWeight]),df['flightduration'][selectedIndexWithWeight],df['costperhour'][selectedIndexWithWeight]"
   ]
  },
  {
   "cell_type": "code",
   "execution_count": null,
   "metadata": {
    "collapsed": true
   },
   "outputs": [],
   "source": []
  }
 ],
 "metadata": {
  "kernelspec": {
   "display_name": "Python 2",
   "language": "python",
   "name": "python2"
  },
  "language_info": {
   "codemirror_mode": {
    "name": "ipython",
    "version": 2
   },
   "file_extension": ".py",
   "mimetype": "text/x-python",
   "name": "python",
   "nbconvert_exporter": "python",
   "pygments_lexer": "ipython2",
   "version": "2.7.10"
  }
 },
 "nbformat": 4,
 "nbformat_minor": 0
}
