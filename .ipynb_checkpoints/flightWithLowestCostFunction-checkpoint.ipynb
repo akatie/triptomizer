{
 "cells": [
  {
   "cell_type": "code",
   "execution_count": 1,
   "metadata": {
    "collapsed": true
   },
   "outputs": [],
   "source": [
    "import pandas as pd\n",
    "import numpy as np\n",
    "import matplotlib.pyplot as plt\n",
    "import pandas.io.sql as pd_sql\n",
    "\n",
    "%matplotlib inline"
   ]
  },
  {
   "cell_type": "markdown",
   "metadata": {},
   "source": [
    "# Explore Dataset"
   ]
  },
  {
   "cell_type": "code",
   "execution_count": 167,
   "metadata": {
    "collapsed": true
   },
   "outputs": [],
   "source": [
    "df = pd.read_csv(\"computations_12122015.csv\") "
   ]
  },
  {
   "cell_type": "code",
   "execution_count": 168,
   "metadata": {
    "collapsed": false
   },
   "outputs": [
    {
     "data": {
      "text/html": [
       "<div>\n",
       "<table border=\"1\" class=\"dataframe\">\n",
       "  <thead>\n",
       "    <tr style=\"text-align: right;\">\n",
       "      <th></th>\n",
       "      <th>id</th>\n",
       "      <th>totalcost</th>\n",
       "      <th>totalduration</th>\n",
       "      <th>airport</th>\n",
       "      <th>flightid</th>\n",
       "      <th>flightcost</th>\n",
       "      <th>parkingcost</th>\n",
       "      <th>drivingcost</th>\n",
       "      <th>timeleavehome</th>\n",
       "      <th>flightdeparture</th>\n",
       "      <th>flightduration</th>\n",
       "      <th>atairporttime</th>\n",
       "      <th>drivingduration</th>\n",
       "      <th>airline</th>\n",
       "      <th>costperhour</th>\n",
       "    </tr>\n",
       "  </thead>\n",
       "  <tbody>\n",
       "    <tr>\n",
       "      <th>0</th>\n",
       "      <td>1</td>\n",
       "      <td>180.81</td>\n",
       "      <td>552</td>\n",
       "      <td>BWI</td>\n",
       "      <td>2ciqOzND4aTUuEtKvqnX82002</td>\n",
       "      <td>143.1</td>\n",
       "      <td>35.6</td>\n",
       "      <td>2.11</td>\n",
       "      <td>2016-01-25T04:15</td>\n",
       "      <td>2016-01-25T07:40-05:00</td>\n",
       "      <td>360</td>\n",
       "      <td>120</td>\n",
       "      <td>72</td>\n",
       "      <td>AS</td>\n",
       "      <td>20.090000</td>\n",
       "    </tr>\n",
       "    <tr>\n",
       "      <th>1</th>\n",
       "      <td>2</td>\n",
       "      <td>189.31</td>\n",
       "      <td>698</td>\n",
       "      <td>BWI</td>\n",
       "      <td>2ciqOzND4aTUuEtKvqnX82007</td>\n",
       "      <td>151.6</td>\n",
       "      <td>35.6</td>\n",
       "      <td>2.11</td>\n",
       "      <td>2016-01-25T10:00</td>\n",
       "      <td>2016-01-25T13:20-05:00</td>\n",
       "      <td>511</td>\n",
       "      <td>120</td>\n",
       "      <td>67</td>\n",
       "      <td>UA</td>\n",
       "      <td>17.210000</td>\n",
       "    </tr>\n",
       "    <tr>\n",
       "      <th>2</th>\n",
       "      <td>3</td>\n",
       "      <td>189.31</td>\n",
       "      <td>821</td>\n",
       "      <td>BWI</td>\n",
       "      <td>2ciqOzND4aTUuEtKvqnX8200d</td>\n",
       "      <td>151.6</td>\n",
       "      <td>35.6</td>\n",
       "      <td>2.11</td>\n",
       "      <td>2016-01-25T05:00</td>\n",
       "      <td>2016-01-25T08:12-05:00</td>\n",
       "      <td>629</td>\n",
       "      <td>120</td>\n",
       "      <td>72</td>\n",
       "      <td>UA</td>\n",
       "      <td>14.562308</td>\n",
       "    </tr>\n",
       "    <tr>\n",
       "      <th>3</th>\n",
       "      <td>4</td>\n",
       "      <td>194.31</td>\n",
       "      <td>795</td>\n",
       "      <td>BWI</td>\n",
       "      <td>2ciqOzND4aTUuEtKvqnX8200E</td>\n",
       "      <td>156.6</td>\n",
       "      <td>35.6</td>\n",
       "      <td>2.11</td>\n",
       "      <td>2016-01-25T14:00</td>\n",
       "      <td>2016-01-25T17:15-05:00</td>\n",
       "      <td>607</td>\n",
       "      <td>120</td>\n",
       "      <td>68</td>\n",
       "      <td>AS</td>\n",
       "      <td>14.946923</td>\n",
       "    </tr>\n",
       "    <tr>\n",
       "      <th>4</th>\n",
       "      <td>5</td>\n",
       "      <td>194.31</td>\n",
       "      <td>775</td>\n",
       "      <td>BWI</td>\n",
       "      <td>2ciqOzND4aTUuEtKvqnX8200D</td>\n",
       "      <td>156.6</td>\n",
       "      <td>35.6</td>\n",
       "      <td>2.11</td>\n",
       "      <td>2016-01-25T14:00</td>\n",
       "      <td>2016-01-25T17:15-05:00</td>\n",
       "      <td>587</td>\n",
       "      <td>120</td>\n",
       "      <td>68</td>\n",
       "      <td>AS</td>\n",
       "      <td>16.192500</td>\n",
       "    </tr>\n",
       "  </tbody>\n",
       "</table>\n",
       "</div>"
      ],
      "text/plain": [
       "   id  totalcost  totalduration airport                   flightid  \\\n",
       "0   1     180.81            552     BWI  2ciqOzND4aTUuEtKvqnX82002   \n",
       "1   2     189.31            698     BWI  2ciqOzND4aTUuEtKvqnX82007   \n",
       "2   3     189.31            821     BWI  2ciqOzND4aTUuEtKvqnX8200d   \n",
       "3   4     194.31            795     BWI  2ciqOzND4aTUuEtKvqnX8200E   \n",
       "4   5     194.31            775     BWI  2ciqOzND4aTUuEtKvqnX8200D   \n",
       "\n",
       "   flightcost  parkingcost  drivingcost     timeleavehome  \\\n",
       "0       143.1         35.6         2.11  2016-01-25T04:15   \n",
       "1       151.6         35.6         2.11  2016-01-25T10:00   \n",
       "2       151.6         35.6         2.11  2016-01-25T05:00   \n",
       "3       156.6         35.6         2.11  2016-01-25T14:00   \n",
       "4       156.6         35.6         2.11  2016-01-25T14:00   \n",
       "\n",
       "          flightdeparture  flightduration  atairporttime  drivingduration  \\\n",
       "0  2016-01-25T07:40-05:00             360            120               72   \n",
       "1  2016-01-25T13:20-05:00             511            120               67   \n",
       "2  2016-01-25T08:12-05:00             629            120               72   \n",
       "3  2016-01-25T17:15-05:00             607            120               68   \n",
       "4  2016-01-25T17:15-05:00             587            120               68   \n",
       "\n",
       "  airline  costperhour  \n",
       "0      AS    20.090000  \n",
       "1      UA    17.210000  \n",
       "2      UA    14.562308  \n",
       "3      AS    14.946923  \n",
       "4      AS    16.192500  "
      ]
     },
     "execution_count": 168,
     "metadata": {},
     "output_type": "execute_result"
    }
   ],
   "source": [
    "df.head(5)"
   ]
  },
  {
   "cell_type": "code",
   "execution_count": 169,
   "metadata": {
    "collapsed": false
   },
   "outputs": [
    {
     "data": {
      "text/plain": [
       "['id',\n",
       " 'totalcost',\n",
       " 'totalduration',\n",
       " 'airport',\n",
       " 'flightid',\n",
       " 'flightcost',\n",
       " 'parkingcost',\n",
       " 'drivingcost',\n",
       " 'timeleavehome',\n",
       " 'flightdeparture',\n",
       " 'flightduration',\n",
       " 'atairporttime',\n",
       " 'drivingduration',\n",
       " 'airline',\n",
       " 'costperhour']"
      ]
     },
     "execution_count": 169,
     "metadata": {},
     "output_type": "execute_result"
    }
   ],
   "source": [
    "list(df.columns.values)"
   ]
  },
  {
   "cell_type": "code",
   "execution_count": 170,
   "metadata": {
    "collapsed": false
   },
   "outputs": [],
   "source": [
    "FEATURES  = [\n",
    "    \"flightcost\",\n",
    "    \"parkingcost\",\n",
    "    \"drivingcost\",\n",
    "    \"flightduration\",\n",
    "    \"atairporttime\",\n",
    "    \"drivingduration\",\n",
    "    \"airline\",\n",
    "    \"costperhour\"\n",
    "]\n",
    "\n",
    "LABEL_MAP = {\n",
    "    1: \"IAD\",\n",
    "    2: \"DCA\",\n",
    "    3: \"BWI\",\n",
    "}"
   ]
  },
  {
   "cell_type": "code",
   "execution_count": 6,
   "metadata": {
    "collapsed": false
   },
   "outputs": [
    {
     "name": "stdout",
     "output_type": "stream",
     "text": [
      "                id    totalcost  totalduration   flightcost  parkingcost  \\\n",
      "count  1316.000000  1316.000000    1316.000000  1316.000000  1316.000000   \n",
      "mean    658.500000   406.321345     880.164894   355.275479    49.581763   \n",
      "std     380.040787   132.397859     120.487133   133.837318    14.521403   \n",
      "min       1.000000   165.810000     470.000000   128.100000    35.600000   \n",
      "25%     329.750000   324.060000     809.000000   276.850000    40.000000   \n",
      "50%     658.500000   389.010000     884.000000   327.600000    40.000000   \n",
      "75%     987.250000   461.310000     956.000000   408.852500    68.000000   \n",
      "max    1316.000000  1624.310000    1289.000000  1586.600000    68.000000   \n",
      "\n",
      "       drivingcost  flightduration  atairporttime  drivingduration  \n",
      "count  1316.000000     1316.000000    1316.000000      1316.000000  \n",
      "mean      1.464103      731.861702     102.902736        45.400456  \n",
      "std       0.825445      111.163350      21.850017        19.918770  \n",
      "min       0.410000      350.000000      75.000000        21.000000  \n",
      "25%       0.410000      668.000000      75.000000        21.000000  \n",
      "50%       2.110000      741.000000     120.000000        52.000000  \n",
      "75%       2.110000      802.000000     120.000000        57.000000  \n",
      "max       2.110000     1097.000000     120.000000        72.000000  \n"
     ]
    }
   ],
   "source": [
    "for k,v in LABEL_MAP.items():\n",
    "    df.ix[df.airport == k, 'airport'] = v\n",
    "\n",
    "# Describe the dataset\n",
    "print df.describe()"
   ]
  },
  {
   "cell_type": "code",
   "execution_count": 8,
   "metadata": {
    "collapsed": false
   },
   "outputs": [
    {
     "data": {
      "text/plain": [
       "0"
      ]
     },
     "execution_count": 8,
     "metadata": {},
     "output_type": "execute_result"
    }
   ],
   "source": [
    "sum(df['flightid'].isnull()) "
   ]
  },
  {
   "cell_type": "code",
   "execution_count": 9,
   "metadata": {
    "collapsed": false
   },
   "outputs": [
    {
     "data": {
      "text/html": [
       "<div>\n",
       "<table border=\"1\" class=\"dataframe\">\n",
       "  <thead>\n",
       "    <tr style=\"text-align: right;\">\n",
       "      <th></th>\n",
       "      <th>id</th>\n",
       "      <th>totalcost</th>\n",
       "      <th>totalduration</th>\n",
       "      <th>flightcost</th>\n",
       "      <th>parkingcost</th>\n",
       "      <th>drivingcost</th>\n",
       "      <th>flightduration</th>\n",
       "      <th>atairporttime</th>\n",
       "      <th>drivingduration</th>\n",
       "    </tr>\n",
       "  </thead>\n",
       "  <tbody>\n",
       "    <tr>\n",
       "      <th>count</th>\n",
       "      <td>1316.000000</td>\n",
       "      <td>1316.000000</td>\n",
       "      <td>1316.000000</td>\n",
       "      <td>1316.000000</td>\n",
       "      <td>1316.000000</td>\n",
       "      <td>1316.000000</td>\n",
       "      <td>1316.000000</td>\n",
       "      <td>1316.000000</td>\n",
       "      <td>1316.000000</td>\n",
       "    </tr>\n",
       "    <tr>\n",
       "      <th>mean</th>\n",
       "      <td>658.500000</td>\n",
       "      <td>406.321345</td>\n",
       "      <td>880.164894</td>\n",
       "      <td>355.275479</td>\n",
       "      <td>49.581763</td>\n",
       "      <td>1.464103</td>\n",
       "      <td>731.861702</td>\n",
       "      <td>102.902736</td>\n",
       "      <td>45.400456</td>\n",
       "    </tr>\n",
       "    <tr>\n",
       "      <th>std</th>\n",
       "      <td>380.040787</td>\n",
       "      <td>132.397859</td>\n",
       "      <td>120.487133</td>\n",
       "      <td>133.837318</td>\n",
       "      <td>14.521403</td>\n",
       "      <td>0.825445</td>\n",
       "      <td>111.163350</td>\n",
       "      <td>21.850017</td>\n",
       "      <td>19.918770</td>\n",
       "    </tr>\n",
       "    <tr>\n",
       "      <th>min</th>\n",
       "      <td>1.000000</td>\n",
       "      <td>165.810000</td>\n",
       "      <td>470.000000</td>\n",
       "      <td>128.100000</td>\n",
       "      <td>35.600000</td>\n",
       "      <td>0.410000</td>\n",
       "      <td>350.000000</td>\n",
       "      <td>75.000000</td>\n",
       "      <td>21.000000</td>\n",
       "    </tr>\n",
       "    <tr>\n",
       "      <th>25%</th>\n",
       "      <td>329.750000</td>\n",
       "      <td>324.060000</td>\n",
       "      <td>809.000000</td>\n",
       "      <td>276.850000</td>\n",
       "      <td>40.000000</td>\n",
       "      <td>0.410000</td>\n",
       "      <td>668.000000</td>\n",
       "      <td>75.000000</td>\n",
       "      <td>21.000000</td>\n",
       "    </tr>\n",
       "    <tr>\n",
       "      <th>50%</th>\n",
       "      <td>658.500000</td>\n",
       "      <td>389.010000</td>\n",
       "      <td>884.000000</td>\n",
       "      <td>327.600000</td>\n",
       "      <td>40.000000</td>\n",
       "      <td>2.110000</td>\n",
       "      <td>741.000000</td>\n",
       "      <td>120.000000</td>\n",
       "      <td>52.000000</td>\n",
       "    </tr>\n",
       "    <tr>\n",
       "      <th>75%</th>\n",
       "      <td>987.250000</td>\n",
       "      <td>461.310000</td>\n",
       "      <td>956.000000</td>\n",
       "      <td>408.852500</td>\n",
       "      <td>68.000000</td>\n",
       "      <td>2.110000</td>\n",
       "      <td>802.000000</td>\n",
       "      <td>120.000000</td>\n",
       "      <td>57.000000</td>\n",
       "    </tr>\n",
       "    <tr>\n",
       "      <th>max</th>\n",
       "      <td>1316.000000</td>\n",
       "      <td>1624.310000</td>\n",
       "      <td>1289.000000</td>\n",
       "      <td>1586.600000</td>\n",
       "      <td>68.000000</td>\n",
       "      <td>2.110000</td>\n",
       "      <td>1097.000000</td>\n",
       "      <td>120.000000</td>\n",
       "      <td>72.000000</td>\n",
       "    </tr>\n",
       "  </tbody>\n",
       "</table>\n",
       "</div>"
      ],
      "text/plain": [
       "                id    totalcost  totalduration   flightcost  parkingcost  \\\n",
       "count  1316.000000  1316.000000    1316.000000  1316.000000  1316.000000   \n",
       "mean    658.500000   406.321345     880.164894   355.275479    49.581763   \n",
       "std     380.040787   132.397859     120.487133   133.837318    14.521403   \n",
       "min       1.000000   165.810000     470.000000   128.100000    35.600000   \n",
       "25%     329.750000   324.060000     809.000000   276.850000    40.000000   \n",
       "50%     658.500000   389.010000     884.000000   327.600000    40.000000   \n",
       "75%     987.250000   461.310000     956.000000   408.852500    68.000000   \n",
       "max    1316.000000  1624.310000    1289.000000  1586.600000    68.000000   \n",
       "\n",
       "       drivingcost  flightduration  atairporttime  drivingduration  \n",
       "count  1316.000000     1316.000000    1316.000000      1316.000000  \n",
       "mean      1.464103      731.861702     102.902736        45.400456  \n",
       "std       0.825445      111.163350      21.850017        19.918770  \n",
       "min       0.410000      350.000000      75.000000        21.000000  \n",
       "25%       0.410000      668.000000      75.000000        21.000000  \n",
       "50%       2.110000      741.000000     120.000000        52.000000  \n",
       "75%       2.110000      802.000000     120.000000        57.000000  \n",
       "max       2.110000     1097.000000     120.000000        72.000000  "
      ]
     },
     "execution_count": 9,
     "metadata": {},
     "output_type": "execute_result"
    }
   ],
   "source": [
    "df.describe()"
   ]
  },
  {
   "cell_type": "code",
   "execution_count": 10,
   "metadata": {
    "collapsed": false
   },
   "outputs": [
    {
     "data": {
      "text/plain": [
       "355.2754787233954"
      ]
     },
     "execution_count": 10,
     "metadata": {},
     "output_type": "execute_result"
    }
   ],
   "source": [
    "df['flightcost'].mean()"
   ]
  },
  {
   "cell_type": "code",
   "execution_count": 11,
   "metadata": {
    "collapsed": false
   },
   "outputs": [
    {
     "data": {
      "text/plain": [
       "327.6"
      ]
     },
     "execution_count": 11,
     "metadata": {},
     "output_type": "execute_result"
    }
   ],
   "source": [
    "df['flightcost'].median()"
   ]
  },
  {
   "cell_type": "code",
   "execution_count": 12,
   "metadata": {
    "collapsed": false
   },
   "outputs": [
    {
     "data": {
      "text/plain": [
       "731.8617021276596"
      ]
     },
     "execution_count": 12,
     "metadata": {},
     "output_type": "execute_result"
    }
   ],
   "source": [
    "df['flightduration'].mean()"
   ]
  },
  {
   "cell_type": "code",
   "execution_count": 13,
   "metadata": {
    "collapsed": false
   },
   "outputs": [
    {
     "data": {
      "text/plain": [
       "741.0"
      ]
     },
     "execution_count": 13,
     "metadata": {},
     "output_type": "execute_result"
    }
   ],
   "source": [
    "df['flightduration'].median()"
   ]
  },
  {
   "cell_type": "code",
   "execution_count": 14,
   "metadata": {
    "collapsed": false
   },
   "outputs": [
    {
     "data": {
      "text/plain": [
       "406.32134498480644"
      ]
     },
     "execution_count": 14,
     "metadata": {},
     "output_type": "execute_result"
    }
   ],
   "source": [
    "df['totalcost'].mean()"
   ]
  },
  {
   "cell_type": "code",
   "execution_count": 15,
   "metadata": {
    "collapsed": false
   },
   "outputs": [
    {
     "data": {
      "text/plain": [
       "389.01"
      ]
     },
     "execution_count": 15,
     "metadata": {},
     "output_type": "execute_result"
    }
   ],
   "source": [
    "df['totalcost'].median()"
   ]
  },
  {
   "cell_type": "code",
   "execution_count": 16,
   "metadata": {
    "collapsed": false
   },
   "outputs": [
    {
     "data": {
      "text/plain": [
       "880.1648936170212"
      ]
     },
     "execution_count": 16,
     "metadata": {},
     "output_type": "execute_result"
    }
   ],
   "source": [
    "df['totalduration'].mean()"
   ]
  },
  {
   "cell_type": "code",
   "execution_count": 17,
   "metadata": {
    "collapsed": false
   },
   "outputs": [
    {
     "data": {
      "text/plain": [
       "884.0"
      ]
     },
     "execution_count": 17,
     "metadata": {},
     "output_type": "execute_result"
    }
   ],
   "source": [
    "df['totalduration'].median()"
   ]
  },
  {
   "cell_type": "code",
   "execution_count": 144,
   "metadata": {
    "collapsed": false
   },
   "outputs": [
    {
     "data": {
      "text/plain": [
       "0.4711683277792848"
      ]
     },
     "execution_count": 144,
     "metadata": {},
     "output_type": "execute_result"
    }
   ],
   "source": [
    "df['costperhour'].mean()"
   ]
  },
  {
   "cell_type": "code",
   "execution_count": 145,
   "metadata": {
    "collapsed": false
   },
   "outputs": [
    {
     "data": {
      "text/plain": [
       "0.4362536728046267"
      ]
     },
     "execution_count": 145,
     "metadata": {},
     "output_type": "execute_result"
    }
   ],
   "source": [
    "df['costperhour'].median()"
   ]
  },
  {
   "cell_type": "code",
   "execution_count": 18,
   "metadata": {
    "collapsed": false
   },
   "outputs": [
    {
     "data": {
      "text/plain": [
       "1316"
      ]
     },
     "execution_count": 18,
     "metadata": {},
     "output_type": "execute_result"
    }
   ],
   "source": [
    "df['flightid'].nunique()"
   ]
  },
  {
   "cell_type": "markdown",
   "metadata": {},
   "source": [
    "# Explore Dataset (airport)"
   ]
  },
  {
   "cell_type": "code",
   "execution_count": 19,
   "metadata": {
    "collapsed": false
   },
   "outputs": [
    {
     "name": "stdout",
     "output_type": "stream",
     "text": [
      "1316 instances with 14 features\n",
      "\n",
      "airport\n",
      "BWI    316\n",
      "DCA    500\n",
      "IAD    500\n",
      "Name: airport, dtype: int64\n"
     ]
    }
   ],
   "source": [
    "# Determine the shape of the data\n",
    "print \"{} instances with {} features\\n\".format(*df.shape)\n",
    "\n",
    "# Determine the frequency of each class\n",
    "print df.groupby('airport')['airport'].count()"
   ]
  },
  {
   "cell_type": "code",
   "execution_count": 20,
   "metadata": {
    "collapsed": false
   },
   "outputs": [
    {
     "data": {
      "text/plain": [
       "<matplotlib.axes._subplots.AxesSubplot at 0xc4dc5f8>"
      ]
     },
     "execution_count": 20,
     "metadata": {},
     "output_type": "execute_result"
    },
    {
     "data": {
      "image/png": "[encoded data removed]",
      "text/plain": [
       "<matplotlib.figure.Figure at 0xc3a5eb8>"
      ]
     },
     "metadata": {},
     "output_type": "display_data"
    }
   ],
   "source": [
    "fig, ax = plt.subplots()\n",
    "df['airport'].value_counts().plot(ax=ax, color=['r', 'g', 'b'],kind='bar')"
   ]
  },
  {
   "cell_type": "markdown",
   "metadata": {},
   "source": [
    "# Explore Dataset (airline)"
   ]
  },
  {
   "cell_type": "code",
   "execution_count": 21,
   "metadata": {
    "collapsed": false
   },
   "outputs": [
    {
     "name": "stdout",
     "output_type": "stream",
     "text": [
      "1316 instances with 14 features\n",
      "\n",
      "airline\n",
      "AC      15\n",
      "AS      15\n",
      "B6      39\n",
      "F9       1\n",
      "NK       3\n",
      "UA    1232\n",
      "VX      11\n",
      "Name: airline, dtype: int64\n"
     ]
    }
   ],
   "source": [
    "print \"{} instances with {} features\\n\".format(*df.shape)\n",
    "\n",
    "# Determine the frequency of each airline\n",
    "print df.groupby('airline')['airline'].count()"
   ]
  },
  {
   "cell_type": "code",
   "execution_count": 22,
   "metadata": {
    "collapsed": false
   },
   "outputs": [
    {
     "data": {
      "text/plain": [
       "<matplotlib.axes._subplots.AxesSubplot at 0xc809550>"
      ]
     },
     "execution_count": 22,
     "metadata": {},
     "output_type": "execute_result"
    },
    {
     "data": {
      "image/png": "[encoded data removed]",
      "text/plain": [
       "<matplotlib.figure.Figure at 0xc4dc2b0>"
      ]
     },
     "metadata": {},
     "output_type": "display_data"
    }
   ],
   "source": [
    "fig, ax = plt.subplots()\n",
    "df['airline'].value_counts().plot(ax=ax, color=['r', 'g', 'b'],kind='bar')"
   ]
  },
  {
   "cell_type": "markdown",
   "metadata": {},
   "source": [
    "# Flight Cost "
   ]
  },
  {
   "cell_type": "code",
   "execution_count": 23,
   "metadata": {
    "collapsed": false
   },
   "outputs": [
    {
     "data": {
      "image/png": "[encoded data removed]",
      "text/plain": [
       "<matplotlib.figure.Figure at 0xc5caac8>"
      ]
     },
     "metadata": {},
     "output_type": "display_data"
    }
   ],
   "source": [
    "fig = plt.figure()\n",
    "ax = fig.add_subplot(111)\n",
    "ax.hist(df['flightcost'], bins = 40, range = (df['flightcost'].min(),df['totalcost'].max()))\n",
    "plt.title('flight cost distribution')\n",
    "plt.xlabel('flightcost')\n",
    "plt.ylabel('Count of Flights with same price range')\n",
    "plt.show()"
   ]
  },
  {
   "cell_type": "markdown",
   "metadata": {},
   "source": [
    "# Total Cost (flight cost, real time driving cost and parking cost)"
   ]
  },
  {
   "cell_type": "code",
   "execution_count": 24,
   "metadata": {
    "collapsed": false
   },
   "outputs": [
    {
     "data": {
      "image/png": "[encoded data removed]",
      "text/plain": [
       "<matplotlib.figure.Figure at 0xc4dc208>"
      ]
     },
     "metadata": {},
     "output_type": "display_data"
    }
   ],
   "source": [
    "fig = plt.figure()\n",
    "ax = fig.add_subplot(111)\n",
    "ax.hist(df['totalcost'], bins = 40, range = (df['flightcost'].min(),df['totalcost'].max()))\n",
    "plt.title('totalcost distribution')\n",
    "plt.xlabel('totalcost')\n",
    "plt.ylabel('Count of Flights with same total cost range')\n",
    "plt.show()"
   ]
  },
  {
   "cell_type": "markdown",
   "metadata": {},
   "source": [
    "# Flight Duration"
   ]
  },
  {
   "cell_type": "code",
   "execution_count": 25,
   "metadata": {
    "collapsed": false
   },
   "outputs": [
    {
     "data": {
      "image/png": "[encoded data removed]",
      "text/plain": [
       "<matplotlib.figure.Figure at 0xd818710>"
      ]
     },
     "metadata": {},
     "output_type": "display_data"
    }
   ],
   "source": [
    "fig = plt.figure()\n",
    "ax = fig.add_subplot(111)\n",
    "ax.hist(df['flightduration'], bins = 40, range = (df['flightduration'].min(),df['totalduration'].max()))\n",
    "plt.title('flight duration distribution')\n",
    "plt.xlabel('flightduration')\n",
    "plt.ylabel('Count of Flights with same duration range')\n",
    "plt.show()"
   ]
  },
  {
   "cell_type": "markdown",
   "metadata": {},
   "source": [
    "# Total Duration (flight duration, time at airport and real time driving duration)"
   ]
  },
  {
   "cell_type": "code",
   "execution_count": 26,
   "metadata": {
    "collapsed": false
   },
   "outputs": [
    {
     "data": {
      "image/png": "[encoded data removed]",
      "text/plain": [
       "<matplotlib.figure.Figure at 0xda204a8>"
      ]
     },
     "metadata": {},
     "output_type": "display_data"
    }
   ],
   "source": [
    "fig = plt.figure()\n",
    "ax = fig.add_subplot(111)\n",
    "ax.hist(df['totalduration'], bins = 40, range = (df['flightduration'].min(),df['totalduration'].max()))\n",
    "plt.title('total duration distribution')\n",
    "plt.xlabel('totalduration')\n",
    "plt.ylabel('Count of Flights with same total duration range')\n",
    "plt.show()"
   ]
  },
  {
   "cell_type": "markdown",
   "metadata": {},
   "source": [
    "# Some additional visualization"
   ]
  },
  {
   "cell_type": "code",
   "execution_count": 27,
   "metadata": {
    "collapsed": false
   },
   "outputs": [
    {
     "name": "stderr",
     "output_type": "stream",
     "text": [
      "C:\\Users\\faye\\Anaconda2\\lib\\site-packages\\matplotlib\\collections.py:590: FutureWarning: elementwise comparison failed; returning scalar instead, but in the future will perform elementwise comparison\n",
      "  if self._edgecolors == str('face'):\n"
     ]
    },
    {
     "data": {
      "image/png": "[encoded data removed]",
      "text/plain": [
       "<matplotlib.figure.Figure at 0xd6f1e48>"
      ]
     },
     "metadata": {},
     "output_type": "display_data"
    }
   ],
   "source": [
    "# Create a scatter matrix of the dataframe features\n",
    "from pandas.tools.plotting import scatter_matrix\n",
    "scatter_matrix(df, alpha=0.2, figsize=(12, 12), diagonal='kde')\n",
    "plt.show()"
   ]
  },
  {
   "cell_type": "code",
   "execution_count": 28,
   "metadata": {
    "collapsed": false
   },
   "outputs": [],
   "source": [
    "df = df.drop(['flightid'], axis=1)\n",
    "df = df.drop(['timeleavehome'], axis=1)\n",
    "df = df.drop(['flightdeparture'], axis=1)\n",
    "df = df.drop(['airline'], axis=1)"
   ]
  },
  {
   "cell_type": "code",
   "execution_count": 29,
   "metadata": {
    "collapsed": false
   },
   "outputs": [
    {
     "data": {
      "image/png": "[encoded data removed]",
      "text/plain": [
       "<matplotlib.figure.Figure at 0x26e8c9e8>"
      ]
     },
     "metadata": {},
     "output_type": "display_data"
    }
   ],
   "source": [
    "from pandas.tools.plotting import parallel_coordinates\n",
    "plt.figure(figsize=(12,12))\n",
    "parallel_coordinates(df, 'airport')\n",
    "plt.show()"
   ]
  },
  {
   "cell_type": "code",
   "execution_count": 59,
   "metadata": {
    "collapsed": false
   },
   "outputs": [
    {
     "data": {
      "image/png": "[encoded data removed]",
      "text/plain": [
       "<matplotlib.figure.Figure at 0x26ad6940>"
      ]
     },
     "metadata": {},
     "output_type": "display_data"
    }
   ],
   "source": [
    "from pandas.tools.plotting import radviz\n",
    "plt.figure(figsize=(12,12))\n",
    "radviz(df, 'airport')\n",
    "plt.show()"
   ]
  },
  {
   "cell_type": "markdown",
   "metadata": {},
   "source": [
    "# Raw User data"
   ]
  },
  {
   "cell_type": "code",
   "execution_count": 171,
   "metadata": {
    "collapsed": true
   },
   "outputs": [],
   "source": [
    "userdata = pd.read_csv(\"userdata.csv\") "
   ]
  },
  {
   "cell_type": "code",
   "execution_count": 117,
   "metadata": {
    "collapsed": false
   },
   "outputs": [
    {
     "data": {
      "text/html": [
       "<div>\n",
       "<table border=\"1\" class=\"dataframe\">\n",
       "  <thead>\n",
       "    <tr style=\"text-align: right;\">\n",
       "      <th></th>\n",
       "      <th>id</th>\n",
       "      <th>flightid</th>\n",
       "      <th>airline</th>\n",
       "      <th>flightnum</th>\n",
       "      <th>departime</th>\n",
       "      <th>cost</th>\n",
       "      <th>airport</th>\n",
       "      <th>flightdur</th>\n",
       "      <th>costperhour</th>\n",
       "    </tr>\n",
       "  </thead>\n",
       "  <tbody>\n",
       "    <tr>\n",
       "      <th>0</th>\n",
       "      <td>13</td>\n",
       "      <td>NaN</td>\n",
       "      <td>AA</td>\n",
       "      <td>245</td>\n",
       "      <td>17:15</td>\n",
       "      <td>181</td>\n",
       "      <td>DCA</td>\n",
       "      <td>355</td>\n",
       "      <td>31</td>\n",
       "    </tr>\n",
       "    <tr>\n",
       "      <th>1</th>\n",
       "      <td>14</td>\n",
       "      <td>NaN</td>\n",
       "      <td>AA</td>\n",
       "      <td>245</td>\n",
       "      <td>17:15</td>\n",
       "      <td>181</td>\n",
       "      <td>DCA</td>\n",
       "      <td>355</td>\n",
       "      <td>31</td>\n",
       "    </tr>\n",
       "    <tr>\n",
       "      <th>2</th>\n",
       "      <td>15</td>\n",
       "      <td>NaN</td>\n",
       "      <td>AA</td>\n",
       "      <td>245</td>\n",
       "      <td>17:15</td>\n",
       "      <td>181</td>\n",
       "      <td>DCA</td>\n",
       "      <td>355</td>\n",
       "      <td>31</td>\n",
       "    </tr>\n",
       "    <tr>\n",
       "      <th>3</th>\n",
       "      <td>16</td>\n",
       "      <td>NaN</td>\n",
       "      <td>VX</td>\n",
       "      <td>89</td>\n",
       "      <td>9:00</td>\n",
       "      <td>181</td>\n",
       "      <td>IAD</td>\n",
       "      <td>350</td>\n",
       "      <td>31</td>\n",
       "    </tr>\n",
       "    <tr>\n",
       "      <th>4</th>\n",
       "      <td>17</td>\n",
       "      <td>RSETozIzLjLQdvO1tO9iRU001</td>\n",
       "      <td>AS</td>\n",
       "      <td>5</td>\n",
       "      <td>9:15</td>\n",
       "      <td>181</td>\n",
       "      <td>DCA</td>\n",
       "      <td>374</td>\n",
       "      <td>29</td>\n",
       "    </tr>\n",
       "    <tr>\n",
       "      <th>5</th>\n",
       "      <td>18</td>\n",
       "      <td>NaN</td>\n",
       "      <td>UA</td>\n",
       "      <td>632</td>\n",
       "      <td>12:30</td>\n",
       "      <td>360</td>\n",
       "      <td>IAD</td>\n",
       "      <td>360</td>\n",
       "      <td>60</td>\n",
       "    </tr>\n",
       "    <tr>\n",
       "      <th>6</th>\n",
       "      <td>19</td>\n",
       "      <td>2ciq2ciqOzND4aTUuEtKvqnX82001</td>\n",
       "      <td>NK</td>\n",
       "      <td>141</td>\n",
       "      <td>8:20</td>\n",
       "      <td>99</td>\n",
       "      <td>BWI</td>\n",
       "      <td>352</td>\n",
       "      <td>17</td>\n",
       "    </tr>\n",
       "    <tr>\n",
       "      <th>7</th>\n",
       "      <td>20</td>\n",
       "      <td>NaN</td>\n",
       "      <td>AS</td>\n",
       "      <td>739</td>\n",
       "      <td>7:40</td>\n",
       "      <td>99</td>\n",
       "      <td>BWI</td>\n",
       "      <td>360</td>\n",
       "      <td>17</td>\n",
       "    </tr>\n",
       "    <tr>\n",
       "      <th>8</th>\n",
       "      <td>21</td>\n",
       "      <td>2ciqOzND4aTUuEtKvqnX82001</td>\n",
       "      <td>NK</td>\n",
       "      <td>141</td>\n",
       "      <td>8:20</td>\n",
       "      <td>99</td>\n",
       "      <td>BWI</td>\n",
       "      <td>352</td>\n",
       "      <td>17</td>\n",
       "    </tr>\n",
       "    <tr>\n",
       "      <th>9</th>\n",
       "      <td>22</td>\n",
       "      <td>2ciq2ciqOzND4aTUuEtKvqnX82001</td>\n",
       "      <td>NK</td>\n",
       "      <td>141</td>\n",
       "      <td>8:20</td>\n",
       "      <td>99</td>\n",
       "      <td>BWI</td>\n",
       "      <td>352</td>\n",
       "      <td>17</td>\n",
       "    </tr>\n",
       "    <tr>\n",
       "      <th>10</th>\n",
       "      <td>23</td>\n",
       "      <td>NaN</td>\n",
       "      <td>AA</td>\n",
       "      <td>245</td>\n",
       "      <td>17:15</td>\n",
       "      <td>181</td>\n",
       "      <td>DCA</td>\n",
       "      <td>355</td>\n",
       "      <td>31</td>\n",
       "    </tr>\n",
       "    <tr>\n",
       "      <th>11</th>\n",
       "      <td>24</td>\n",
       "      <td>2ciq2ciqOzND4aTUuEtKvqnX82001</td>\n",
       "      <td>NK</td>\n",
       "      <td>141</td>\n",
       "      <td>8:20</td>\n",
       "      <td>99</td>\n",
       "      <td>BWI</td>\n",
       "      <td>352</td>\n",
       "      <td>17</td>\n",
       "    </tr>\n",
       "    <tr>\n",
       "      <th>12</th>\n",
       "      <td>25</td>\n",
       "      <td>2ciq2ciqOzND4aTUuEtKvqnX82001</td>\n",
       "      <td>NK</td>\n",
       "      <td>141</td>\n",
       "      <td>8:20</td>\n",
       "      <td>99</td>\n",
       "      <td>BWI</td>\n",
       "      <td>352</td>\n",
       "      <td>17</td>\n",
       "    </tr>\n",
       "    <tr>\n",
       "      <th>13</th>\n",
       "      <td>26</td>\n",
       "      <td>2ciq2ciqOzND4aTUuEtKvqnX82001</td>\n",
       "      <td>NK</td>\n",
       "      <td>141</td>\n",
       "      <td>8:20</td>\n",
       "      <td>99</td>\n",
       "      <td>BWI</td>\n",
       "      <td>352</td>\n",
       "      <td>17</td>\n",
       "    </tr>\n",
       "    <tr>\n",
       "      <th>14</th>\n",
       "      <td>27</td>\n",
       "      <td>NaN</td>\n",
       "      <td>F9</td>\n",
       "      <td>719/409</td>\n",
       "      <td>17:00</td>\n",
       "      <td>128</td>\n",
       "      <td>DCA</td>\n",
       "      <td>528</td>\n",
       "      <td>15</td>\n",
       "    </tr>\n",
       "    <tr>\n",
       "      <th>15</th>\n",
       "      <td>28</td>\n",
       "      <td>NaN</td>\n",
       "      <td>VX</td>\n",
       "      <td>89</td>\n",
       "      <td>9:00</td>\n",
       "      <td>181</td>\n",
       "      <td>IAD</td>\n",
       "      <td>350</td>\n",
       "      <td>31</td>\n",
       "    </tr>\n",
       "    <tr>\n",
       "      <th>16</th>\n",
       "      <td>29</td>\n",
       "      <td>NaN</td>\n",
       "      <td>AA</td>\n",
       "      <td>245</td>\n",
       "      <td>9:00</td>\n",
       "      <td>181</td>\n",
       "      <td>DCA</td>\n",
       "      <td>605</td>\n",
       "      <td>18</td>\n",
       "    </tr>\n",
       "    <tr>\n",
       "      <th>17</th>\n",
       "      <td>30</td>\n",
       "      <td>RSETozIzLjLQdvO1tO9iRU001</td>\n",
       "      <td>AS</td>\n",
       "      <td>5</td>\n",
       "      <td>9:15</td>\n",
       "      <td>181</td>\n",
       "      <td>DCA</td>\n",
       "      <td>374</td>\n",
       "      <td>29</td>\n",
       "    </tr>\n",
       "    <tr>\n",
       "      <th>18</th>\n",
       "      <td>31</td>\n",
       "      <td>NaN</td>\n",
       "      <td>AA</td>\n",
       "      <td>2237</td>\n",
       "      <td>19:00</td>\n",
       "      <td>156</td>\n",
       "      <td>DCA</td>\n",
       "      <td>454</td>\n",
       "      <td>21</td>\n",
       "    </tr>\n",
       "    <tr>\n",
       "      <th>19</th>\n",
       "      <td>32</td>\n",
       "      <td>2ciq2ciqOzND4aTUuEtKvqnX82001</td>\n",
       "      <td>NK</td>\n",
       "      <td>141</td>\n",
       "      <td>8:20</td>\n",
       "      <td>99</td>\n",
       "      <td>BWI</td>\n",
       "      <td>352</td>\n",
       "      <td>17</td>\n",
       "    </tr>\n",
       "    <tr>\n",
       "      <th>20</th>\n",
       "      <td>33</td>\n",
       "      <td>NaN</td>\n",
       "      <td>VX</td>\n",
       "      <td>89</td>\n",
       "      <td>9:00</td>\n",
       "      <td>181</td>\n",
       "      <td>IAD</td>\n",
       "      <td>350</td>\n",
       "      <td>31</td>\n",
       "    </tr>\n",
       "    <tr>\n",
       "      <th>21</th>\n",
       "      <td>34</td>\n",
       "      <td>RSET2ciqOzND4aTUuEtKvqnX82001</td>\n",
       "      <td>AK</td>\n",
       "      <td>5</td>\n",
       "      <td>9:15</td>\n",
       "      <td>138</td>\n",
       "      <td>DCA</td>\n",
       "      <td>374</td>\n",
       "      <td>22</td>\n",
       "    </tr>\n",
       "    <tr>\n",
       "      <th>22</th>\n",
       "      <td>1</td>\n",
       "      <td>RSETozIzLjLQdvO1tO9iRU001</td>\n",
       "      <td>AS</td>\n",
       "      <td>5</td>\n",
       "      <td>9:15</td>\n",
       "      <td>169</td>\n",
       "      <td>DCA</td>\n",
       "      <td>374</td>\n",
       "      <td>27</td>\n",
       "    </tr>\n",
       "    <tr>\n",
       "      <th>23</th>\n",
       "      <td>2</td>\n",
       "      <td>RSETRSETozIzLjLQdvO1tO9iRU001</td>\n",
       "      <td>AS</td>\n",
       "      <td>5</td>\n",
       "      <td>9:15</td>\n",
       "      <td>169</td>\n",
       "      <td>DCA</td>\n",
       "      <td>374</td>\n",
       "      <td>27</td>\n",
       "    </tr>\n",
       "    <tr>\n",
       "      <th>24</th>\n",
       "      <td>3</td>\n",
       "      <td>2ciqOzND4aTUuEtKvqnX82001</td>\n",
       "      <td>NK</td>\n",
       "      <td>141</td>\n",
       "      <td>8:20</td>\n",
       "      <td>118</td>\n",
       "      <td>BWI</td>\n",
       "      <td>352</td>\n",
       "      <td>20</td>\n",
       "    </tr>\n",
       "    <tr>\n",
       "      <th>25</th>\n",
       "      <td>4</td>\n",
       "      <td>NaN</td>\n",
       "      <td>AA</td>\n",
       "      <td>245</td>\n",
       "      <td>17:15</td>\n",
       "      <td>181</td>\n",
       "      <td>DCA</td>\n",
       "      <td>355</td>\n",
       "      <td>30</td>\n",
       "    </tr>\n",
       "    <tr>\n",
       "      <th>26</th>\n",
       "      <td>5</td>\n",
       "      <td>2ciqOzND4aTUuEtKvqnX82001</td>\n",
       "      <td>NK</td>\n",
       "      <td>141</td>\n",
       "      <td>8:20</td>\n",
       "      <td>118</td>\n",
       "      <td>BWI</td>\n",
       "      <td>352</td>\n",
       "      <td>20</td>\n",
       "    </tr>\n",
       "    <tr>\n",
       "      <th>27</th>\n",
       "      <td>6</td>\n",
       "      <td>2ciq2ciqOzND4aTUuEtKvqnX82001</td>\n",
       "      <td>NK</td>\n",
       "      <td>141</td>\n",
       "      <td>8:20</td>\n",
       "      <td>118</td>\n",
       "      <td>BWI</td>\n",
       "      <td>352</td>\n",
       "      <td>20</td>\n",
       "    </tr>\n",
       "    <tr>\n",
       "      <th>28</th>\n",
       "      <td>7</td>\n",
       "      <td>RSETozIzLjLQdvO1tO9iRU001</td>\n",
       "      <td>AS</td>\n",
       "      <td>5</td>\n",
       "      <td>9:15</td>\n",
       "      <td>169</td>\n",
       "      <td>DCA</td>\n",
       "      <td>374</td>\n",
       "      <td>27</td>\n",
       "    </tr>\n",
       "    <tr>\n",
       "      <th>29</th>\n",
       "      <td>8</td>\n",
       "      <td>RSETozIzLjLQdvO1tO9iRU001</td>\n",
       "      <td>AS</td>\n",
       "      <td>5</td>\n",
       "      <td>9:15</td>\n",
       "      <td>169</td>\n",
       "      <td>DCA</td>\n",
       "      <td>374</td>\n",
       "      <td>27</td>\n",
       "    </tr>\n",
       "    <tr>\n",
       "      <th>30</th>\n",
       "      <td>9</td>\n",
       "      <td>RSETozIzLjLQdvO1tO9iRU001</td>\n",
       "      <td>AS</td>\n",
       "      <td>5</td>\n",
       "      <td>9:15</td>\n",
       "      <td>181</td>\n",
       "      <td>DCA</td>\n",
       "      <td>374</td>\n",
       "      <td>29</td>\n",
       "    </tr>\n",
       "    <tr>\n",
       "      <th>31</th>\n",
       "      <td>10</td>\n",
       "      <td>NaN</td>\n",
       "      <td>VX</td>\n",
       "      <td>89</td>\n",
       "      <td>9:00</td>\n",
       "      <td>369</td>\n",
       "      <td>IAD</td>\n",
       "      <td>350</td>\n",
       "      <td>63</td>\n",
       "    </tr>\n",
       "    <tr>\n",
       "      <th>32</th>\n",
       "      <td>11</td>\n",
       "      <td>RSETozIzLjLQdvO1tO9iRU001</td>\n",
       "      <td>AS</td>\n",
       "      <td>5</td>\n",
       "      <td>9:15</td>\n",
       "      <td>169</td>\n",
       "      <td>DCA</td>\n",
       "      <td>374</td>\n",
       "      <td>27</td>\n",
       "    </tr>\n",
       "    <tr>\n",
       "      <th>33</th>\n",
       "      <td>12</td>\n",
       "      <td>2ciq2ciqOzND4aTUuEtKvqnX82001</td>\n",
       "      <td>NK</td>\n",
       "      <td>141</td>\n",
       "      <td>8:20</td>\n",
       "      <td>118</td>\n",
       "      <td>BWI</td>\n",
       "      <td>352</td>\n",
       "      <td>20</td>\n",
       "    </tr>\n",
       "  </tbody>\n",
       "</table>\n",
       "</div>"
      ],
      "text/plain": [
       "    id                       flightid airline flightnum departime  cost  \\\n",
       "0   13                            NaN      AA       245     17:15   181   \n",
       "1   14                            NaN      AA       245     17:15   181   \n",
       "2   15                            NaN      AA       245     17:15   181   \n",
       "3   16                            NaN      VX        89      9:00   181   \n",
       "4   17      RSETozIzLjLQdvO1tO9iRU001      AS         5      9:15   181   \n",
       "5   18                            NaN      UA       632     12:30   360   \n",
       "6   19  2ciq2ciqOzND4aTUuEtKvqnX82001      NK       141      8:20    99   \n",
       "7   20                            NaN      AS       739      7:40    99   \n",
       "8   21      2ciqOzND4aTUuEtKvqnX82001      NK       141      8:20    99   \n",
       "9   22  2ciq2ciqOzND4aTUuEtKvqnX82001      NK       141      8:20    99   \n",
       "10  23                            NaN      AA       245     17:15   181   \n",
       "11  24  2ciq2ciqOzND4aTUuEtKvqnX82001      NK       141      8:20    99   \n",
       "12  25  2ciq2ciqOzND4aTUuEtKvqnX82001      NK       141      8:20    99   \n",
       "13  26  2ciq2ciqOzND4aTUuEtKvqnX82001      NK       141      8:20    99   \n",
       "14  27                            NaN      F9   719/409     17:00   128   \n",
       "15  28                            NaN      VX        89      9:00   181   \n",
       "16  29                            NaN      AA       245      9:00   181   \n",
       "17  30      RSETozIzLjLQdvO1tO9iRU001      AS         5      9:15   181   \n",
       "18  31                            NaN      AA      2237     19:00   156   \n",
       "19  32  2ciq2ciqOzND4aTUuEtKvqnX82001      NK       141      8:20    99   \n",
       "20  33                            NaN      VX        89      9:00   181   \n",
       "21  34  RSET2ciqOzND4aTUuEtKvqnX82001      AK         5      9:15   138   \n",
       "22   1      RSETozIzLjLQdvO1tO9iRU001      AS         5      9:15   169   \n",
       "23   2  RSETRSETozIzLjLQdvO1tO9iRU001      AS         5      9:15   169   \n",
       "24   3      2ciqOzND4aTUuEtKvqnX82001      NK       141      8:20   118   \n",
       "25   4                            NaN      AA       245     17:15   181   \n",
       "26   5      2ciqOzND4aTUuEtKvqnX82001      NK       141      8:20   118   \n",
       "27   6  2ciq2ciqOzND4aTUuEtKvqnX82001      NK       141      8:20   118   \n",
       "28   7      RSETozIzLjLQdvO1tO9iRU001      AS         5      9:15   169   \n",
       "29   8      RSETozIzLjLQdvO1tO9iRU001      AS         5      9:15   169   \n",
       "30   9      RSETozIzLjLQdvO1tO9iRU001      AS         5      9:15   181   \n",
       "31  10                            NaN      VX        89      9:00   369   \n",
       "32  11      RSETozIzLjLQdvO1tO9iRU001      AS         5      9:15   169   \n",
       "33  12  2ciq2ciqOzND4aTUuEtKvqnX82001      NK       141      8:20   118   \n",
       "\n",
       "   airport  flightdur  costperhour  \n",
       "0      DCA        355           31  \n",
       "1      DCA        355           31  \n",
       "2      DCA        355           31  \n",
       "3      IAD        350           31  \n",
       "4      DCA        374           29  \n",
       "5      IAD        360           60  \n",
       "6      BWI        352           17  \n",
       "7      BWI        360           17  \n",
       "8      BWI        352           17  \n",
       "9      BWI        352           17  \n",
       "10     DCA        355           31  \n",
       "11     BWI        352           17  \n",
       "12     BWI        352           17  \n",
       "13     BWI        352           17  \n",
       "14     DCA        528           15  \n",
       "15     IAD        350           31  \n",
       "16     DCA        605           18  \n",
       "17     DCA        374           29  \n",
       "18     DCA        454           21  \n",
       "19     BWI        352           17  \n",
       "20     IAD        350           31  \n",
       "21     DCA        374           22  \n",
       "22     DCA        374           27  \n",
       "23     DCA        374           27  \n",
       "24     BWI        352           20  \n",
       "25     DCA        355           30  \n",
       "26     BWI        352           20  \n",
       "27     BWI        352           20  \n",
       "28     DCA        374           27  \n",
       "29     DCA        374           27  \n",
       "30     DCA        374           29  \n",
       "31     IAD        350           63  \n",
       "32     DCA        374           27  \n",
       "33     BWI        352           20  "
      ]
     },
     "execution_count": 117,
     "metadata": {},
     "output_type": "execute_result"
    }
   ],
   "source": [
    "userdata"
   ]
  },
  {
   "cell_type": "markdown",
   "metadata": {},
   "source": [
    "### compute  average cost per hour where flightid is not null"
   ]
  },
  {
   "cell_type": "code",
   "execution_count": 172,
   "metadata": {
    "collapsed": false
   },
   "outputs": [
    {
     "data": {
      "text/plain": [
       "14"
      ]
     },
     "execution_count": 172,
     "metadata": {},
     "output_type": "execute_result"
    }
   ],
   "source": [
    "sum(userdata['flightid'].isnull()) "
   ]
  },
  {
   "cell_type": "code",
   "execution_count": 173,
   "metadata": {
    "collapsed": false
   },
   "outputs": [],
   "source": [
    "newUserData = userdata[(userdata.flightid.notnull())]"
   ]
  },
  {
   "cell_type": "code",
   "execution_count": 137,
   "metadata": {
    "collapsed": false
   },
   "outputs": [
    {
     "data": {
      "text/html": [
       "<div>\n",
       "<table border=\"1\" class=\"dataframe\">\n",
       "  <thead>\n",
       "    <tr style=\"text-align: right;\">\n",
       "      <th></th>\n",
       "      <th>id</th>\n",
       "      <th>flightid</th>\n",
       "      <th>airline</th>\n",
       "      <th>flightnum</th>\n",
       "      <th>departime</th>\n",
       "      <th>cost</th>\n",
       "      <th>airport</th>\n",
       "      <th>flightdur</th>\n",
       "      <th>costperhour</th>\n",
       "    </tr>\n",
       "  </thead>\n",
       "  <tbody>\n",
       "    <tr>\n",
       "      <th>4</th>\n",
       "      <td>17</td>\n",
       "      <td>RSETozIzLjLQdvO1tO9iRU001</td>\n",
       "      <td>AS</td>\n",
       "      <td>5</td>\n",
       "      <td>9:15</td>\n",
       "      <td>181</td>\n",
       "      <td>DCA</td>\n",
       "      <td>374</td>\n",
       "      <td>29</td>\n",
       "    </tr>\n",
       "    <tr>\n",
       "      <th>6</th>\n",
       "      <td>19</td>\n",
       "      <td>2ciq2ciqOzND4aTUuEtKvqnX82001</td>\n",
       "      <td>NK</td>\n",
       "      <td>141</td>\n",
       "      <td>8:20</td>\n",
       "      <td>99</td>\n",
       "      <td>BWI</td>\n",
       "      <td>352</td>\n",
       "      <td>17</td>\n",
       "    </tr>\n",
       "    <tr>\n",
       "      <th>8</th>\n",
       "      <td>21</td>\n",
       "      <td>2ciqOzND4aTUuEtKvqnX82001</td>\n",
       "      <td>NK</td>\n",
       "      <td>141</td>\n",
       "      <td>8:20</td>\n",
       "      <td>99</td>\n",
       "      <td>BWI</td>\n",
       "      <td>352</td>\n",
       "      <td>17</td>\n",
       "    </tr>\n",
       "    <tr>\n",
       "      <th>9</th>\n",
       "      <td>22</td>\n",
       "      <td>2ciq2ciqOzND4aTUuEtKvqnX82001</td>\n",
       "      <td>NK</td>\n",
       "      <td>141</td>\n",
       "      <td>8:20</td>\n",
       "      <td>99</td>\n",
       "      <td>BWI</td>\n",
       "      <td>352</td>\n",
       "      <td>17</td>\n",
       "    </tr>\n",
       "    <tr>\n",
       "      <th>11</th>\n",
       "      <td>24</td>\n",
       "      <td>2ciq2ciqOzND4aTUuEtKvqnX82001</td>\n",
       "      <td>NK</td>\n",
       "      <td>141</td>\n",
       "      <td>8:20</td>\n",
       "      <td>99</td>\n",
       "      <td>BWI</td>\n",
       "      <td>352</td>\n",
       "      <td>17</td>\n",
       "    </tr>\n",
       "    <tr>\n",
       "      <th>12</th>\n",
       "      <td>25</td>\n",
       "      <td>2ciq2ciqOzND4aTUuEtKvqnX82001</td>\n",
       "      <td>NK</td>\n",
       "      <td>141</td>\n",
       "      <td>8:20</td>\n",
       "      <td>99</td>\n",
       "      <td>BWI</td>\n",
       "      <td>352</td>\n",
       "      <td>17</td>\n",
       "    </tr>\n",
       "    <tr>\n",
       "      <th>13</th>\n",
       "      <td>26</td>\n",
       "      <td>2ciq2ciqOzND4aTUuEtKvqnX82001</td>\n",
       "      <td>NK</td>\n",
       "      <td>141</td>\n",
       "      <td>8:20</td>\n",
       "      <td>99</td>\n",
       "      <td>BWI</td>\n",
       "      <td>352</td>\n",
       "      <td>17</td>\n",
       "    </tr>\n",
       "    <tr>\n",
       "      <th>17</th>\n",
       "      <td>30</td>\n",
       "      <td>RSETozIzLjLQdvO1tO9iRU001</td>\n",
       "      <td>AS</td>\n",
       "      <td>5</td>\n",
       "      <td>9:15</td>\n",
       "      <td>181</td>\n",
       "      <td>DCA</td>\n",
       "      <td>374</td>\n",
       "      <td>29</td>\n",
       "    </tr>\n",
       "    <tr>\n",
       "      <th>19</th>\n",
       "      <td>32</td>\n",
       "      <td>2ciq2ciqOzND4aTUuEtKvqnX82001</td>\n",
       "      <td>NK</td>\n",
       "      <td>141</td>\n",
       "      <td>8:20</td>\n",
       "      <td>99</td>\n",
       "      <td>BWI</td>\n",
       "      <td>352</td>\n",
       "      <td>17</td>\n",
       "    </tr>\n",
       "    <tr>\n",
       "      <th>21</th>\n",
       "      <td>34</td>\n",
       "      <td>RSET2ciqOzND4aTUuEtKvqnX82001</td>\n",
       "      <td>AK</td>\n",
       "      <td>5</td>\n",
       "      <td>9:15</td>\n",
       "      <td>138</td>\n",
       "      <td>DCA</td>\n",
       "      <td>374</td>\n",
       "      <td>22</td>\n",
       "    </tr>\n",
       "    <tr>\n",
       "      <th>22</th>\n",
       "      <td>1</td>\n",
       "      <td>RSETozIzLjLQdvO1tO9iRU001</td>\n",
       "      <td>AS</td>\n",
       "      <td>5</td>\n",
       "      <td>9:15</td>\n",
       "      <td>169</td>\n",
       "      <td>DCA</td>\n",
       "      <td>374</td>\n",
       "      <td>27</td>\n",
       "    </tr>\n",
       "    <tr>\n",
       "      <th>23</th>\n",
       "      <td>2</td>\n",
       "      <td>RSETRSETozIzLjLQdvO1tO9iRU001</td>\n",
       "      <td>AS</td>\n",
       "      <td>5</td>\n",
       "      <td>9:15</td>\n",
       "      <td>169</td>\n",
       "      <td>DCA</td>\n",
       "      <td>374</td>\n",
       "      <td>27</td>\n",
       "    </tr>\n",
       "    <tr>\n",
       "      <th>24</th>\n",
       "      <td>3</td>\n",
       "      <td>2ciqOzND4aTUuEtKvqnX82001</td>\n",
       "      <td>NK</td>\n",
       "      <td>141</td>\n",
       "      <td>8:20</td>\n",
       "      <td>118</td>\n",
       "      <td>BWI</td>\n",
       "      <td>352</td>\n",
       "      <td>20</td>\n",
       "    </tr>\n",
       "    <tr>\n",
       "      <th>26</th>\n",
       "      <td>5</td>\n",
       "      <td>2ciqOzND4aTUuEtKvqnX82001</td>\n",
       "      <td>NK</td>\n",
       "      <td>141</td>\n",
       "      <td>8:20</td>\n",
       "      <td>118</td>\n",
       "      <td>BWI</td>\n",
       "      <td>352</td>\n",
       "      <td>20</td>\n",
       "    </tr>\n",
       "    <tr>\n",
       "      <th>27</th>\n",
       "      <td>6</td>\n",
       "      <td>2ciq2ciqOzND4aTUuEtKvqnX82001</td>\n",
       "      <td>NK</td>\n",
       "      <td>141</td>\n",
       "      <td>8:20</td>\n",
       "      <td>118</td>\n",
       "      <td>BWI</td>\n",
       "      <td>352</td>\n",
       "      <td>20</td>\n",
       "    </tr>\n",
       "    <tr>\n",
       "      <th>28</th>\n",
       "      <td>7</td>\n",
       "      <td>RSETozIzLjLQdvO1tO9iRU001</td>\n",
       "      <td>AS</td>\n",
       "      <td>5</td>\n",
       "      <td>9:15</td>\n",
       "      <td>169</td>\n",
       "      <td>DCA</td>\n",
       "      <td>374</td>\n",
       "      <td>27</td>\n",
       "    </tr>\n",
       "    <tr>\n",
       "      <th>29</th>\n",
       "      <td>8</td>\n",
       "      <td>RSETozIzLjLQdvO1tO9iRU001</td>\n",
       "      <td>AS</td>\n",
       "      <td>5</td>\n",
       "      <td>9:15</td>\n",
       "      <td>169</td>\n",
       "      <td>DCA</td>\n",
       "      <td>374</td>\n",
       "      <td>27</td>\n",
       "    </tr>\n",
       "    <tr>\n",
       "      <th>30</th>\n",
       "      <td>9</td>\n",
       "      <td>RSETozIzLjLQdvO1tO9iRU001</td>\n",
       "      <td>AS</td>\n",
       "      <td>5</td>\n",
       "      <td>9:15</td>\n",
       "      <td>181</td>\n",
       "      <td>DCA</td>\n",
       "      <td>374</td>\n",
       "      <td>29</td>\n",
       "    </tr>\n",
       "    <tr>\n",
       "      <th>32</th>\n",
       "      <td>11</td>\n",
       "      <td>RSETozIzLjLQdvO1tO9iRU001</td>\n",
       "      <td>AS</td>\n",
       "      <td>5</td>\n",
       "      <td>9:15</td>\n",
       "      <td>169</td>\n",
       "      <td>DCA</td>\n",
       "      <td>374</td>\n",
       "      <td>27</td>\n",
       "    </tr>\n",
       "    <tr>\n",
       "      <th>33</th>\n",
       "      <td>12</td>\n",
       "      <td>2ciq2ciqOzND4aTUuEtKvqnX82001</td>\n",
       "      <td>NK</td>\n",
       "      <td>141</td>\n",
       "      <td>8:20</td>\n",
       "      <td>118</td>\n",
       "      <td>BWI</td>\n",
       "      <td>352</td>\n",
       "      <td>20</td>\n",
       "    </tr>\n",
       "  </tbody>\n",
       "</table>\n",
       "</div>"
      ],
      "text/plain": [
       "    id                       flightid airline flightnum departime  cost  \\\n",
       "4   17      RSETozIzLjLQdvO1tO9iRU001      AS         5      9:15   181   \n",
       "6   19  2ciq2ciqOzND4aTUuEtKvqnX82001      NK       141      8:20    99   \n",
       "8   21      2ciqOzND4aTUuEtKvqnX82001      NK       141      8:20    99   \n",
       "9   22  2ciq2ciqOzND4aTUuEtKvqnX82001      NK       141      8:20    99   \n",
       "11  24  2ciq2ciqOzND4aTUuEtKvqnX82001      NK       141      8:20    99   \n",
       "12  25  2ciq2ciqOzND4aTUuEtKvqnX82001      NK       141      8:20    99   \n",
       "13  26  2ciq2ciqOzND4aTUuEtKvqnX82001      NK       141      8:20    99   \n",
       "17  30      RSETozIzLjLQdvO1tO9iRU001      AS         5      9:15   181   \n",
       "19  32  2ciq2ciqOzND4aTUuEtKvqnX82001      NK       141      8:20    99   \n",
       "21  34  RSET2ciqOzND4aTUuEtKvqnX82001      AK         5      9:15   138   \n",
       "22   1      RSETozIzLjLQdvO1tO9iRU001      AS         5      9:15   169   \n",
       "23   2  RSETRSETozIzLjLQdvO1tO9iRU001      AS         5      9:15   169   \n",
       "24   3      2ciqOzND4aTUuEtKvqnX82001      NK       141      8:20   118   \n",
       "26   5      2ciqOzND4aTUuEtKvqnX82001      NK       141      8:20   118   \n",
       "27   6  2ciq2ciqOzND4aTUuEtKvqnX82001      NK       141      8:20   118   \n",
       "28   7      RSETozIzLjLQdvO1tO9iRU001      AS         5      9:15   169   \n",
       "29   8      RSETozIzLjLQdvO1tO9iRU001      AS         5      9:15   169   \n",
       "30   9      RSETozIzLjLQdvO1tO9iRU001      AS         5      9:15   181   \n",
       "32  11      RSETozIzLjLQdvO1tO9iRU001      AS         5      9:15   169   \n",
       "33  12  2ciq2ciqOzND4aTUuEtKvqnX82001      NK       141      8:20   118   \n",
       "\n",
       "   airport  flightdur  costperhour  \n",
       "4      DCA        374           29  \n",
       "6      BWI        352           17  \n",
       "8      BWI        352           17  \n",
       "9      BWI        352           17  \n",
       "11     BWI        352           17  \n",
       "12     BWI        352           17  \n",
       "13     BWI        352           17  \n",
       "17     DCA        374           29  \n",
       "19     BWI        352           17  \n",
       "21     DCA        374           22  \n",
       "22     DCA        374           27  \n",
       "23     DCA        374           27  \n",
       "24     BWI        352           20  \n",
       "26     BWI        352           20  \n",
       "27     BWI        352           20  \n",
       "28     DCA        374           27  \n",
       "29     DCA        374           27  \n",
       "30     DCA        374           29  \n",
       "32     DCA        374           27  \n",
       "33     BWI        352           20  "
      ]
     },
     "execution_count": 137,
     "metadata": {},
     "output_type": "execute_result"
    }
   ],
   "source": [
    "newUserData"
   ]
  },
  {
   "cell_type": "code",
   "execution_count": 174,
   "metadata": {
    "collapsed": false
   },
   "outputs": [
    {
     "data": {
      "text/plain": [
       "22.15"
      ]
     },
     "execution_count": 174,
     "metadata": {},
     "output_type": "execute_result"
    }
   ],
   "source": [
    "newUserData['costperhour'].mean()"
   ]
  },
  {
   "cell_type": "markdown",
   "metadata": {},
   "source": [
    "# find flights in datase where costperhour is <= 22.15"
   ]
  },
  {
   "cell_type": "code",
   "execution_count": 175,
   "metadata": {
    "collapsed": false
   },
   "outputs": [],
   "source": [
    "flightsWithLowCostperhour=df.loc[(df[\"costperhour\"] <= 22.15)]"
   ]
  },
  {
   "cell_type": "code",
   "execution_count": 176,
   "metadata": {
    "collapsed": false
   },
   "outputs": [
    {
     "data": {
      "text/html": [
       "<div>\n",
       "<table border=\"1\" class=\"dataframe\">\n",
       "  <thead>\n",
       "    <tr style=\"text-align: right;\">\n",
       "      <th></th>\n",
       "      <th>id</th>\n",
       "      <th>totalcost</th>\n",
       "      <th>totalduration</th>\n",
       "      <th>airport</th>\n",
       "      <th>flightid</th>\n",
       "      <th>flightcost</th>\n",
       "      <th>parkingcost</th>\n",
       "      <th>drivingcost</th>\n",
       "      <th>timeleavehome</th>\n",
       "      <th>flightdeparture</th>\n",
       "      <th>flightduration</th>\n",
       "      <th>atairporttime</th>\n",
       "      <th>drivingduration</th>\n",
       "      <th>airline</th>\n",
       "      <th>costperhour</th>\n",
       "    </tr>\n",
       "  </thead>\n",
       "  <tbody>\n",
       "    <tr>\n",
       "      <th>0</th>\n",
       "      <td>1</td>\n",
       "      <td>180.81</td>\n",
       "      <td>552</td>\n",
       "      <td>BWI</td>\n",
       "      <td>2ciqOzND4aTUuEtKvqnX82002</td>\n",
       "      <td>143.10</td>\n",
       "      <td>35.6</td>\n",
       "      <td>2.11</td>\n",
       "      <td>2016-01-25T04:15</td>\n",
       "      <td>2016-01-25T07:40-05:00</td>\n",
       "      <td>360</td>\n",
       "      <td>120</td>\n",
       "      <td>72</td>\n",
       "      <td>AS</td>\n",
       "      <td>20.090000</td>\n",
       "    </tr>\n",
       "    <tr>\n",
       "      <th>1</th>\n",
       "      <td>2</td>\n",
       "      <td>189.31</td>\n",
       "      <td>698</td>\n",
       "      <td>BWI</td>\n",
       "      <td>2ciqOzND4aTUuEtKvqnX82007</td>\n",
       "      <td>151.60</td>\n",
       "      <td>35.6</td>\n",
       "      <td>2.11</td>\n",
       "      <td>2016-01-25T10:00</td>\n",
       "      <td>2016-01-25T13:20-05:00</td>\n",
       "      <td>511</td>\n",
       "      <td>120</td>\n",
       "      <td>67</td>\n",
       "      <td>UA</td>\n",
       "      <td>17.210000</td>\n",
       "    </tr>\n",
       "    <tr>\n",
       "      <th>2</th>\n",
       "      <td>3</td>\n",
       "      <td>189.31</td>\n",
       "      <td>821</td>\n",
       "      <td>BWI</td>\n",
       "      <td>2ciqOzND4aTUuEtKvqnX8200d</td>\n",
       "      <td>151.60</td>\n",
       "      <td>35.6</td>\n",
       "      <td>2.11</td>\n",
       "      <td>2016-01-25T05:00</td>\n",
       "      <td>2016-01-25T08:12-05:00</td>\n",
       "      <td>629</td>\n",
       "      <td>120</td>\n",
       "      <td>72</td>\n",
       "      <td>UA</td>\n",
       "      <td>14.562308</td>\n",
       "    </tr>\n",
       "    <tr>\n",
       "      <th>3</th>\n",
       "      <td>4</td>\n",
       "      <td>194.31</td>\n",
       "      <td>795</td>\n",
       "      <td>BWI</td>\n",
       "      <td>2ciqOzND4aTUuEtKvqnX8200E</td>\n",
       "      <td>156.60</td>\n",
       "      <td>35.6</td>\n",
       "      <td>2.11</td>\n",
       "      <td>2016-01-25T14:00</td>\n",
       "      <td>2016-01-25T17:15-05:00</td>\n",
       "      <td>607</td>\n",
       "      <td>120</td>\n",
       "      <td>68</td>\n",
       "      <td>AS</td>\n",
       "      <td>14.946923</td>\n",
       "    </tr>\n",
       "    <tr>\n",
       "      <th>4</th>\n",
       "      <td>5</td>\n",
       "      <td>194.31</td>\n",
       "      <td>775</td>\n",
       "      <td>BWI</td>\n",
       "      <td>2ciqOzND4aTUuEtKvqnX8200D</td>\n",
       "      <td>156.60</td>\n",
       "      <td>35.6</td>\n",
       "      <td>2.11</td>\n",
       "      <td>2016-01-25T14:00</td>\n",
       "      <td>2016-01-25T17:15-05:00</td>\n",
       "      <td>587</td>\n",
       "      <td>120</td>\n",
       "      <td>68</td>\n",
       "      <td>AS</td>\n",
       "      <td>16.192500</td>\n",
       "    </tr>\n",
       "    <tr>\n",
       "      <th>5</th>\n",
       "      <td>6</td>\n",
       "      <td>217.31</td>\n",
       "      <td>683</td>\n",
       "      <td>BWI</td>\n",
       "      <td>2ciqOzND4aTUuEtKvqnX8200U</td>\n",
       "      <td>179.60</td>\n",
       "      <td>35.6</td>\n",
       "      <td>2.11</td>\n",
       "      <td>2016-01-25T05:00</td>\n",
       "      <td>2016-01-25T08:12-05:00</td>\n",
       "      <td>491</td>\n",
       "      <td>120</td>\n",
       "      <td>72</td>\n",
       "      <td>UA</td>\n",
       "      <td>19.755455</td>\n",
       "    </tr>\n",
       "    <tr>\n",
       "      <th>6</th>\n",
       "      <td>7</td>\n",
       "      <td>228.31</td>\n",
       "      <td>787</td>\n",
       "      <td>BWI</td>\n",
       "      <td>2ciqOzND4aTUuEtKvqnX8200F</td>\n",
       "      <td>190.60</td>\n",
       "      <td>35.6</td>\n",
       "      <td>2.11</td>\n",
       "      <td>2016-01-25T13:00</td>\n",
       "      <td>2016-01-25T16:10-05:00</td>\n",
       "      <td>598</td>\n",
       "      <td>120</td>\n",
       "      <td>69</td>\n",
       "      <td>B6</td>\n",
       "      <td>17.562308</td>\n",
       "    </tr>\n",
       "    <tr>\n",
       "      <th>7</th>\n",
       "      <td>8</td>\n",
       "      <td>232.31</td>\n",
       "      <td>922</td>\n",
       "      <td>BWI</td>\n",
       "      <td>2ciqOzND4aTUuEtKvqnX8200s</td>\n",
       "      <td>194.60</td>\n",
       "      <td>35.6</td>\n",
       "      <td>2.11</td>\n",
       "      <td>2016-01-25T07:45</td>\n",
       "      <td>2016-01-25T10:56-05:00</td>\n",
       "      <td>735</td>\n",
       "      <td>120</td>\n",
       "      <td>67</td>\n",
       "      <td>UA</td>\n",
       "      <td>15.487333</td>\n",
       "    </tr>\n",
       "    <tr>\n",
       "      <th>8</th>\n",
       "      <td>9</td>\n",
       "      <td>232.31</td>\n",
       "      <td>922</td>\n",
       "      <td>BWI</td>\n",
       "      <td>2ciqOzND4aTUuEtKvqnX8200r</td>\n",
       "      <td>194.60</td>\n",
       "      <td>35.6</td>\n",
       "      <td>2.11</td>\n",
       "      <td>2016-01-25T07:45</td>\n",
       "      <td>2016-01-25T10:56-05:00</td>\n",
       "      <td>735</td>\n",
       "      <td>120</td>\n",
       "      <td>67</td>\n",
       "      <td>UA</td>\n",
       "      <td>15.487333</td>\n",
       "    </tr>\n",
       "    <tr>\n",
       "      <th>9</th>\n",
       "      <td>10</td>\n",
       "      <td>232.31</td>\n",
       "      <td>842</td>\n",
       "      <td>BWI</td>\n",
       "      <td>2ciqOzND4aTUuEtKvqnX8200k</td>\n",
       "      <td>194.60</td>\n",
       "      <td>35.6</td>\n",
       "      <td>2.11</td>\n",
       "      <td>2016-01-25T07:45</td>\n",
       "      <td>2016-01-25T10:56-05:00</td>\n",
       "      <td>655</td>\n",
       "      <td>120</td>\n",
       "      <td>67</td>\n",
       "      <td>UA</td>\n",
       "      <td>16.593571</td>\n",
       "    </tr>\n",
       "    <tr>\n",
       "      <th>10</th>\n",
       "      <td>11</td>\n",
       "      <td>240.31</td>\n",
       "      <td>974</td>\n",
       "      <td>BWI</td>\n",
       "      <td>2ciqOzND4aTUuEtKvqnX82012</td>\n",
       "      <td>202.60</td>\n",
       "      <td>35.6</td>\n",
       "      <td>2.11</td>\n",
       "      <td>2016-01-25T07:45</td>\n",
       "      <td>2016-01-25T10:56-05:00</td>\n",
       "      <td>787</td>\n",
       "      <td>120</td>\n",
       "      <td>67</td>\n",
       "      <td>UA</td>\n",
       "      <td>15.019375</td>\n",
       "    </tr>\n",
       "    <tr>\n",
       "      <th>11</th>\n",
       "      <td>12</td>\n",
       "      <td>240.31</td>\n",
       "      <td>830</td>\n",
       "      <td>BWI</td>\n",
       "      <td>2ciqOzND4aTUuEtKvqnX8200l</td>\n",
       "      <td>202.60</td>\n",
       "      <td>35.6</td>\n",
       "      <td>2.11</td>\n",
       "      <td>2016-01-25T10:00</td>\n",
       "      <td>2016-01-25T13:20-05:00</td>\n",
       "      <td>643</td>\n",
       "      <td>120</td>\n",
       "      <td>67</td>\n",
       "      <td>UA</td>\n",
       "      <td>18.485385</td>\n",
       "    </tr>\n",
       "    <tr>\n",
       "      <th>12</th>\n",
       "      <td>13</td>\n",
       "      <td>266.31</td>\n",
       "      <td>1067</td>\n",
       "      <td>BWI</td>\n",
       "      <td>2ciqOzND4aTUuEtKvqnX8201t</td>\n",
       "      <td>228.60</td>\n",
       "      <td>35.6</td>\n",
       "      <td>2.11</td>\n",
       "      <td>2016-01-25T04:30</td>\n",
       "      <td>2016-01-25T07:47-05:00</td>\n",
       "      <td>875</td>\n",
       "      <td>120</td>\n",
       "      <td>72</td>\n",
       "      <td>UA</td>\n",
       "      <td>15.665294</td>\n",
       "    </tr>\n",
       "    <tr>\n",
       "      <th>13</th>\n",
       "      <td>14</td>\n",
       "      <td>266.31</td>\n",
       "      <td>1067</td>\n",
       "      <td>BWI</td>\n",
       "      <td>2ciqOzND4aTUuEtKvqnX8201u</td>\n",
       "      <td>228.60</td>\n",
       "      <td>35.6</td>\n",
       "      <td>2.11</td>\n",
       "      <td>2016-01-25T04:30</td>\n",
       "      <td>2016-01-25T07:47-05:00</td>\n",
       "      <td>875</td>\n",
       "      <td>120</td>\n",
       "      <td>72</td>\n",
       "      <td>UA</td>\n",
       "      <td>15.665294</td>\n",
       "    </tr>\n",
       "    <tr>\n",
       "      <th>14</th>\n",
       "      <td>15</td>\n",
       "      <td>266.31</td>\n",
       "      <td>965</td>\n",
       "      <td>BWI</td>\n",
       "      <td>2ciqOzND4aTUuEtKvqnX8201L</td>\n",
       "      <td>228.60</td>\n",
       "      <td>35.6</td>\n",
       "      <td>2.11</td>\n",
       "      <td>2016-01-25T10:45</td>\n",
       "      <td>2016-01-25T14:01-05:00</td>\n",
       "      <td>778</td>\n",
       "      <td>120</td>\n",
       "      <td>67</td>\n",
       "      <td>UA</td>\n",
       "      <td>16.644375</td>\n",
       "    </tr>\n",
       "    <tr>\n",
       "      <th>15</th>\n",
       "      <td>16</td>\n",
       "      <td>266.31</td>\n",
       "      <td>899</td>\n",
       "      <td>BWI</td>\n",
       "      <td>2ciqOzND4aTUuEtKvqnX82010</td>\n",
       "      <td>228.60</td>\n",
       "      <td>35.6</td>\n",
       "      <td>2.11</td>\n",
       "      <td>2016-01-25T10:45</td>\n",
       "      <td>2016-01-25T14:01-05:00</td>\n",
       "      <td>712</td>\n",
       "      <td>120</td>\n",
       "      <td>67</td>\n",
       "      <td>UA</td>\n",
       "      <td>19.022143</td>\n",
       "    </tr>\n",
       "    <tr>\n",
       "      <th>16</th>\n",
       "      <td>17</td>\n",
       "      <td>266.31</td>\n",
       "      <td>965</td>\n",
       "      <td>BWI</td>\n",
       "      <td>2ciqOzND4aTUuEtKvqnX8201K</td>\n",
       "      <td>228.60</td>\n",
       "      <td>35.6</td>\n",
       "      <td>2.11</td>\n",
       "      <td>2016-01-25T10:45</td>\n",
       "      <td>2016-01-25T14:01-05:00</td>\n",
       "      <td>778</td>\n",
       "      <td>120</td>\n",
       "      <td>67</td>\n",
       "      <td>UA</td>\n",
       "      <td>16.644375</td>\n",
       "    </tr>\n",
       "    <tr>\n",
       "      <th>17</th>\n",
       "      <td>18</td>\n",
       "      <td>266.31</td>\n",
       "      <td>1142</td>\n",
       "      <td>BWI</td>\n",
       "      <td>2ciqOzND4aTUuEtKvqnX82028</td>\n",
       "      <td>228.60</td>\n",
       "      <td>35.6</td>\n",
       "      <td>2.11</td>\n",
       "      <td>2016-01-25T04:30</td>\n",
       "      <td>2016-01-25T07:47-05:00</td>\n",
       "      <td>950</td>\n",
       "      <td>120</td>\n",
       "      <td>72</td>\n",
       "      <td>UA</td>\n",
       "      <td>14.016316</td>\n",
       "    </tr>\n",
       "    <tr>\n",
       "      <th>18</th>\n",
       "      <td>19</td>\n",
       "      <td>266.31</td>\n",
       "      <td>804</td>\n",
       "      <td>BWI</td>\n",
       "      <td>2ciqOzND4aTUuEtKvqnX8200n</td>\n",
       "      <td>228.60</td>\n",
       "      <td>35.6</td>\n",
       "      <td>2.11</td>\n",
       "      <td>2016-01-25T10:00</td>\n",
       "      <td>2016-01-25T13:20-05:00</td>\n",
       "      <td>617</td>\n",
       "      <td>120</td>\n",
       "      <td>67</td>\n",
       "      <td>UA</td>\n",
       "      <td>20.485385</td>\n",
       "    </tr>\n",
       "    <tr>\n",
       "      <th>19</th>\n",
       "      <td>20</td>\n",
       "      <td>266.31</td>\n",
       "      <td>1097</td>\n",
       "      <td>BWI</td>\n",
       "      <td>2ciqOzND4aTUuEtKvqnX8201z</td>\n",
       "      <td>228.60</td>\n",
       "      <td>35.6</td>\n",
       "      <td>2.11</td>\n",
       "      <td>2016-01-25T02:45</td>\n",
       "      <td>2016-01-25T06:01-05:00</td>\n",
       "      <td>905</td>\n",
       "      <td>120</td>\n",
       "      <td>72</td>\n",
       "      <td>UA</td>\n",
       "      <td>14.795000</td>\n",
       "    </tr>\n",
       "    <tr>\n",
       "      <th>20</th>\n",
       "      <td>21</td>\n",
       "      <td>266.31</td>\n",
       "      <td>1006</td>\n",
       "      <td>BWI</td>\n",
       "      <td>2ciqOzND4aTUuEtKvqnX8201X</td>\n",
       "      <td>228.60</td>\n",
       "      <td>35.6</td>\n",
       "      <td>2.11</td>\n",
       "      <td>2016-01-25T10:00</td>\n",
       "      <td>2016-01-25T13:20-05:00</td>\n",
       "      <td>819</td>\n",
       "      <td>120</td>\n",
       "      <td>67</td>\n",
       "      <td>UA</td>\n",
       "      <td>16.644375</td>\n",
       "    </tr>\n",
       "    <tr>\n",
       "      <th>21</th>\n",
       "      <td>22</td>\n",
       "      <td>266.31</td>\n",
       "      <td>1058</td>\n",
       "      <td>BWI</td>\n",
       "      <td>2ciqOzND4aTUuEtKvqnX8201r</td>\n",
       "      <td>228.60</td>\n",
       "      <td>35.6</td>\n",
       "      <td>2.11</td>\n",
       "      <td>2016-01-25T03:15</td>\n",
       "      <td>2016-01-25T06:40-05:00</td>\n",
       "      <td>866</td>\n",
       "      <td>120</td>\n",
       "      <td>72</td>\n",
       "      <td>UA</td>\n",
       "      <td>15.665294</td>\n",
       "    </tr>\n",
       "    <tr>\n",
       "      <th>24</th>\n",
       "      <td>25</td>\n",
       "      <td>270.31</td>\n",
       "      <td>794</td>\n",
       "      <td>BWI</td>\n",
       "      <td>2ciqOzND4aTUuEtKvqnX8200m</td>\n",
       "      <td>232.60</td>\n",
       "      <td>35.6</td>\n",
       "      <td>2.11</td>\n",
       "      <td>2016-01-25T10:00</td>\n",
       "      <td>2016-01-25T13:20-05:00</td>\n",
       "      <td>607</td>\n",
       "      <td>120</td>\n",
       "      <td>67</td>\n",
       "      <td>UA</td>\n",
       "      <td>20.793077</td>\n",
       "    </tr>\n",
       "    <tr>\n",
       "      <th>25</th>\n",
       "      <td>26</td>\n",
       "      <td>272.31</td>\n",
       "      <td>1289</td>\n",
       "      <td>BWI</td>\n",
       "      <td>2ciqOzND4aTUuEtKvqnX8200N</td>\n",
       "      <td>234.60</td>\n",
       "      <td>35.6</td>\n",
       "      <td>2.11</td>\n",
       "      <td>2016-01-25T03:00</td>\n",
       "      <td>2016-01-25T06:20-05:00</td>\n",
       "      <td>1097</td>\n",
       "      <td>120</td>\n",
       "      <td>72</td>\n",
       "      <td>B6</td>\n",
       "      <td>12.967143</td>\n",
       "    </tr>\n",
       "    <tr>\n",
       "      <th>26</th>\n",
       "      <td>27</td>\n",
       "      <td>275.31</td>\n",
       "      <td>832</td>\n",
       "      <td>BWI</td>\n",
       "      <td>2ciqOzND4aTUuEtKvqnX8200u</td>\n",
       "      <td>237.60</td>\n",
       "      <td>35.6</td>\n",
       "      <td>2.11</td>\n",
       "      <td>2016-01-25T10:00</td>\n",
       "      <td>2016-01-25T13:20-05:00</td>\n",
       "      <td>645</td>\n",
       "      <td>120</td>\n",
       "      <td>67</td>\n",
       "      <td>UA</td>\n",
       "      <td>21.177692</td>\n",
       "    </tr>\n",
       "    <tr>\n",
       "      <th>27</th>\n",
       "      <td>28</td>\n",
       "      <td>277.31</td>\n",
       "      <td>822</td>\n",
       "      <td>BWI</td>\n",
       "      <td>2ciqOzND4aTUuEtKvqnX8200t</td>\n",
       "      <td>239.60</td>\n",
       "      <td>35.6</td>\n",
       "      <td>2.11</td>\n",
       "      <td>2016-01-25T10:00</td>\n",
       "      <td>2016-01-25T13:20-05:00</td>\n",
       "      <td>635</td>\n",
       "      <td>120</td>\n",
       "      <td>67</td>\n",
       "      <td>UA</td>\n",
       "      <td>21.331538</td>\n",
       "    </tr>\n",
       "    <tr>\n",
       "      <th>28</th>\n",
       "      <td>29</td>\n",
       "      <td>277.31</td>\n",
       "      <td>913</td>\n",
       "      <td>BWI</td>\n",
       "      <td>2ciqOzND4aTUuEtKvqnX82017</td>\n",
       "      <td>239.60</td>\n",
       "      <td>35.6</td>\n",
       "      <td>2.11</td>\n",
       "      <td>2016-01-25T03:15</td>\n",
       "      <td>2016-01-25T06:40-05:00</td>\n",
       "      <td>721</td>\n",
       "      <td>120</td>\n",
       "      <td>72</td>\n",
       "      <td>UA</td>\n",
       "      <td>18.487333</td>\n",
       "    </tr>\n",
       "    <tr>\n",
       "      <th>29</th>\n",
       "      <td>30</td>\n",
       "      <td>277.31</td>\n",
       "      <td>952</td>\n",
       "      <td>BWI</td>\n",
       "      <td>2ciqOzND4aTUuEtKvqnX8201O</td>\n",
       "      <td>239.60</td>\n",
       "      <td>35.6</td>\n",
       "      <td>2.11</td>\n",
       "      <td>2016-01-25T02:45</td>\n",
       "      <td>2016-01-25T06:01-05:00</td>\n",
       "      <td>760</td>\n",
       "      <td>120</td>\n",
       "      <td>72</td>\n",
       "      <td>UA</td>\n",
       "      <td>18.487333</td>\n",
       "    </tr>\n",
       "    <tr>\n",
       "      <th>30</th>\n",
       "      <td>31</td>\n",
       "      <td>277.31</td>\n",
       "      <td>954</td>\n",
       "      <td>BWI</td>\n",
       "      <td>2ciqOzND4aTUuEtKvqnX8201Q</td>\n",
       "      <td>239.60</td>\n",
       "      <td>35.6</td>\n",
       "      <td>2.11</td>\n",
       "      <td>2016-01-25T10:45</td>\n",
       "      <td>2016-01-25T14:01-05:00</td>\n",
       "      <td>767</td>\n",
       "      <td>120</td>\n",
       "      <td>67</td>\n",
       "      <td>UA</td>\n",
       "      <td>18.487333</td>\n",
       "    </tr>\n",
       "    <tr>\n",
       "      <th>31</th>\n",
       "      <td>32</td>\n",
       "      <td>277.31</td>\n",
       "      <td>1055</td>\n",
       "      <td>BWI</td>\n",
       "      <td>2ciqOzND4aTUuEtKvqnX8201v</td>\n",
       "      <td>239.60</td>\n",
       "      <td>35.6</td>\n",
       "      <td>2.11</td>\n",
       "      <td>2016-01-25T04:30</td>\n",
       "      <td>2016-01-25T07:47-05:00</td>\n",
       "      <td>863</td>\n",
       "      <td>120</td>\n",
       "      <td>72</td>\n",
       "      <td>UA</td>\n",
       "      <td>16.312353</td>\n",
       "    </tr>\n",
       "    <tr>\n",
       "      <th>...</th>\n",
       "      <td>...</td>\n",
       "      <td>...</td>\n",
       "      <td>...</td>\n",
       "      <td>...</td>\n",
       "      <td>...</td>\n",
       "      <td>...</td>\n",
       "      <td>...</td>\n",
       "      <td>...</td>\n",
       "      <td>...</td>\n",
       "      <td>...</td>\n",
       "      <td>...</td>\n",
       "      <td>...</td>\n",
       "      <td>...</td>\n",
       "      <td>...</td>\n",
       "      <td>...</td>\n",
       "    </tr>\n",
       "    <tr>\n",
       "      <th>874</th>\n",
       "      <td>875</td>\n",
       "      <td>323.02</td>\n",
       "      <td>960</td>\n",
       "      <td>DCA</td>\n",
       "      <td>RSETozIzLjLQdvO1tO9iRU03E</td>\n",
       "      <td>254.61</td>\n",
       "      <td>68.0</td>\n",
       "      <td>0.41</td>\n",
       "      <td>2016-01-25T12:45</td>\n",
       "      <td>2016-01-25T14:25-05:00</td>\n",
       "      <td>863</td>\n",
       "      <td>75</td>\n",
       "      <td>22</td>\n",
       "      <td>B6</td>\n",
       "      <td>20.188750</td>\n",
       "    </tr>\n",
       "    <tr>\n",
       "      <th>876</th>\n",
       "      <td>877</td>\n",
       "      <td>323.02</td>\n",
       "      <td>960</td>\n",
       "      <td>DCA</td>\n",
       "      <td>RSETozIzLjLQdvO1tO9iRU03D</td>\n",
       "      <td>254.61</td>\n",
       "      <td>68.0</td>\n",
       "      <td>0.41</td>\n",
       "      <td>2016-01-25T12:45</td>\n",
       "      <td>2016-01-25T14:25-05:00</td>\n",
       "      <td>863</td>\n",
       "      <td>75</td>\n",
       "      <td>22</td>\n",
       "      <td>B6</td>\n",
       "      <td>20.188750</td>\n",
       "    </tr>\n",
       "    <tr>\n",
       "      <th>911</th>\n",
       "      <td>912</td>\n",
       "      <td>353.01</td>\n",
       "      <td>984</td>\n",
       "      <td>DCA</td>\n",
       "      <td>RSETozIzLjLQdvO1tO9iRU04O</td>\n",
       "      <td>284.60</td>\n",
       "      <td>68.0</td>\n",
       "      <td>0.41</td>\n",
       "      <td>2016-01-25T06:00</td>\n",
       "      <td>2016-01-25T07:45-05:00</td>\n",
       "      <td>888</td>\n",
       "      <td>75</td>\n",
       "      <td>21</td>\n",
       "      <td>UA</td>\n",
       "      <td>22.063125</td>\n",
       "    </tr>\n",
       "    <tr>\n",
       "      <th>917</th>\n",
       "      <td>918</td>\n",
       "      <td>353.01</td>\n",
       "      <td>987</td>\n",
       "      <td>DCA</td>\n",
       "      <td>RSETozIzLjLQdvO1tO9iRU04Z</td>\n",
       "      <td>284.60</td>\n",
       "      <td>68.0</td>\n",
       "      <td>0.41</td>\n",
       "      <td>2016-01-25T05:15</td>\n",
       "      <td>2016-01-25T07:00-05:00</td>\n",
       "      <td>891</td>\n",
       "      <td>75</td>\n",
       "      <td>21</td>\n",
       "      <td>UA</td>\n",
       "      <td>22.063125</td>\n",
       "    </tr>\n",
       "    <tr>\n",
       "      <th>918</th>\n",
       "      <td>919</td>\n",
       "      <td>353.01</td>\n",
       "      <td>984</td>\n",
       "      <td>DCA</td>\n",
       "      <td>RSETozIzLjLQdvO1tO9iRU04P</td>\n",
       "      <td>284.60</td>\n",
       "      <td>68.0</td>\n",
       "      <td>0.41</td>\n",
       "      <td>2016-01-25T06:00</td>\n",
       "      <td>2016-01-25T07:45-05:00</td>\n",
       "      <td>888</td>\n",
       "      <td>75</td>\n",
       "      <td>21</td>\n",
       "      <td>UA</td>\n",
       "      <td>22.063125</td>\n",
       "    </tr>\n",
       "    <tr>\n",
       "      <th>1137</th>\n",
       "      <td>1138</td>\n",
       "      <td>259.01</td>\n",
       "      <td>722</td>\n",
       "      <td>DCA</td>\n",
       "      <td>RSETozIzLjLQdvO1tO9iRU00d</td>\n",
       "      <td>190.60</td>\n",
       "      <td>68.0</td>\n",
       "      <td>0.41</td>\n",
       "      <td>2016-01-25T11:00</td>\n",
       "      <td>2016-01-25T12:45-05:00</td>\n",
       "      <td>626</td>\n",
       "      <td>75</td>\n",
       "      <td>21</td>\n",
       "      <td>UA</td>\n",
       "      <td>21.584167</td>\n",
       "    </tr>\n",
       "    <tr>\n",
       "      <th>1138</th>\n",
       "      <td>1139</td>\n",
       "      <td>259.01</td>\n",
       "      <td>755</td>\n",
       "      <td>DCA</td>\n",
       "      <td>RSETozIzLjLQdvO1tO9iRU00v</td>\n",
       "      <td>190.60</td>\n",
       "      <td>68.0</td>\n",
       "      <td>0.41</td>\n",
       "      <td>2016-01-25T06:00</td>\n",
       "      <td>2016-01-25T07:45-05:00</td>\n",
       "      <td>659</td>\n",
       "      <td>75</td>\n",
       "      <td>21</td>\n",
       "      <td>UA</td>\n",
       "      <td>21.584167</td>\n",
       "    </tr>\n",
       "    <tr>\n",
       "      <th>1141</th>\n",
       "      <td>1142</td>\n",
       "      <td>301.01</td>\n",
       "      <td>1020</td>\n",
       "      <td>DCA</td>\n",
       "      <td>RSETozIzLjLQdvO1tO9iRU03K</td>\n",
       "      <td>232.60</td>\n",
       "      <td>68.0</td>\n",
       "      <td>0.41</td>\n",
       "      <td>2016-01-25T07:00</td>\n",
       "      <td>2016-01-25T08:39-05:00</td>\n",
       "      <td>924</td>\n",
       "      <td>75</td>\n",
       "      <td>21</td>\n",
       "      <td>UA</td>\n",
       "      <td>17.706471</td>\n",
       "    </tr>\n",
       "    <tr>\n",
       "      <th>1142</th>\n",
       "      <td>1143</td>\n",
       "      <td>303.01</td>\n",
       "      <td>864</td>\n",
       "      <td>DCA</td>\n",
       "      <td>RSETozIzLjLQdvO1tO9iRU050</td>\n",
       "      <td>234.60</td>\n",
       "      <td>68.0</td>\n",
       "      <td>0.41</td>\n",
       "      <td>2016-01-25T12:00</td>\n",
       "      <td>2016-01-25T13:45-05:00</td>\n",
       "      <td>767</td>\n",
       "      <td>75</td>\n",
       "      <td>22</td>\n",
       "      <td>UA</td>\n",
       "      <td>21.643571</td>\n",
       "    </tr>\n",
       "    <tr>\n",
       "      <th>1189</th>\n",
       "      <td>1190</td>\n",
       "      <td>283.01</td>\n",
       "      <td>819</td>\n",
       "      <td>DCA</td>\n",
       "      <td>RSETozIzLjLQdvO1tO9iRU01V</td>\n",
       "      <td>214.60</td>\n",
       "      <td>68.0</td>\n",
       "      <td>0.41</td>\n",
       "      <td>2016-01-25T06:15</td>\n",
       "      <td>2016-01-25T07:57-05:00</td>\n",
       "      <td>723</td>\n",
       "      <td>75</td>\n",
       "      <td>21</td>\n",
       "      <td>UA</td>\n",
       "      <td>21.770000</td>\n",
       "    </tr>\n",
       "    <tr>\n",
       "      <th>1190</th>\n",
       "      <td>1191</td>\n",
       "      <td>283.01</td>\n",
       "      <td>831</td>\n",
       "      <td>DCA</td>\n",
       "      <td>RSETozIzLjLQdvO1tO9iRU01d</td>\n",
       "      <td>214.60</td>\n",
       "      <td>68.0</td>\n",
       "      <td>0.41</td>\n",
       "      <td>2016-01-25T06:00</td>\n",
       "      <td>2016-01-25T07:45-05:00</td>\n",
       "      <td>735</td>\n",
       "      <td>75</td>\n",
       "      <td>21</td>\n",
       "      <td>UA</td>\n",
       "      <td>21.770000</td>\n",
       "    </tr>\n",
       "    <tr>\n",
       "      <th>1191</th>\n",
       "      <td>1192</td>\n",
       "      <td>283.01</td>\n",
       "      <td>857</td>\n",
       "      <td>DCA</td>\n",
       "      <td>RSETozIzLjLQdvO1tO9iRU01i</td>\n",
       "      <td>214.60</td>\n",
       "      <td>68.0</td>\n",
       "      <td>0.41</td>\n",
       "      <td>2016-01-25T04:15</td>\n",
       "      <td>2016-01-25T06:00-05:00</td>\n",
       "      <td>761</td>\n",
       "      <td>75</td>\n",
       "      <td>21</td>\n",
       "      <td>UA</td>\n",
       "      <td>20.215000</td>\n",
       "    </tr>\n",
       "    <tr>\n",
       "      <th>1192</th>\n",
       "      <td>1193</td>\n",
       "      <td>283.01</td>\n",
       "      <td>880</td>\n",
       "      <td>DCA</td>\n",
       "      <td>RSETozIzLjLQdvO1tO9iRU01t</td>\n",
       "      <td>214.60</td>\n",
       "      <td>68.0</td>\n",
       "      <td>0.41</td>\n",
       "      <td>2016-01-25T12:00</td>\n",
       "      <td>2016-01-25T13:45-05:00</td>\n",
       "      <td>783</td>\n",
       "      <td>75</td>\n",
       "      <td>22</td>\n",
       "      <td>UA</td>\n",
       "      <td>20.215000</td>\n",
       "    </tr>\n",
       "    <tr>\n",
       "      <th>1193</th>\n",
       "      <td>1194</td>\n",
       "      <td>283.01</td>\n",
       "      <td>797</td>\n",
       "      <td>DCA</td>\n",
       "      <td>RSETozIzLjLQdvO1tO9iRU010</td>\n",
       "      <td>214.60</td>\n",
       "      <td>68.0</td>\n",
       "      <td>0.41</td>\n",
       "      <td>2016-01-25T05:15</td>\n",
       "      <td>2016-01-25T07:00-05:00</td>\n",
       "      <td>701</td>\n",
       "      <td>75</td>\n",
       "      <td>21</td>\n",
       "      <td>UA</td>\n",
       "      <td>21.770000</td>\n",
       "    </tr>\n",
       "    <tr>\n",
       "      <th>1194</th>\n",
       "      <td>1195</td>\n",
       "      <td>283.01</td>\n",
       "      <td>1006</td>\n",
       "      <td>DCA</td>\n",
       "      <td>RSETozIzLjLQdvO1tO9iRU02f</td>\n",
       "      <td>214.60</td>\n",
       "      <td>68.0</td>\n",
       "      <td>0.41</td>\n",
       "      <td>2016-01-25T05:15</td>\n",
       "      <td>2016-01-25T07:00-05:00</td>\n",
       "      <td>910</td>\n",
       "      <td>75</td>\n",
       "      <td>21</td>\n",
       "      <td>UA</td>\n",
       "      <td>17.688125</td>\n",
       "    </tr>\n",
       "    <tr>\n",
       "      <th>1196</th>\n",
       "      <td>1197</td>\n",
       "      <td>283.01</td>\n",
       "      <td>876</td>\n",
       "      <td>DCA</td>\n",
       "      <td>RSETozIzLjLQdvO1tO9iRU01s</td>\n",
       "      <td>214.60</td>\n",
       "      <td>68.0</td>\n",
       "      <td>0.41</td>\n",
       "      <td>2016-01-25T05:15</td>\n",
       "      <td>2016-01-25T07:00-05:00</td>\n",
       "      <td>780</td>\n",
       "      <td>75</td>\n",
       "      <td>21</td>\n",
       "      <td>UA</td>\n",
       "      <td>20.215000</td>\n",
       "    </tr>\n",
       "    <tr>\n",
       "      <th>1197</th>\n",
       "      <td>1198</td>\n",
       "      <td>283.01</td>\n",
       "      <td>819</td>\n",
       "      <td>DCA</td>\n",
       "      <td>RSETozIzLjLQdvO1tO9iRU01U</td>\n",
       "      <td>214.60</td>\n",
       "      <td>68.0</td>\n",
       "      <td>0.41</td>\n",
       "      <td>2016-01-25T13:00</td>\n",
       "      <td>2016-01-25T14:45-05:00</td>\n",
       "      <td>723</td>\n",
       "      <td>75</td>\n",
       "      <td>21</td>\n",
       "      <td>UA</td>\n",
       "      <td>21.770000</td>\n",
       "    </tr>\n",
       "    <tr>\n",
       "      <th>1198</th>\n",
       "      <td>1199</td>\n",
       "      <td>283.01</td>\n",
       "      <td>857</td>\n",
       "      <td>DCA</td>\n",
       "      <td>RSETozIzLjLQdvO1tO9iRU01j</td>\n",
       "      <td>214.60</td>\n",
       "      <td>68.0</td>\n",
       "      <td>0.41</td>\n",
       "      <td>2016-01-25T04:15</td>\n",
       "      <td>2016-01-25T06:00-05:00</td>\n",
       "      <td>761</td>\n",
       "      <td>75</td>\n",
       "      <td>21</td>\n",
       "      <td>UA</td>\n",
       "      <td>20.215000</td>\n",
       "    </tr>\n",
       "    <tr>\n",
       "      <th>1199</th>\n",
       "      <td>1200</td>\n",
       "      <td>283.01</td>\n",
       "      <td>826</td>\n",
       "      <td>DCA</td>\n",
       "      <td>RSETozIzLjLQdvO1tO9iRU01a</td>\n",
       "      <td>214.60</td>\n",
       "      <td>68.0</td>\n",
       "      <td>0.41</td>\n",
       "      <td>2016-01-25T10:00</td>\n",
       "      <td>2016-01-25T11:45-05:00</td>\n",
       "      <td>730</td>\n",
       "      <td>75</td>\n",
       "      <td>21</td>\n",
       "      <td>UA</td>\n",
       "      <td>21.770000</td>\n",
       "    </tr>\n",
       "    <tr>\n",
       "      <th>1200</th>\n",
       "      <td>1201</td>\n",
       "      <td>283.01</td>\n",
       "      <td>939</td>\n",
       "      <td>DCA</td>\n",
       "      <td>RSETozIzLjLQdvO1tO9iRU029</td>\n",
       "      <td>214.60</td>\n",
       "      <td>68.0</td>\n",
       "      <td>0.41</td>\n",
       "      <td>2016-01-25T11:00</td>\n",
       "      <td>2016-01-25T12:45-05:00</td>\n",
       "      <td>843</td>\n",
       "      <td>75</td>\n",
       "      <td>21</td>\n",
       "      <td>UA</td>\n",
       "      <td>18.867333</td>\n",
       "    </tr>\n",
       "    <tr>\n",
       "      <th>1202</th>\n",
       "      <td>1203</td>\n",
       "      <td>283.01</td>\n",
       "      <td>825</td>\n",
       "      <td>DCA</td>\n",
       "      <td>RSETozIzLjLQdvO1tO9iRU01Z</td>\n",
       "      <td>214.60</td>\n",
       "      <td>68.0</td>\n",
       "      <td>0.41</td>\n",
       "      <td>2016-01-25T13:00</td>\n",
       "      <td>2016-01-25T14:39-05:00</td>\n",
       "      <td>729</td>\n",
       "      <td>75</td>\n",
       "      <td>21</td>\n",
       "      <td>UA</td>\n",
       "      <td>21.770000</td>\n",
       "    </tr>\n",
       "    <tr>\n",
       "      <th>1204</th>\n",
       "      <td>1205</td>\n",
       "      <td>283.01</td>\n",
       "      <td>876</td>\n",
       "      <td>DCA</td>\n",
       "      <td>RSETozIzLjLQdvO1tO9iRU01D</td>\n",
       "      <td>214.60</td>\n",
       "      <td>68.0</td>\n",
       "      <td>0.41</td>\n",
       "      <td>2016-01-25T05:15</td>\n",
       "      <td>2016-01-25T07:00-05:00</td>\n",
       "      <td>780</td>\n",
       "      <td>75</td>\n",
       "      <td>21</td>\n",
       "      <td>UA</td>\n",
       "      <td>20.215000</td>\n",
       "    </tr>\n",
       "    <tr>\n",
       "      <th>1205</th>\n",
       "      <td>1206</td>\n",
       "      <td>283.01</td>\n",
       "      <td>831</td>\n",
       "      <td>DCA</td>\n",
       "      <td>RSETozIzLjLQdvO1tO9iRU01c</td>\n",
       "      <td>214.60</td>\n",
       "      <td>68.0</td>\n",
       "      <td>0.41</td>\n",
       "      <td>2016-01-25T06:00</td>\n",
       "      <td>2016-01-25T07:45-05:00</td>\n",
       "      <td>735</td>\n",
       "      <td>75</td>\n",
       "      <td>21</td>\n",
       "      <td>UA</td>\n",
       "      <td>21.770000</td>\n",
       "    </tr>\n",
       "    <tr>\n",
       "      <th>1206</th>\n",
       "      <td>1207</td>\n",
       "      <td>283.01</td>\n",
       "      <td>825</td>\n",
       "      <td>DCA</td>\n",
       "      <td>RSETozIzLjLQdvO1tO9iRU01Y</td>\n",
       "      <td>214.60</td>\n",
       "      <td>68.0</td>\n",
       "      <td>0.41</td>\n",
       "      <td>2016-01-25T13:00</td>\n",
       "      <td>2016-01-25T14:39-05:00</td>\n",
       "      <td>729</td>\n",
       "      <td>75</td>\n",
       "      <td>21</td>\n",
       "      <td>UA</td>\n",
       "      <td>21.770000</td>\n",
       "    </tr>\n",
       "    <tr>\n",
       "      <th>1207</th>\n",
       "      <td>1208</td>\n",
       "      <td>283.01</td>\n",
       "      <td>797</td>\n",
       "      <td>DCA</td>\n",
       "      <td>RSETozIzLjLQdvO1tO9iRU01N</td>\n",
       "      <td>214.60</td>\n",
       "      <td>68.0</td>\n",
       "      <td>0.41</td>\n",
       "      <td>2016-01-25T05:15</td>\n",
       "      <td>2016-01-25T07:00-05:00</td>\n",
       "      <td>701</td>\n",
       "      <td>75</td>\n",
       "      <td>21</td>\n",
       "      <td>UA</td>\n",
       "      <td>21.770000</td>\n",
       "    </tr>\n",
       "    <tr>\n",
       "      <th>1208</th>\n",
       "      <td>1209</td>\n",
       "      <td>283.01</td>\n",
       "      <td>797</td>\n",
       "      <td>DCA</td>\n",
       "      <td>RSETozIzLjLQdvO1tO9iRU01O</td>\n",
       "      <td>214.60</td>\n",
       "      <td>68.0</td>\n",
       "      <td>0.41</td>\n",
       "      <td>2016-01-25T05:15</td>\n",
       "      <td>2016-01-25T07:00-05:00</td>\n",
       "      <td>701</td>\n",
       "      <td>75</td>\n",
       "      <td>21</td>\n",
       "      <td>UA</td>\n",
       "      <td>21.770000</td>\n",
       "    </tr>\n",
       "    <tr>\n",
       "      <th>1209</th>\n",
       "      <td>1210</td>\n",
       "      <td>283.01</td>\n",
       "      <td>936</td>\n",
       "      <td>DCA</td>\n",
       "      <td>RSETozIzLjLQdvO1tO9iRU027</td>\n",
       "      <td>214.60</td>\n",
       "      <td>68.0</td>\n",
       "      <td>0.41</td>\n",
       "      <td>2016-01-25T04:15</td>\n",
       "      <td>2016-01-25T06:00-05:00</td>\n",
       "      <td>840</td>\n",
       "      <td>75</td>\n",
       "      <td>21</td>\n",
       "      <td>UA</td>\n",
       "      <td>18.867333</td>\n",
       "    </tr>\n",
       "    <tr>\n",
       "      <th>1210</th>\n",
       "      <td>1211</td>\n",
       "      <td>346.01</td>\n",
       "      <td>1002</td>\n",
       "      <td>DCA</td>\n",
       "      <td>RSETozIzLjLQdvO1tO9iRU04R</td>\n",
       "      <td>277.60</td>\n",
       "      <td>68.0</td>\n",
       "      <td>0.41</td>\n",
       "      <td>2016-01-25T04:15</td>\n",
       "      <td>2016-01-25T06:00-05:00</td>\n",
       "      <td>906</td>\n",
       "      <td>75</td>\n",
       "      <td>21</td>\n",
       "      <td>UA</td>\n",
       "      <td>21.625625</td>\n",
       "    </tr>\n",
       "    <tr>\n",
       "      <th>1234</th>\n",
       "      <td>1235</td>\n",
       "      <td>353.01</td>\n",
       "      <td>984</td>\n",
       "      <td>DCA</td>\n",
       "      <td>RSETozIzLjLQdvO1tO9iRU04N</td>\n",
       "      <td>284.60</td>\n",
       "      <td>68.0</td>\n",
       "      <td>0.41</td>\n",
       "      <td>2016-01-25T10:00</td>\n",
       "      <td>2016-01-25T11:45-05:00</td>\n",
       "      <td>888</td>\n",
       "      <td>75</td>\n",
       "      <td>21</td>\n",
       "      <td>UA</td>\n",
       "      <td>22.063125</td>\n",
       "    </tr>\n",
       "    <tr>\n",
       "      <th>1236</th>\n",
       "      <td>1237</td>\n",
       "      <td>353.01</td>\n",
       "      <td>974</td>\n",
       "      <td>DCA</td>\n",
       "      <td>RSETozIzLjLQdvO1tO9iRU04F</td>\n",
       "      <td>284.60</td>\n",
       "      <td>68.0</td>\n",
       "      <td>0.41</td>\n",
       "      <td>2016-01-25T04:15</td>\n",
       "      <td>2016-01-25T06:00-05:00</td>\n",
       "      <td>878</td>\n",
       "      <td>75</td>\n",
       "      <td>21</td>\n",
       "      <td>UA</td>\n",
       "      <td>22.063125</td>\n",
       "    </tr>\n",
       "  </tbody>\n",
       "</table>\n",
       "<p>301 rows × 15 columns</p>\n",
       "</div>"
      ],
      "text/plain": [
       "        id  totalcost  totalduration airport                   flightid  \\\n",
       "0        1     180.81            552     BWI  2ciqOzND4aTUuEtKvqnX82002   \n",
       "1        2     189.31            698     BWI  2ciqOzND4aTUuEtKvqnX82007   \n",
       "2        3     189.31            821     BWI  2ciqOzND4aTUuEtKvqnX8200d   \n",
       "3        4     194.31            795     BWI  2ciqOzND4aTUuEtKvqnX8200E   \n",
       "4        5     194.31            775     BWI  2ciqOzND4aTUuEtKvqnX8200D   \n",
       "5        6     217.31            683     BWI  2ciqOzND4aTUuEtKvqnX8200U   \n",
       "6        7     228.31            787     BWI  2ciqOzND4aTUuEtKvqnX8200F   \n",
       "7        8     232.31            922     BWI  2ciqOzND4aTUuEtKvqnX8200s   \n",
       "8        9     232.31            922     BWI  2ciqOzND4aTUuEtKvqnX8200r   \n",
       "9       10     232.31            842     BWI  2ciqOzND4aTUuEtKvqnX8200k   \n",
       "10      11     240.31            974     BWI  2ciqOzND4aTUuEtKvqnX82012   \n",
       "11      12     240.31            830     BWI  2ciqOzND4aTUuEtKvqnX8200l   \n",
       "12      13     266.31           1067     BWI  2ciqOzND4aTUuEtKvqnX8201t   \n",
       "13      14     266.31           1067     BWI  2ciqOzND4aTUuEtKvqnX8201u   \n",
       "14      15     266.31            965     BWI  2ciqOzND4aTUuEtKvqnX8201L   \n",
       "15      16     266.31            899     BWI  2ciqOzND4aTUuEtKvqnX82010   \n",
       "16      17     266.31            965     BWI  2ciqOzND4aTUuEtKvqnX8201K   \n",
       "17      18     266.31           1142     BWI  2ciqOzND4aTUuEtKvqnX82028   \n",
       "18      19     266.31            804     BWI  2ciqOzND4aTUuEtKvqnX8200n   \n",
       "19      20     266.31           1097     BWI  2ciqOzND4aTUuEtKvqnX8201z   \n",
       "20      21     266.31           1006     BWI  2ciqOzND4aTUuEtKvqnX8201X   \n",
       "21      22     266.31           1058     BWI  2ciqOzND4aTUuEtKvqnX8201r   \n",
       "24      25     270.31            794     BWI  2ciqOzND4aTUuEtKvqnX8200m   \n",
       "25      26     272.31           1289     BWI  2ciqOzND4aTUuEtKvqnX8200N   \n",
       "26      27     275.31            832     BWI  2ciqOzND4aTUuEtKvqnX8200u   \n",
       "27      28     277.31            822     BWI  2ciqOzND4aTUuEtKvqnX8200t   \n",
       "28      29     277.31            913     BWI  2ciqOzND4aTUuEtKvqnX82017   \n",
       "29      30     277.31            952     BWI  2ciqOzND4aTUuEtKvqnX8201O   \n",
       "30      31     277.31            954     BWI  2ciqOzND4aTUuEtKvqnX8201Q   \n",
       "31      32     277.31           1055     BWI  2ciqOzND4aTUuEtKvqnX8201v   \n",
       "...    ...        ...            ...     ...                        ...   \n",
       "874    875     323.02            960     DCA  RSETozIzLjLQdvO1tO9iRU03E   \n",
       "876    877     323.02            960     DCA  RSETozIzLjLQdvO1tO9iRU03D   \n",
       "911    912     353.01            984     DCA  RSETozIzLjLQdvO1tO9iRU04O   \n",
       "917    918     353.01            987     DCA  RSETozIzLjLQdvO1tO9iRU04Z   \n",
       "918    919     353.01            984     DCA  RSETozIzLjLQdvO1tO9iRU04P   \n",
       "1137  1138     259.01            722     DCA  RSETozIzLjLQdvO1tO9iRU00d   \n",
       "1138  1139     259.01            755     DCA  RSETozIzLjLQdvO1tO9iRU00v   \n",
       "1141  1142     301.01           1020     DCA  RSETozIzLjLQdvO1tO9iRU03K   \n",
       "1142  1143     303.01            864     DCA  RSETozIzLjLQdvO1tO9iRU050   \n",
       "1189  1190     283.01            819     DCA  RSETozIzLjLQdvO1tO9iRU01V   \n",
       "1190  1191     283.01            831     DCA  RSETozIzLjLQdvO1tO9iRU01d   \n",
       "1191  1192     283.01            857     DCA  RSETozIzLjLQdvO1tO9iRU01i   \n",
       "1192  1193     283.01            880     DCA  RSETozIzLjLQdvO1tO9iRU01t   \n",
       "1193  1194     283.01            797     DCA  RSETozIzLjLQdvO1tO9iRU010   \n",
       "1194  1195     283.01           1006     DCA  RSETozIzLjLQdvO1tO9iRU02f   \n",
       "1196  1197     283.01            876     DCA  RSETozIzLjLQdvO1tO9iRU01s   \n",
       "1197  1198     283.01            819     DCA  RSETozIzLjLQdvO1tO9iRU01U   \n",
       "1198  1199     283.01            857     DCA  RSETozIzLjLQdvO1tO9iRU01j   \n",
       "1199  1200     283.01            826     DCA  RSETozIzLjLQdvO1tO9iRU01a   \n",
       "1200  1201     283.01            939     DCA  RSETozIzLjLQdvO1tO9iRU029   \n",
       "1202  1203     283.01            825     DCA  RSETozIzLjLQdvO1tO9iRU01Z   \n",
       "1204  1205     283.01            876     DCA  RSETozIzLjLQdvO1tO9iRU01D   \n",
       "1205  1206     283.01            831     DCA  RSETozIzLjLQdvO1tO9iRU01c   \n",
       "1206  1207     283.01            825     DCA  RSETozIzLjLQdvO1tO9iRU01Y   \n",
       "1207  1208     283.01            797     DCA  RSETozIzLjLQdvO1tO9iRU01N   \n",
       "1208  1209     283.01            797     DCA  RSETozIzLjLQdvO1tO9iRU01O   \n",
       "1209  1210     283.01            936     DCA  RSETozIzLjLQdvO1tO9iRU027   \n",
       "1210  1211     346.01           1002     DCA  RSETozIzLjLQdvO1tO9iRU04R   \n",
       "1234  1235     353.01            984     DCA  RSETozIzLjLQdvO1tO9iRU04N   \n",
       "1236  1237     353.01            974     DCA  RSETozIzLjLQdvO1tO9iRU04F   \n",
       "\n",
       "      flightcost  parkingcost  drivingcost     timeleavehome  \\\n",
       "0         143.10         35.6         2.11  2016-01-25T04:15   \n",
       "1         151.60         35.6         2.11  2016-01-25T10:00   \n",
       "2         151.60         35.6         2.11  2016-01-25T05:00   \n",
       "3         156.60         35.6         2.11  2016-01-25T14:00   \n",
       "4         156.60         35.6         2.11  2016-01-25T14:00   \n",
       "5         179.60         35.6         2.11  2016-01-25T05:00   \n",
       "6         190.60         35.6         2.11  2016-01-25T13:00   \n",
       "7         194.60         35.6         2.11  2016-01-25T07:45   \n",
       "8         194.60         35.6         2.11  2016-01-25T07:45   \n",
       "9         194.60         35.6         2.11  2016-01-25T07:45   \n",
       "10        202.60         35.6         2.11  2016-01-25T07:45   \n",
       "11        202.60         35.6         2.11  2016-01-25T10:00   \n",
       "12        228.60         35.6         2.11  2016-01-25T04:30   \n",
       "13        228.60         35.6         2.11  2016-01-25T04:30   \n",
       "14        228.60         35.6         2.11  2016-01-25T10:45   \n",
       "15        228.60         35.6         2.11  2016-01-25T10:45   \n",
       "16        228.60         35.6         2.11  2016-01-25T10:45   \n",
       "17        228.60         35.6         2.11  2016-01-25T04:30   \n",
       "18        228.60         35.6         2.11  2016-01-25T10:00   \n",
       "19        228.60         35.6         2.11  2016-01-25T02:45   \n",
       "20        228.60         35.6         2.11  2016-01-25T10:00   \n",
       "21        228.60         35.6         2.11  2016-01-25T03:15   \n",
       "24        232.60         35.6         2.11  2016-01-25T10:00   \n",
       "25        234.60         35.6         2.11  2016-01-25T03:00   \n",
       "26        237.60         35.6         2.11  2016-01-25T10:00   \n",
       "27        239.60         35.6         2.11  2016-01-25T10:00   \n",
       "28        239.60         35.6         2.11  2016-01-25T03:15   \n",
       "29        239.60         35.6         2.11  2016-01-25T02:45   \n",
       "30        239.60         35.6         2.11  2016-01-25T10:45   \n",
       "31        239.60         35.6         2.11  2016-01-25T04:30   \n",
       "...          ...          ...          ...               ...   \n",
       "874       254.61         68.0         0.41  2016-01-25T12:45   \n",
       "876       254.61         68.0         0.41  2016-01-25T12:45   \n",
       "911       284.60         68.0         0.41  2016-01-25T06:00   \n",
       "917       284.60         68.0         0.41  2016-01-25T05:15   \n",
       "918       284.60         68.0         0.41  2016-01-25T06:00   \n",
       "1137      190.60         68.0         0.41  2016-01-25T11:00   \n",
       "1138      190.60         68.0         0.41  2016-01-25T06:00   \n",
       "1141      232.60         68.0         0.41  2016-01-25T07:00   \n",
       "1142      234.60         68.0         0.41  2016-01-25T12:00   \n",
       "1189      214.60         68.0         0.41  2016-01-25T06:15   \n",
       "1190      214.60         68.0         0.41  2016-01-25T06:00   \n",
       "1191      214.60         68.0         0.41  2016-01-25T04:15   \n",
       "1192      214.60         68.0         0.41  2016-01-25T12:00   \n",
       "1193      214.60         68.0         0.41  2016-01-25T05:15   \n",
       "1194      214.60         68.0         0.41  2016-01-25T05:15   \n",
       "1196      214.60         68.0         0.41  2016-01-25T05:15   \n",
       "1197      214.60         68.0         0.41  2016-01-25T13:00   \n",
       "1198      214.60         68.0         0.41  2016-01-25T04:15   \n",
       "1199      214.60         68.0         0.41  2016-01-25T10:00   \n",
       "1200      214.60         68.0         0.41  2016-01-25T11:00   \n",
       "1202      214.60         68.0         0.41  2016-01-25T13:00   \n",
       "1204      214.60         68.0         0.41  2016-01-25T05:15   \n",
       "1205      214.60         68.0         0.41  2016-01-25T06:00   \n",
       "1206      214.60         68.0         0.41  2016-01-25T13:00   \n",
       "1207      214.60         68.0         0.41  2016-01-25T05:15   \n",
       "1208      214.60         68.0         0.41  2016-01-25T05:15   \n",
       "1209      214.60         68.0         0.41  2016-01-25T04:15   \n",
       "1210      277.60         68.0         0.41  2016-01-25T04:15   \n",
       "1234      284.60         68.0         0.41  2016-01-25T10:00   \n",
       "1236      284.60         68.0         0.41  2016-01-25T04:15   \n",
       "\n",
       "             flightdeparture  flightduration  atairporttime  drivingduration  \\\n",
       "0     2016-01-25T07:40-05:00             360            120               72   \n",
       "1     2016-01-25T13:20-05:00             511            120               67   \n",
       "2     2016-01-25T08:12-05:00             629            120               72   \n",
       "3     2016-01-25T17:15-05:00             607            120               68   \n",
       "4     2016-01-25T17:15-05:00             587            120               68   \n",
       "5     2016-01-25T08:12-05:00             491            120               72   \n",
       "6     2016-01-25T16:10-05:00             598            120               69   \n",
       "7     2016-01-25T10:56-05:00             735            120               67   \n",
       "8     2016-01-25T10:56-05:00             735            120               67   \n",
       "9     2016-01-25T10:56-05:00             655            120               67   \n",
       "10    2016-01-25T10:56-05:00             787            120               67   \n",
       "11    2016-01-25T13:20-05:00             643            120               67   \n",
       "12    2016-01-25T07:47-05:00             875            120               72   \n",
       "13    2016-01-25T07:47-05:00             875            120               72   \n",
       "14    2016-01-25T14:01-05:00             778            120               67   \n",
       "15    2016-01-25T14:01-05:00             712            120               67   \n",
       "16    2016-01-25T14:01-05:00             778            120               67   \n",
       "17    2016-01-25T07:47-05:00             950            120               72   \n",
       "18    2016-01-25T13:20-05:00             617            120               67   \n",
       "19    2016-01-25T06:01-05:00             905            120               72   \n",
       "20    2016-01-25T13:20-05:00             819            120               67   \n",
       "21    2016-01-25T06:40-05:00             866            120               72   \n",
       "24    2016-01-25T13:20-05:00             607            120               67   \n",
       "25    2016-01-25T06:20-05:00            1097            120               72   \n",
       "26    2016-01-25T13:20-05:00             645            120               67   \n",
       "27    2016-01-25T13:20-05:00             635            120               67   \n",
       "28    2016-01-25T06:40-05:00             721            120               72   \n",
       "29    2016-01-25T06:01-05:00             760            120               72   \n",
       "30    2016-01-25T14:01-05:00             767            120               67   \n",
       "31    2016-01-25T07:47-05:00             863            120               72   \n",
       "...                      ...             ...            ...              ...   \n",
       "874   2016-01-25T14:25-05:00             863             75               22   \n",
       "876   2016-01-25T14:25-05:00             863             75               22   \n",
       "911   2016-01-25T07:45-05:00             888             75               21   \n",
       "917   2016-01-25T07:00-05:00             891             75               21   \n",
       "918   2016-01-25T07:45-05:00             888             75               21   \n",
       "1137  2016-01-25T12:45-05:00             626             75               21   \n",
       "1138  2016-01-25T07:45-05:00             659             75               21   \n",
       "1141  2016-01-25T08:39-05:00             924             75               21   \n",
       "1142  2016-01-25T13:45-05:00             767             75               22   \n",
       "1189  2016-01-25T07:57-05:00             723             75               21   \n",
       "1190  2016-01-25T07:45-05:00             735             75               21   \n",
       "1191  2016-01-25T06:00-05:00             761             75               21   \n",
       "1192  2016-01-25T13:45-05:00             783             75               22   \n",
       "1193  2016-01-25T07:00-05:00             701             75               21   \n",
       "1194  2016-01-25T07:00-05:00             910             75               21   \n",
       "1196  2016-01-25T07:00-05:00             780             75               21   \n",
       "1197  2016-01-25T14:45-05:00             723             75               21   \n",
       "1198  2016-01-25T06:00-05:00             761             75               21   \n",
       "1199  2016-01-25T11:45-05:00             730             75               21   \n",
       "1200  2016-01-25T12:45-05:00             843             75               21   \n",
       "1202  2016-01-25T14:39-05:00             729             75               21   \n",
       "1204  2016-01-25T07:00-05:00             780             75               21   \n",
       "1205  2016-01-25T07:45-05:00             735             75               21   \n",
       "1206  2016-01-25T14:39-05:00             729             75               21   \n",
       "1207  2016-01-25T07:00-05:00             701             75               21   \n",
       "1208  2016-01-25T07:00-05:00             701             75               21   \n",
       "1209  2016-01-25T06:00-05:00             840             75               21   \n",
       "1210  2016-01-25T06:00-05:00             906             75               21   \n",
       "1234  2016-01-25T11:45-05:00             888             75               21   \n",
       "1236  2016-01-25T06:00-05:00             878             75               21   \n",
       "\n",
       "     airline  costperhour  \n",
       "0         AS    20.090000  \n",
       "1         UA    17.210000  \n",
       "2         UA    14.562308  \n",
       "3         AS    14.946923  \n",
       "4         AS    16.192500  \n",
       "5         UA    19.755455  \n",
       "6         B6    17.562308  \n",
       "7         UA    15.487333  \n",
       "8         UA    15.487333  \n",
       "9         UA    16.593571  \n",
       "10        UA    15.019375  \n",
       "11        UA    18.485385  \n",
       "12        UA    15.665294  \n",
       "13        UA    15.665294  \n",
       "14        UA    16.644375  \n",
       "15        UA    19.022143  \n",
       "16        UA    16.644375  \n",
       "17        UA    14.016316  \n",
       "18        UA    20.485385  \n",
       "19        UA    14.795000  \n",
       "20        UA    16.644375  \n",
       "21        UA    15.665294  \n",
       "24        UA    20.793077  \n",
       "25        B6    12.967143  \n",
       "26        UA    21.177692  \n",
       "27        UA    21.331538  \n",
       "28        UA    18.487333  \n",
       "29        UA    18.487333  \n",
       "30        UA    18.487333  \n",
       "31        UA    16.312353  \n",
       "...      ...          ...  \n",
       "874       B6    20.188750  \n",
       "876       B6    20.188750  \n",
       "911       UA    22.063125  \n",
       "917       UA    22.063125  \n",
       "918       UA    22.063125  \n",
       "1137      UA    21.584167  \n",
       "1138      UA    21.584167  \n",
       "1141      UA    17.706471  \n",
       "1142      UA    21.643571  \n",
       "1189      UA    21.770000  \n",
       "1190      UA    21.770000  \n",
       "1191      UA    20.215000  \n",
       "1192      UA    20.215000  \n",
       "1193      UA    21.770000  \n",
       "1194      UA    17.688125  \n",
       "1196      UA    20.215000  \n",
       "1197      UA    21.770000  \n",
       "1198      UA    20.215000  \n",
       "1199      UA    21.770000  \n",
       "1200      UA    18.867333  \n",
       "1202      UA    21.770000  \n",
       "1204      UA    20.215000  \n",
       "1205      UA    21.770000  \n",
       "1206      UA    21.770000  \n",
       "1207      UA    21.770000  \n",
       "1208      UA    21.770000  \n",
       "1209      UA    18.867333  \n",
       "1210      UA    21.625625  \n",
       "1234      UA    22.063125  \n",
       "1236      UA    22.063125  \n",
       "\n",
       "[301 rows x 15 columns]"
      ]
     },
     "execution_count": 176,
     "metadata": {},
     "output_type": "execute_result"
    }
   ],
   "source": [
    "flightsWithLowCostperhour"
   ]
  },
  {
   "cell_type": "code",
   "execution_count": 32,
   "metadata": {
    "collapsed": false
   },
   "outputs": [
    {
     "name": "stdout",
     "output_type": "stream",
     "text": [
      "the number of selectedflights is 34.\n",
      "selectedFlightForIAD is 5.\n",
      "selectedFlightForDCA is 17.\n",
      "selectedFlightForBWI is 12.\n"
     ]
    }
   ],
   "source": [
    "# Set some variables\n",
    "numberOfSelectedFlights = userdata.shape[0] \n",
    "selectedFlightForIAD = len(userdata[userdata.airport == 'IAD'])\n",
    "selectedFlightForDCA = len(userdata[userdata.airport == 'DCA'])\n",
    "selectedFlightForBWI = len(userdata[userdata.airport == 'BWI'])\n",
    "\n",
    "print 'the number of selectedflights is %d.' % numberOfSelectedFlights\n",
    "print 'selectedFlightForIAD is %d.' % selectedFlightForIAD\n",
    "print 'selectedFlightForDCA is %d.' % selectedFlightForDCA\n",
    "print 'selectedFlightForBWI is %d.' % selectedFlightForBWI"
   ]
  },
  {
   "cell_type": "code",
   "execution_count": 178,
   "metadata": {
    "collapsed": false
   },
   "outputs": [
    {
     "name": "stdout",
     "output_type": "stream",
     "text": [
      "the number of selectedflights is 301.\n",
      "selectedFlightForIAD is 101.\n",
      "selectedFlightForDCA is 53.\n",
      "selectedFlightForBWI is 147.\n"
     ]
    }
   ],
   "source": [
    "# dataset of flights where its costperhour is less than or equal to 22.15\n",
    "numberOfSelectedFlights = flightsWithLowCostperhour.shape[0] \n",
    "selectedFlightForIAD = len(flightsWithLowCostperhour[flightsWithLowCostperhour.airport == 'IAD'])\n",
    "selectedFlightForDCA = len(flightsWithLowCostperhour[flightsWithLowCostperhour.airport == 'DCA'])\n",
    "selectedFlightForBWI = len(flightsWithLowCostperhour[flightsWithLowCostperhour.airport == 'BWI'])\n",
    "\n",
    "print 'the number of selectedflights is %d.' % numberOfSelectedFlights\n",
    "print 'selectedFlightForIAD is %d.' % selectedFlightForIAD\n",
    "print 'selectedFlightForDCA is %d.' % selectedFlightForDCA\n",
    "print 'selectedFlightForBWI is %d.' % selectedFlightForBWI"
   ]
  },
  {
   "cell_type": "code",
   "execution_count": 181,
   "metadata": {
    "collapsed": false
   },
   "outputs": [
    {
     "data": {
      "text/plain": [
       "<matplotlib.axes._subplots.AxesSubplot at 0x12f09160>"
      ]
     },
     "execution_count": 181,
     "metadata": {},
     "output_type": "execute_result"
    },
    {
     "data": {
      "image/png": "[encoded data removed]",
      "text/plain": [
       "<matplotlib.figure.Figure at 0x27000eb8>"
      ]
     },
     "metadata": {},
     "output_type": "display_data"
    }
   ],
   "source": [
    "fig, ax = plt.subplots()\n",
    "flightsWithLowCostperhour['airport'].value_counts().plot(ax=ax, color=['r', 'g', 'b'],kind='bar')"
   ]
  },
  {
   "cell_type": "markdown",
   "metadata": {},
   "source": [
    "# airline codes"
   ]
  },
  {
   "cell_type": "code",
   "execution_count": 33,
   "metadata": {
    "collapsed": false
   },
   "outputs": [],
   "source": [
    "airlinecode = pd.read_csv(\"airlinecodes.csv\") "
   ]
  },
  {
   "cell_type": "code",
   "execution_count": 34,
   "metadata": {
    "collapsed": false
   },
   "outputs": [
    {
     "data": {
      "text/html": [
       "<div>\n",
       "<table border=\"1\" class=\"dataframe\">\n",
       "  <thead>\n",
       "    <tr style=\"text-align: right;\">\n",
       "      <th></th>\n",
       "      <th>id</th>\n",
       "      <th>airlinecode</th>\n",
       "      <th>airlinename</th>\n",
       "    </tr>\n",
       "  </thead>\n",
       "  <tbody>\n",
       "    <tr>\n",
       "      <th>0</th>\n",
       "      <td>1</td>\n",
       "      <td>AC</td>\n",
       "      <td>Air Canada</td>\n",
       "    </tr>\n",
       "    <tr>\n",
       "      <th>1</th>\n",
       "      <td>2</td>\n",
       "      <td>AS</td>\n",
       "      <td>Alaska Airlines Inc.</td>\n",
       "    </tr>\n",
       "    <tr>\n",
       "      <th>2</th>\n",
       "      <td>3</td>\n",
       "      <td>B6</td>\n",
       "      <td>Jetblue Airways Corporation</td>\n",
       "    </tr>\n",
       "    <tr>\n",
       "      <th>3</th>\n",
       "      <td>4</td>\n",
       "      <td>NK</td>\n",
       "      <td>Spirit Airlines</td>\n",
       "    </tr>\n",
       "    <tr>\n",
       "      <th>4</th>\n",
       "      <td>5</td>\n",
       "      <td>UA</td>\n",
       "      <td>United Airlines  Inc.</td>\n",
       "    </tr>\n",
       "    <tr>\n",
       "      <th>5</th>\n",
       "      <td>6</td>\n",
       "      <td>AS</td>\n",
       "      <td>Alaska Airlines Inc.</td>\n",
       "    </tr>\n",
       "    <tr>\n",
       "      <th>6</th>\n",
       "      <td>7</td>\n",
       "      <td>B6</td>\n",
       "      <td>Jetblue Airways Corporation</td>\n",
       "    </tr>\n",
       "    <tr>\n",
       "      <th>7</th>\n",
       "      <td>8</td>\n",
       "      <td>F9</td>\n",
       "      <td>Frontier Airlines  Inc.</td>\n",
       "    </tr>\n",
       "    <tr>\n",
       "      <th>8</th>\n",
       "      <td>9</td>\n",
       "      <td>UA</td>\n",
       "      <td>United Airlines  Inc.</td>\n",
       "    </tr>\n",
       "    <tr>\n",
       "      <th>9</th>\n",
       "      <td>10</td>\n",
       "      <td>VX</td>\n",
       "      <td>Virgin America Inc.</td>\n",
       "    </tr>\n",
       "    <tr>\n",
       "      <th>10</th>\n",
       "      <td>11</td>\n",
       "      <td>AC</td>\n",
       "      <td>Air Canada</td>\n",
       "    </tr>\n",
       "    <tr>\n",
       "      <th>11</th>\n",
       "      <td>12</td>\n",
       "      <td>AS</td>\n",
       "      <td>Alaska Airlines Inc.</td>\n",
       "    </tr>\n",
       "    <tr>\n",
       "      <th>12</th>\n",
       "      <td>13</td>\n",
       "      <td>B6</td>\n",
       "      <td>Jetblue Airways Corporation</td>\n",
       "    </tr>\n",
       "    <tr>\n",
       "      <th>13</th>\n",
       "      <td>14</td>\n",
       "      <td>UA</td>\n",
       "      <td>United Airlines  Inc.</td>\n",
       "    </tr>\n",
       "    <tr>\n",
       "      <th>14</th>\n",
       "      <td>15</td>\n",
       "      <td>VX</td>\n",
       "      <td>Virgin America Inc.</td>\n",
       "    </tr>\n",
       "  </tbody>\n",
       "</table>\n",
       "</div>"
      ],
      "text/plain": [
       "    id airlinecode                  airlinename\n",
       "0    1          AC                   Air Canada\n",
       "1    2          AS         Alaska Airlines Inc.\n",
       "2    3          B6  Jetblue Airways Corporation\n",
       "3    4          NK              Spirit Airlines\n",
       "4    5          UA        United Airlines  Inc.\n",
       "5    6          AS         Alaska Airlines Inc.\n",
       "6    7          B6  Jetblue Airways Corporation\n",
       "7    8          F9      Frontier Airlines  Inc.\n",
       "8    9          UA        United Airlines  Inc.\n",
       "9   10          VX          Virgin America Inc.\n",
       "10  11          AC                   Air Canada\n",
       "11  12          AS         Alaska Airlines Inc.\n",
       "12  13          B6  Jetblue Airways Corporation\n",
       "13  14          UA        United Airlines  Inc.\n",
       "14  15          VX          Virgin America Inc."
      ]
     },
     "execution_count": 34,
     "metadata": {},
     "output_type": "execute_result"
    }
   ],
   "source": [
    "airlinecode"
   ]
  },
  {
   "cell_type": "code",
   "execution_count": 35,
   "metadata": {
    "collapsed": false
   },
   "outputs": [
    {
     "name": "stdout",
     "output_type": "stream",
     "text": [
      "the number of selectedflights is 34.\n",
      "selectedFlightForAA is 7.\n",
      "selectedFlightForVX is 4.\n",
      "selectedFlightForAS is 9.\n",
      "selectedFlightForUA is 1.\n",
      "selectedFlightForNK is 11.\n",
      "selectedFlightForF9 is 1.\n",
      "selectedFlightForAK is 1.\n"
     ]
    }
   ],
   "source": [
    "numberOfSelectedFlights = userdata.shape[0] \n",
    "selectedFlightForAA = len(userdata[userdata.airline == 'AA'])\n",
    "selectedFlightForVX = len(userdata[userdata.airline == 'VX'])\n",
    "selectedFlightForAS = len(userdata[userdata.airline == 'AS'])\n",
    "selectedFlightForUA = len(userdata[userdata.airline == 'UA'])\n",
    "selectedFlightForNK = len(userdata[userdata.airline == 'NK'])\n",
    "selectedFlightForF9 = len(userdata[userdata.airline == 'F9'])\n",
    "selectedFlightForAK = len(userdata[userdata.airline == 'AK'])\n",
    "\n",
    "print 'the number of selectedflights is %d.' % numberOfSelectedFlights\n",
    "print 'selectedFlightForAA is %d.' % selectedFlightForAA\n",
    "print 'selectedFlightForVX is %d.' % selectedFlightForVX\n",
    "print 'selectedFlightForAS is %d.' % selectedFlightForAS\n",
    "print 'selectedFlightForUA is %d.' % selectedFlightForUA\n",
    "print 'selectedFlightForNK is %d.' % selectedFlightForNK\n",
    "print 'selectedFlightForF9 is %d.' % selectedFlightForF9\n",
    "print 'selectedFlightForAK is %d.' % selectedFlightForAK"
   ]
  },
  {
   "cell_type": "code",
   "execution_count": 36,
   "metadata": {
    "collapsed": false
   },
   "outputs": [
    {
     "data": {
      "text/plain": [
       "<matplotlib.axes._subplots.AxesSubplot at 0xf18a780>"
      ]
     },
     "execution_count": 36,
     "metadata": {},
     "output_type": "execute_result"
    },
    {
     "data": {
      "image/png": "[encoded data removed]",
      "text/plain": [
       "<matplotlib.figure.Figure at 0xf192240>"
      ]
     },
     "metadata": {},
     "output_type": "display_data"
    }
   ],
   "source": [
    "fig, ax = plt.subplots()\n",
    "userdata['airline'].value_counts().plot(ax=ax, color=['r', 'g', 'b'],kind='bar')"
   ]
  },
  {
   "cell_type": "code",
   "execution_count": 179,
   "metadata": {
    "collapsed": false
   },
   "outputs": [
    {
     "name": "stdout",
     "output_type": "stream",
     "text": [
      "the number of selectedflights is 301.\n",
      "selectedFlightForAA is 0.\n",
      "selectedFlightForVX is 4.\n",
      "selectedFlightForAS is 3.\n",
      "selectedFlightForUA is 277.\n",
      "selectedFlightForNK is 1.\n",
      "selectedFlightForF9 is 0.\n",
      "selectedFlightForAK is 0.\n"
     ]
    }
   ],
   "source": [
    "numberOfSelectedFlights = flightsWithLowCostperhour.shape[0] \n",
    "selectedFlightForAA = len(flightsWithLowCostperhour[flightsWithLowCostperhour.airline == 'AA'])\n",
    "selectedFlightForVX = len(flightsWithLowCostperhour[flightsWithLowCostperhour.airline == 'VX'])\n",
    "selectedFlightForAS = len(flightsWithLowCostperhour[flightsWithLowCostperhour.airline == 'AS'])\n",
    "selectedFlightForUA = len(flightsWithLowCostperhour[flightsWithLowCostperhour.airline == 'UA'])\n",
    "selectedFlightForNK = len(flightsWithLowCostperhour[flightsWithLowCostperhour.airline == 'NK'])\n",
    "selectedFlightForF9 = len(flightsWithLowCostperhour[flightsWithLowCostperhour.airline == 'F9'])\n",
    "selectedFlightForAK = len(flightsWithLowCostperhour[flightsWithLowCostperhour.airline == 'AK'])\n",
    "\n",
    "print 'the number of selectedflights is %d.' % numberOfSelectedFlights\n",
    "print 'selectedFlightForAA is %d.' % selectedFlightForAA\n",
    "print 'selectedFlightForVX is %d.' % selectedFlightForVX\n",
    "print 'selectedFlightForAS is %d.' % selectedFlightForAS\n",
    "print 'selectedFlightForUA is %d.' % selectedFlightForUA\n",
    "print 'selectedFlightForNK is %d.' % selectedFlightForNK\n",
    "print 'selectedFlightForF9 is %d.' % selectedFlightForF9\n",
    "print 'selectedFlightForAK is %d.' % selectedFlightForAK"
   ]
  },
  {
   "cell_type": "code",
   "execution_count": 180,
   "metadata": {
    "collapsed": false
   },
   "outputs": [
    {
     "data": {
      "text/plain": [
       "<matplotlib.axes._subplots.AxesSubplot at 0x12f09748>"
      ]
     },
     "execution_count": 180,
     "metadata": {},
     "output_type": "execute_result"
    },
    {
     "data": {
      "image/png": "[encoded data removed]",
      "text/plain": [
       "<matplotlib.figure.Figure at 0x27000438>"
      ]
     },
     "metadata": {},
     "output_type": "display_data"
    }
   ],
   "source": [
    "fig, ax = plt.subplots()\n",
    "flightsWithLowCostperhour['airline'].value_counts().plot(ax=ax, color=['r', 'g', 'b'],kind='bar')"
   ]
  },
  {
   "cell_type": "markdown",
   "metadata": {},
   "source": [
    "# Modeling starts here"
   ]
  },
  {
   "cell_type": "markdown",
   "metadata": {},
   "source": [
    "# training data"
   ]
  },
  {
   "cell_type": "code",
   "execution_count": 81,
   "metadata": {
    "collapsed": true
   },
   "outputs": [],
   "source": [
    "train = pd.read_csv(\"train.csv\") "
   ]
  },
  {
   "cell_type": "code",
   "execution_count": 38,
   "metadata": {
    "collapsed": false
   },
   "outputs": [
    {
     "data": {
      "text/html": [
       "<div>\n",
       "<table border=\"1\" class=\"dataframe\">\n",
       "  <thead>\n",
       "    <tr style=\"text-align: right;\">\n",
       "      <th></th>\n",
       "      <th>id</th>\n",
       "      <th>totalcost</th>\n",
       "      <th>totalduration</th>\n",
       "      <th>airport</th>\n",
       "      <th>flightid</th>\n",
       "      <th>flightcost</th>\n",
       "      <th>parkingcost</th>\n",
       "      <th>drivingcost</th>\n",
       "      <th>timeleavehome</th>\n",
       "      <th>flightdeparture</th>\n",
       "      <th>flightduration</th>\n",
       "      <th>atairporttime</th>\n",
       "      <th>drivingduration</th>\n",
       "      <th>airline</th>\n",
       "      <th>selected</th>\n",
       "    </tr>\n",
       "  </thead>\n",
       "  <tbody>\n",
       "    <tr>\n",
       "      <th>0</th>\n",
       "      <td>237</td>\n",
       "      <td>165.81</td>\n",
       "      <td>544</td>\n",
       "      <td>BWI</td>\n",
       "      <td>2ciqOzND4aTUuEtKvqnX82001</td>\n",
       "      <td>128.1</td>\n",
       "      <td>35.6</td>\n",
       "      <td>2.11</td>\n",
       "      <td>2016-01-25T05:00</td>\n",
       "      <td>2016-01-25T08:20-05:00</td>\n",
       "      <td>352</td>\n",
       "      <td>120</td>\n",
       "      <td>72</td>\n",
       "      <td>NK</td>\n",
       "      <td>1</td>\n",
       "    </tr>\n",
       "    <tr>\n",
       "      <th>1</th>\n",
       "      <td>1</td>\n",
       "      <td>180.81</td>\n",
       "      <td>552</td>\n",
       "      <td>BWI</td>\n",
       "      <td>2ciqOzND4aTUuEtKvqnX82002</td>\n",
       "      <td>143.1</td>\n",
       "      <td>35.6</td>\n",
       "      <td>2.11</td>\n",
       "      <td>2016-01-25T04:15</td>\n",
       "      <td>2016-01-25T07:40-05:00</td>\n",
       "      <td>360</td>\n",
       "      <td>120</td>\n",
       "      <td>72</td>\n",
       "      <td>AS</td>\n",
       "      <td>1</td>\n",
       "    </tr>\n",
       "    <tr>\n",
       "      <th>2</th>\n",
       "      <td>244</td>\n",
       "      <td>189.31</td>\n",
       "      <td>645</td>\n",
       "      <td>BWI</td>\n",
       "      <td>2ciqOzND4aTUuEtKvqnX82003</td>\n",
       "      <td>151.6</td>\n",
       "      <td>35.6</td>\n",
       "      <td>2.11</td>\n",
       "      <td>2016-01-25T10:00</td>\n",
       "      <td>2016-01-25T13:20-05:00</td>\n",
       "      <td>458</td>\n",
       "      <td>120</td>\n",
       "      <td>67</td>\n",
       "      <td>UA</td>\n",
       "      <td>1</td>\n",
       "    </tr>\n",
       "    <tr>\n",
       "      <th>3</th>\n",
       "      <td>6</td>\n",
       "      <td>217.31</td>\n",
       "      <td>683</td>\n",
       "      <td>BWI</td>\n",
       "      <td>2ciqOzND4aTUuEtKvqnX8200U</td>\n",
       "      <td>179.6</td>\n",
       "      <td>35.6</td>\n",
       "      <td>2.11</td>\n",
       "      <td>2016-01-25T05:00</td>\n",
       "      <td>2016-01-25T08:12-05:00</td>\n",
       "      <td>491</td>\n",
       "      <td>120</td>\n",
       "      <td>72</td>\n",
       "      <td>UA</td>\n",
       "      <td>1</td>\n",
       "    </tr>\n",
       "    <tr>\n",
       "      <th>4</th>\n",
       "      <td>317</td>\n",
       "      <td>222.21</td>\n",
       "      <td>522</td>\n",
       "      <td>IAD</td>\n",
       "      <td>0FYkDuZ1Gh6TlvJMkNtn19001</td>\n",
       "      <td>180.1</td>\n",
       "      <td>40.0</td>\n",
       "      <td>2.11</td>\n",
       "      <td>2016-01-25T14:00</td>\n",
       "      <td>2016-01-25T17:05-05:00</td>\n",
       "      <td>350</td>\n",
       "      <td>120</td>\n",
       "      <td>52</td>\n",
       "      <td>VX</td>\n",
       "      <td>1</td>\n",
       "    </tr>\n",
       "  </tbody>\n",
       "</table>\n",
       "</div>"
      ],
      "text/plain": [
       "    id  totalcost  totalduration airport                   flightid  \\\n",
       "0  237     165.81            544     BWI  2ciqOzND4aTUuEtKvqnX82001   \n",
       "1    1     180.81            552     BWI  2ciqOzND4aTUuEtKvqnX82002   \n",
       "2  244     189.31            645     BWI  2ciqOzND4aTUuEtKvqnX82003   \n",
       "3    6     217.31            683     BWI  2ciqOzND4aTUuEtKvqnX8200U   \n",
       "4  317     222.21            522     IAD  0FYkDuZ1Gh6TlvJMkNtn19001   \n",
       "\n",
       "   flightcost  parkingcost  drivingcost     timeleavehome  \\\n",
       "0       128.1         35.6         2.11  2016-01-25T05:00   \n",
       "1       143.1         35.6         2.11  2016-01-25T04:15   \n",
       "2       151.6         35.6         2.11  2016-01-25T10:00   \n",
       "3       179.6         35.6         2.11  2016-01-25T05:00   \n",
       "4       180.1         40.0         2.11  2016-01-25T14:00   \n",
       "\n",
       "          flightdeparture  flightduration  atairporttime  drivingduration  \\\n",
       "0  2016-01-25T08:20-05:00             352            120               72   \n",
       "1  2016-01-25T07:40-05:00             360            120               72   \n",
       "2  2016-01-25T13:20-05:00             458            120               67   \n",
       "3  2016-01-25T08:12-05:00             491            120               72   \n",
       "4  2016-01-25T17:05-05:00             350            120               52   \n",
       "\n",
       "  airline  selected  \n",
       "0      NK         1  \n",
       "1      AS         1  \n",
       "2      UA         1  \n",
       "3      UA         1  \n",
       "4      VX         1  "
      ]
     },
     "execution_count": 38,
     "metadata": {},
     "output_type": "execute_result"
    }
   ],
   "source": [
    "train.head(5)"
   ]
  },
  {
   "cell_type": "code",
   "execution_count": 82,
   "metadata": {
    "collapsed": true
   },
   "outputs": [],
   "source": [
    "train = train.drop(['airport'], axis=1)\n",
    "train = train.drop(['airline'], axis=1)"
   ]
  },
  {
   "cell_type": "markdown",
   "metadata": {},
   "source": [
    "# test data"
   ]
  },
  {
   "cell_type": "code",
   "execution_count": 83,
   "metadata": {
    "collapsed": true
   },
   "outputs": [],
   "source": [
    "test = pd.read_csv(\"test.csv\") "
   ]
  },
  {
   "cell_type": "code",
   "execution_count": 84,
   "metadata": {
    "collapsed": false
   },
   "outputs": [
    {
     "data": {
      "text/html": [
       "<div>\n",
       "<table border=\"1\" class=\"dataframe\">\n",
       "  <thead>\n",
       "    <tr style=\"text-align: right;\">\n",
       "      <th></th>\n",
       "      <th>id</th>\n",
       "      <th>totalcost</th>\n",
       "      <th>totalduration</th>\n",
       "      <th>airport</th>\n",
       "      <th>flightid</th>\n",
       "      <th>flightcost</th>\n",
       "      <th>parkingcost</th>\n",
       "      <th>drivingcost</th>\n",
       "      <th>timeleavehome</th>\n",
       "      <th>flightdeparture</th>\n",
       "      <th>flightduration</th>\n",
       "      <th>atairporttime</th>\n",
       "      <th>drivingduration</th>\n",
       "      <th>airline</th>\n",
       "    </tr>\n",
       "  </thead>\n",
       "  <tbody>\n",
       "    <tr>\n",
       "      <th>0</th>\n",
       "      <td>1</td>\n",
       "      <td>180.81</td>\n",
       "      <td>552</td>\n",
       "      <td>BWI</td>\n",
       "      <td>2ciqOzND4aTUuEtKvqnX82002</td>\n",
       "      <td>143.1</td>\n",
       "      <td>35.6</td>\n",
       "      <td>2.11</td>\n",
       "      <td>2016-01-25T04:15</td>\n",
       "      <td>2016-01-25T07:40-05:00</td>\n",
       "      <td>360</td>\n",
       "      <td>120</td>\n",
       "      <td>72</td>\n",
       "      <td>AS</td>\n",
       "    </tr>\n",
       "    <tr>\n",
       "      <th>1</th>\n",
       "      <td>5</td>\n",
       "      <td>194.31</td>\n",
       "      <td>775</td>\n",
       "      <td>BWI</td>\n",
       "      <td>2ciqOzND4aTUuEtKvqnX8200D</td>\n",
       "      <td>156.6</td>\n",
       "      <td>35.6</td>\n",
       "      <td>2.11</td>\n",
       "      <td>2016-01-25T14:00</td>\n",
       "      <td>2016-01-25T17:15-05:00</td>\n",
       "      <td>587</td>\n",
       "      <td>120</td>\n",
       "      <td>68</td>\n",
       "      <td>AS</td>\n",
       "    </tr>\n",
       "    <tr>\n",
       "      <th>2</th>\n",
       "      <td>6</td>\n",
       "      <td>217.31</td>\n",
       "      <td>683</td>\n",
       "      <td>BWI</td>\n",
       "      <td>2ciqOzND4aTUuEtKvqnX8200U</td>\n",
       "      <td>179.6</td>\n",
       "      <td>35.6</td>\n",
       "      <td>2.11</td>\n",
       "      <td>2016-01-25T05:00</td>\n",
       "      <td>2016-01-25T08:12-05:00</td>\n",
       "      <td>491</td>\n",
       "      <td>120</td>\n",
       "      <td>72</td>\n",
       "      <td>UA</td>\n",
       "    </tr>\n",
       "    <tr>\n",
       "      <th>3</th>\n",
       "      <td>7</td>\n",
       "      <td>228.31</td>\n",
       "      <td>787</td>\n",
       "      <td>BWI</td>\n",
       "      <td>2ciqOzND4aTUuEtKvqnX8200F</td>\n",
       "      <td>190.6</td>\n",
       "      <td>35.6</td>\n",
       "      <td>2.11</td>\n",
       "      <td>2016-01-25T13:00</td>\n",
       "      <td>2016-01-25T16:10-05:00</td>\n",
       "      <td>598</td>\n",
       "      <td>120</td>\n",
       "      <td>69</td>\n",
       "      <td>B6</td>\n",
       "    </tr>\n",
       "    <tr>\n",
       "      <th>4</th>\n",
       "      <td>10</td>\n",
       "      <td>232.31</td>\n",
       "      <td>842</td>\n",
       "      <td>BWI</td>\n",
       "      <td>2ciqOzND4aTUuEtKvqnX8200k</td>\n",
       "      <td>194.6</td>\n",
       "      <td>35.6</td>\n",
       "      <td>2.11</td>\n",
       "      <td>2016-01-25T07:45</td>\n",
       "      <td>2016-01-25T10:56-05:00</td>\n",
       "      <td>655</td>\n",
       "      <td>120</td>\n",
       "      <td>67</td>\n",
       "      <td>UA</td>\n",
       "    </tr>\n",
       "  </tbody>\n",
       "</table>\n",
       "</div>"
      ],
      "text/plain": [
       "   id  totalcost  totalduration airport                   flightid  \\\n",
       "0   1     180.81            552     BWI  2ciqOzND4aTUuEtKvqnX82002   \n",
       "1   5     194.31            775     BWI  2ciqOzND4aTUuEtKvqnX8200D   \n",
       "2   6     217.31            683     BWI  2ciqOzND4aTUuEtKvqnX8200U   \n",
       "3   7     228.31            787     BWI  2ciqOzND4aTUuEtKvqnX8200F   \n",
       "4  10     232.31            842     BWI  2ciqOzND4aTUuEtKvqnX8200k   \n",
       "\n",
       "   flightcost  parkingcost  drivingcost     timeleavehome  \\\n",
       "0       143.1         35.6         2.11  2016-01-25T04:15   \n",
       "1       156.6         35.6         2.11  2016-01-25T14:00   \n",
       "2       179.6         35.6         2.11  2016-01-25T05:00   \n",
       "3       190.6         35.6         2.11  2016-01-25T13:00   \n",
       "4       194.6         35.6         2.11  2016-01-25T07:45   \n",
       "\n",
       "          flightdeparture  flightduration  atairporttime  drivingduration  \\\n",
       "0  2016-01-25T07:40-05:00             360            120               72   \n",
       "1  2016-01-25T17:15-05:00             587            120               68   \n",
       "2  2016-01-25T08:12-05:00             491            120               72   \n",
       "3  2016-01-25T16:10-05:00             598            120               69   \n",
       "4  2016-01-25T10:56-05:00             655            120               67   \n",
       "\n",
       "  airline  \n",
       "0      AS  \n",
       "1      AS  \n",
       "2      UA  \n",
       "3      B6  \n",
       "4      UA  "
      ]
     },
     "execution_count": 84,
     "metadata": {},
     "output_type": "execute_result"
    }
   ],
   "source": [
    "test.head(5)"
   ]
  },
  {
   "cell_type": "markdown",
   "metadata": {},
   "source": [
    "# LOGISTIC REGRESSION\n",
    "A logistic regression mathematically calculates the decision boundary between the possibilities. \n",
    "It looks for a straight line that represents a cutoff that most accurately represents the training data."
   ]
  },
  {
   "cell_type": "code",
   "execution_count": 85,
   "metadata": {
    "collapsed": true
   },
   "outputs": [],
   "source": [
    "from sklearn.linear_model import LogisticRegression"
   ]
  },
  {
   "cell_type": "code",
   "execution_count": 86,
   "metadata": {
    "collapsed": false
   },
   "outputs": [],
   "source": [
    "test = test.drop(['airport'], axis=1)\n",
    "test = test.drop(['airline'], axis=1)"
   ]
  },
  {
   "cell_type": "code",
   "execution_count": 87,
   "metadata": {
    "collapsed": false
   },
   "outputs": [],
   "source": [
    "# Initialize our algorithm\n",
    "lr = LogisticRegression(random_state=1)"
   ]
  },
  {
   "cell_type": "code",
   "execution_count": 88,
   "metadata": {
    "collapsed": false
   },
   "outputs": [],
   "source": [
    "# Define our predictors\n",
    "predictors = [\"totalcost\",\"totalduration\"]\n",
    "expected  = train[\"selected\"]\n",
    "\n",
    "# Train the algorithm using all the training data\n",
    "lr.fit(train[predictors], expected)\n",
    "\n",
    "# Make predictions using the training set -- where we already know the correct answers\n",
    "predicted = lr.predict(train[predictors])"
   ]
  },
  {
   "cell_type": "code",
   "execution_count": 89,
   "metadata": {
    "collapsed": false
   },
   "outputs": [
    {
     "data": {
      "text/html": [
       "<div>\n",
       "<table border=\"1\" class=\"dataframe\">\n",
       "  <thead>\n",
       "    <tr style=\"text-align: right;\">\n",
       "      <th></th>\n",
       "      <th>flightid</th>\n",
       "      <th>selected</th>\n",
       "    </tr>\n",
       "  </thead>\n",
       "  <tbody>\n",
       "    <tr>\n",
       "      <th>0</th>\n",
       "      <td>2ciqOzND4aTUuEtKvqnX82002</td>\n",
       "      <td>0</td>\n",
       "    </tr>\n",
       "    <tr>\n",
       "      <th>1</th>\n",
       "      <td>2ciqOzND4aTUuEtKvqnX8200D</td>\n",
       "      <td>0</td>\n",
       "    </tr>\n",
       "    <tr>\n",
       "      <th>2</th>\n",
       "      <td>2ciqOzND4aTUuEtKvqnX8200U</td>\n",
       "      <td>0</td>\n",
       "    </tr>\n",
       "    <tr>\n",
       "      <th>3</th>\n",
       "      <td>2ciqOzND4aTUuEtKvqnX8200F</td>\n",
       "      <td>0</td>\n",
       "    </tr>\n",
       "    <tr>\n",
       "      <th>4</th>\n",
       "      <td>2ciqOzND4aTUuEtKvqnX8200k</td>\n",
       "      <td>0</td>\n",
       "    </tr>\n",
       "    <tr>\n",
       "      <th>5</th>\n",
       "      <td>2ciqOzND4aTUuEtKvqnX8200l</td>\n",
       "      <td>0</td>\n",
       "    </tr>\n",
       "    <tr>\n",
       "      <th>6</th>\n",
       "      <td>2ciqOzND4aTUuEtKvqnX8200N</td>\n",
       "      <td>0</td>\n",
       "    </tr>\n",
       "    <tr>\n",
       "      <th>7</th>\n",
       "      <td>2ciqOzND4aTUuEtKvqnX8200u</td>\n",
       "      <td>0</td>\n",
       "    </tr>\n",
       "    <tr>\n",
       "      <th>8</th>\n",
       "      <td>2ciqOzND4aTUuEtKvqnX8200t</td>\n",
       "      <td>0</td>\n",
       "    </tr>\n",
       "    <tr>\n",
       "      <th>9</th>\n",
       "      <td>2ciqOzND4aTUuEtKvqnX8203w</td>\n",
       "      <td>0</td>\n",
       "    </tr>\n",
       "  </tbody>\n",
       "</table>\n",
       "</div>"
      ],
      "text/plain": [
       "                    flightid  selected\n",
       "0  2ciqOzND4aTUuEtKvqnX82002         0\n",
       "1  2ciqOzND4aTUuEtKvqnX8200D         0\n",
       "2  2ciqOzND4aTUuEtKvqnX8200U         0\n",
       "3  2ciqOzND4aTUuEtKvqnX8200F         0\n",
       "4  2ciqOzND4aTUuEtKvqnX8200k         0\n",
       "5  2ciqOzND4aTUuEtKvqnX8200l         0\n",
       "6  2ciqOzND4aTUuEtKvqnX8200N         0\n",
       "7  2ciqOzND4aTUuEtKvqnX8200u         0\n",
       "8  2ciqOzND4aTUuEtKvqnX8200t         0\n",
       "9  2ciqOzND4aTUuEtKvqnX8203w         0"
      ]
     },
     "execution_count": 89,
     "metadata": {},
     "output_type": "execute_result"
    }
   ],
   "source": [
    "# Make predictions based on the test data using logistic Regression\n",
    "predictions1 = lr.predict(test[predictors])\n",
    "\n",
    "test_predictions1 = pd.DataFrame({\n",
    "        \"flightid\": test[\"flightid\"],\n",
    "        \"selected\": predictions1\n",
    "    })\n",
    "test_predictions1.head(10)"
   ]
  },
  {
   "cell_type": "markdown",
   "metadata": {},
   "source": [
    "# Cross-Validation"
   ]
  },
  {
   "cell_type": "code",
   "execution_count": 90,
   "metadata": {
    "collapsed": true
   },
   "outputs": [],
   "source": [
    "from sklearn import cross_validation\n",
    "from sklearn.cross_validation import train_test_split"
   ]
  },
  {
   "cell_type": "code",
   "execution_count": 91,
   "metadata": {
    "collapsed": false
   },
   "outputs": [],
   "source": [
    "X = train[[\"totalcost\",\"totalduration\"]]\n",
    "y = train[\"selected\"]\n",
    "X_train, X_test, y_train, y_test = cross_validation.train_test_split(X,y,test_size = 0.2)\n",
    "log_reg = lr.fit(X_train, y_train)"
   ]
  },
  {
   "cell_type": "code",
   "execution_count": 92,
   "metadata": {
    "collapsed": false
   },
   "outputs": [
    {
     "data": {
      "text/plain": [
       "0.96226415094339623"
      ]
     },
     "execution_count": 92,
     "metadata": {},
     "output_type": "execute_result"
    }
   ],
   "source": [
    "# Every estimator has a score method that can judge the quality of the \n",
    "# fit (or the prediction) on new data. Bigger is better.   \n",
    "log_reg.score(X_test, y_test)"
   ]
  },
  {
   "cell_type": "markdown",
   "metadata": {},
   "source": [
    "# classification report"
   ]
  },
  {
   "cell_type": "code",
   "execution_count": 93,
   "metadata": {
    "collapsed": true
   },
   "outputs": [],
   "source": [
    "from sklearn.metrics import classification_report"
   ]
  },
  {
   "cell_type": "code",
   "execution_count": 97,
   "metadata": {
    "collapsed": false
   },
   "outputs": [
    {
     "name": "stdout",
     "output_type": "stream",
     "text": [
      "              precision    recall  f1-score   support\n",
      "\n",
      "not selected       0.96      1.00      0.98        51\n",
      "    selected       0.00      0.00      0.00         2\n",
      "\n",
      " avg / total       0.93      0.96      0.94        53\n",
      "\n"
     ]
    }
   ],
   "source": [
    "expected   = y_test\n",
    "predicted  = log_reg.predict(X_test)\n",
    "classificationReport = classification_report(expected, predicted, target_names=[\"not selected\",\"selected\"])\n",
    "print classificationReport"
   ]
  },
  {
   "cell_type": "code",
   "execution_count": 98,
   "metadata": {
    "collapsed": false
   },
   "outputs": [
    {
     "data": {
      "text/html": [
       "<div>\n",
       "<table border=\"1\" class=\"dataframe\">\n",
       "  <thead>\n",
       "    <tr style=\"text-align: right;\">\n",
       "      <th></th>\n",
       "      <th>flightid</th>\n",
       "      <th>selected</th>\n",
       "    </tr>\n",
       "  </thead>\n",
       "  <tbody>\n",
       "    <tr>\n",
       "      <th>0</th>\n",
       "      <td>2ciqOzND4aTUuEtKvqnX82002</td>\n",
       "      <td>0</td>\n",
       "    </tr>\n",
       "    <tr>\n",
       "      <th>1</th>\n",
       "      <td>2ciqOzND4aTUuEtKvqnX8200D</td>\n",
       "      <td>0</td>\n",
       "    </tr>\n",
       "    <tr>\n",
       "      <th>2</th>\n",
       "      <td>2ciqOzND4aTUuEtKvqnX8200U</td>\n",
       "      <td>0</td>\n",
       "    </tr>\n",
       "    <tr>\n",
       "      <th>3</th>\n",
       "      <td>2ciqOzND4aTUuEtKvqnX8200F</td>\n",
       "      <td>0</td>\n",
       "    </tr>\n",
       "    <tr>\n",
       "      <th>4</th>\n",
       "      <td>2ciqOzND4aTUuEtKvqnX8200k</td>\n",
       "      <td>0</td>\n",
       "    </tr>\n",
       "    <tr>\n",
       "      <th>5</th>\n",
       "      <td>2ciqOzND4aTUuEtKvqnX8200l</td>\n",
       "      <td>0</td>\n",
       "    </tr>\n",
       "    <tr>\n",
       "      <th>6</th>\n",
       "      <td>2ciqOzND4aTUuEtKvqnX8200N</td>\n",
       "      <td>0</td>\n",
       "    </tr>\n",
       "    <tr>\n",
       "      <th>7</th>\n",
       "      <td>2ciqOzND4aTUuEtKvqnX8200u</td>\n",
       "      <td>0</td>\n",
       "    </tr>\n",
       "    <tr>\n",
       "      <th>8</th>\n",
       "      <td>2ciqOzND4aTUuEtKvqnX8200t</td>\n",
       "      <td>0</td>\n",
       "    </tr>\n",
       "    <tr>\n",
       "      <th>9</th>\n",
       "      <td>2ciqOzND4aTUuEtKvqnX8203w</td>\n",
       "      <td>0</td>\n",
       "    </tr>\n",
       "  </tbody>\n",
       "</table>\n",
       "</div>"
      ],
      "text/plain": [
       "                    flightid  selected\n",
       "0  2ciqOzND4aTUuEtKvqnX82002         0\n",
       "1  2ciqOzND4aTUuEtKvqnX8200D         0\n",
       "2  2ciqOzND4aTUuEtKvqnX8200U         0\n",
       "3  2ciqOzND4aTUuEtKvqnX8200F         0\n",
       "4  2ciqOzND4aTUuEtKvqnX8200k         0\n",
       "5  2ciqOzND4aTUuEtKvqnX8200l         0\n",
       "6  2ciqOzND4aTUuEtKvqnX8200N         0\n",
       "7  2ciqOzND4aTUuEtKvqnX8200u         0\n",
       "8  2ciqOzND4aTUuEtKvqnX8200t         0\n",
       "9  2ciqOzND4aTUuEtKvqnX8203w         0"
      ]
     },
     "execution_count": 98,
     "metadata": {},
     "output_type": "execute_result"
    }
   ],
   "source": [
    "# So how well did our Logistic Regression Model do?\n",
    "predictions2 = log_reg.predict(test[predictors])\n",
    "\n",
    "test_predictions2 = pd.DataFrame({\n",
    "        \"flightid\": test[\"flightid\"],\n",
    "        \"selected\": predictions2\n",
    "    })\n",
    "test_predictions2.head(10)"
   ]
  },
  {
   "cell_type": "markdown",
   "metadata": {},
   "source": [
    "# RANDOM FOREST\n",
    "Some models will work better than others! Let's try another one.\n",
    "A random forest is a 'meta estimator'. It will fit a number of decision trees (we'll have to tell it how many) on various sub-samples of the dataset. Then it will use averaging to improve the predictive accuracy and control over-fitting."
   ]
  },
  {
   "cell_type": "code",
   "execution_count": 99,
   "metadata": {
    "collapsed": true
   },
   "outputs": [],
   "source": [
    "from sklearn.ensemble import RandomForestClassifier"
   ]
  },
  {
   "cell_type": "code",
   "execution_count": 100,
   "metadata": {
    "collapsed": true
   },
   "outputs": [],
   "source": [
    "# We'll select 50 trees and opt for 'out-of-bag' samples to estimate the generalization error.\n",
    "rf = RandomForestClassifier(n_estimators=50, oob_score=True) "
   ]
  },
  {
   "cell_type": "code",
   "execution_count": 101,
   "metadata": {
    "collapsed": false
   },
   "outputs": [
    {
     "data": {
      "text/plain": [
       "RandomForestClassifier(bootstrap=True, class_weight=None, criterion='gini',\n",
       "            max_depth=None, max_features='auto', max_leaf_nodes=None,\n",
       "            min_samples_leaf=1, min_samples_split=2,\n",
       "            min_weight_fraction_leaf=0.0, n_estimators=50, n_jobs=1,\n",
       "            oob_score=True, random_state=None, verbose=0, warm_start=False)"
      ]
     },
     "execution_count": 101,
     "metadata": {},
     "output_type": "execute_result"
    }
   ],
   "source": [
    "# Next split up the data with the 'train test split' method in the Cross Validation module\n",
    "X_train, X_test, y_train, y_test = train_test_split(X,y, test_size=0.2)\n",
    "\n",
    "# ...and then run the 'fit' method to build a forest of trees\n",
    "rf.fit(X_train, y_train)"
   ]
  },
  {
   "cell_type": "code",
   "execution_count": 102,
   "metadata": {
    "collapsed": false
   },
   "outputs": [
    {
     "data": {
      "text/plain": [
       "0.96226415094339623"
      ]
     },
     "execution_count": 102,
     "metadata": {},
     "output_type": "execute_result"
    }
   ],
   "source": [
    "rf.score(X_test, y_test)"
   ]
  },
  {
   "cell_type": "code",
   "execution_count": 103,
   "metadata": {
    "collapsed": true
   },
   "outputs": [],
   "source": [
    "def plot_classification_report(cr, title='Classification report', cmap=plt.cm.Reds):\n",
    "\n",
    "    lines = cr.split('\\n')\n",
    "    classes = []\n",
    "    plotMat = []\n",
    "\n",
    "    for line in lines[2 : (len(lines) - 3)]:\n",
    "        t = line.split()\n",
    "        classes.append(t[0])\n",
    "        v = [float(x) for x in t[1: len(t) - 1]]\n",
    "        plotMat.append(v)\n",
    "\n",
    "    fig, ax = plt.subplots(1)\n",
    "    fig = plt.imshow(plotMat, interpolation='nearest', cmap=cmap)\n",
    "    \n",
    "    for c in range(len(plotMat)+1):\n",
    "        for r in range(len(classes)):\n",
    "            try:\n",
    "                txt = plotMat[r][c]\n",
    "                ax.text(c,r,plotMat[r][c],va='center',ha='center')\n",
    "            except IndexError:\n",
    "                pass\n",
    "            \n",
    "    plt.title(title)\n",
    "    plt.colorbar()\n",
    "    x_tick_marks = np.arange(3)\n",
    "    y_tick_marks = np.arange(len(classes))\n",
    "    plt.xticks(x_tick_marks, ['precision', 'recall', 'f1-score'], rotation=45)\n",
    "    plt.yticks(y_tick_marks, classes)\n",
    "    plt.tight_layout()\n",
    "    plt.ylabel('Classes')\n",
    "    plt.xlabel('Measures')"
   ]
  },
  {
   "cell_type": "code",
   "execution_count": 104,
   "metadata": {
    "collapsed": false
   },
   "outputs": [
    {
     "name": "stdout",
     "output_type": "stream",
     "text": [
      "              precision    recall  f1-score   support\n",
      "\n",
      "not selected       0.96      1.00      0.98        48\n",
      "    selected       1.00      0.60      0.75         5\n",
      "\n",
      " avg / total       0.96      0.96      0.96        53\n",
      "\n"
     ]
    }
   ],
   "source": [
    "expected   = y_test\n",
    "predicted  = rf.predict(X_test)\n",
    "classificationReport = classification_report(expected, predicted, target_names=[\"not selected\",\"selected\"])\n",
    "print classificationReport"
   ]
  },
  {
   "cell_type": "code",
   "execution_count": 105,
   "metadata": {
    "collapsed": false
   },
   "outputs": [
    {
     "data": {
      "text/html": [
       "<div>\n",
       "<table border=\"1\" class=\"dataframe\">\n",
       "  <thead>\n",
       "    <tr style=\"text-align: right;\">\n",
       "      <th></th>\n",
       "      <th>flightid</th>\n",
       "      <th>selected</th>\n",
       "    </tr>\n",
       "  </thead>\n",
       "  <tbody>\n",
       "    <tr>\n",
       "      <th>0</th>\n",
       "      <td>2ciqOzND4aTUuEtKvqnX82002</td>\n",
       "      <td>1</td>\n",
       "    </tr>\n",
       "    <tr>\n",
       "      <th>1</th>\n",
       "      <td>2ciqOzND4aTUuEtKvqnX8200D</td>\n",
       "      <td>0</td>\n",
       "    </tr>\n",
       "    <tr>\n",
       "      <th>2</th>\n",
       "      <td>2ciqOzND4aTUuEtKvqnX8200U</td>\n",
       "      <td>1</td>\n",
       "    </tr>\n",
       "    <tr>\n",
       "      <th>3</th>\n",
       "      <td>2ciqOzND4aTUuEtKvqnX8200F</td>\n",
       "      <td>0</td>\n",
       "    </tr>\n",
       "    <tr>\n",
       "      <th>4</th>\n",
       "      <td>2ciqOzND4aTUuEtKvqnX8200k</td>\n",
       "      <td>0</td>\n",
       "    </tr>\n",
       "    <tr>\n",
       "      <th>5</th>\n",
       "      <td>2ciqOzND4aTUuEtKvqnX8200l</td>\n",
       "      <td>0</td>\n",
       "    </tr>\n",
       "    <tr>\n",
       "      <th>6</th>\n",
       "      <td>2ciqOzND4aTUuEtKvqnX8200N</td>\n",
       "      <td>0</td>\n",
       "    </tr>\n",
       "    <tr>\n",
       "      <th>7</th>\n",
       "      <td>2ciqOzND4aTUuEtKvqnX8200u</td>\n",
       "      <td>0</td>\n",
       "    </tr>\n",
       "    <tr>\n",
       "      <th>8</th>\n",
       "      <td>2ciqOzND4aTUuEtKvqnX8200t</td>\n",
       "      <td>0</td>\n",
       "    </tr>\n",
       "    <tr>\n",
       "      <th>9</th>\n",
       "      <td>2ciqOzND4aTUuEtKvqnX8203w</td>\n",
       "      <td>0</td>\n",
       "    </tr>\n",
       "  </tbody>\n",
       "</table>\n",
       "</div>"
      ],
      "text/plain": [
       "                    flightid  selected\n",
       "0  2ciqOzND4aTUuEtKvqnX82002         1\n",
       "1  2ciqOzND4aTUuEtKvqnX8200D         0\n",
       "2  2ciqOzND4aTUuEtKvqnX8200U         1\n",
       "3  2ciqOzND4aTUuEtKvqnX8200F         0\n",
       "4  2ciqOzND4aTUuEtKvqnX8200k         0\n",
       "5  2ciqOzND4aTUuEtKvqnX8200l         0\n",
       "6  2ciqOzND4aTUuEtKvqnX8200N         0\n",
       "7  2ciqOzND4aTUuEtKvqnX8200u         0\n",
       "8  2ciqOzND4aTUuEtKvqnX8200t         0\n",
       "9  2ciqOzND4aTUuEtKvqnX8203w         0"
      ]
     },
     "execution_count": 105,
     "metadata": {},
     "output_type": "execute_result"
    }
   ],
   "source": [
    "# Make predictions based on the test data using random forest\n",
    "predictions3 = rf.predict(test[predictors])\n",
    "\n",
    "test_predictions3 = pd.DataFrame({\n",
    "        \"flightid\": test[\"flightid\"],\n",
    "        \"selected\": predictions3\n",
    "    })\n",
    "test_predictions3.head(10)"
   ]
  },
  {
   "cell_type": "markdown",
   "metadata": {},
   "source": [
    "# SVM\n",
    "### Support vector machines use points in transformed problem space to separate the classes into groups."
   ]
  },
  {
   "cell_type": "code",
   "execution_count": 106,
   "metadata": {
    "collapsed": true
   },
   "outputs": [],
   "source": [
    "from sklearn.svm import SVC"
   ]
  },
  {
   "cell_type": "code",
   "execution_count": 107,
   "metadata": {
    "collapsed": false
   },
   "outputs": [],
   "source": [
    "kernels = ['linear', 'poly', 'rbf']\n",
    "\n",
    "splits     = cross_validation.train_test_split(X,y, test_size=0.2)\n",
    "X_train, X_test, y_train, y_test = splits\n",
    "\n",
    "for kernel in kernels:\n",
    "    if kernel != 'poly':\n",
    "        model      = SVC(kernel=kernel)\n",
    "    else:\n",
    "        model      = SVC(kernel=kernel, degree=3)\n",
    "\n",
    "model.fit(X_train, y_train)\n",
    "expected   = y_test\n",
    "predicted  = model.predict(X_test)\n",
    "\n",
    "SVC_report = classification_report(expected, predicted)"
   ]
  },
  {
   "cell_type": "code",
   "execution_count": 108,
   "metadata": {
    "collapsed": false
   },
   "outputs": [
    {
     "data": {
      "image/png": "[encoded data removed]",
      "text/plain": [
       "<matplotlib.figure.Figure at 0xea38d30>"
      ]
     },
     "metadata": {},
     "output_type": "display_data"
    }
   ],
   "source": [
    "plot_classification_report(SVC_report)"
   ]
  },
  {
   "cell_type": "code",
   "execution_count": 109,
   "metadata": {
    "collapsed": false
   },
   "outputs": [
    {
     "data": {
      "text/plain": [
       "<function matplotlib.pyplot.show>"
      ]
     },
     "execution_count": 109,
     "metadata": {},
     "output_type": "execute_result"
    },
    {
     "data": {
      "image/png": "[encoded data removed]",
      "text/plain": [
       "<matplotlib.figure.Figure at 0xea45be0>"
      ]
     },
     "metadata": {},
     "output_type": "display_data"
    }
   ],
   "source": [
    "from sklearn.metrics import precision_recall_curve\n",
    "precision, recall, thresholds = precision_recall_curve(y_test, predicted)  \n",
    "decision_threshold = np.append(thresholds, 1)\n",
    "\n",
    "plt.plot(decision_threshold, precision, color='red')  \n",
    "plt.plot(decision_threshold, recall, color='blue')  \n",
    "leg = plt.legend(('precision', 'recall'), frameon=True)  \n",
    "leg.get_frame().set_edgecolor('k')  \n",
    "plt.xlabel('decision_threshold')  \n",
    "plt.ylabel('%')  \n",
    "plt.show"
   ]
  },
  {
   "cell_type": "code",
   "execution_count": 110,
   "metadata": {
    "collapsed": false
   },
   "outputs": [
    {
     "data": {
      "text/html": [
       "<div>\n",
       "<table border=\"1\" class=\"dataframe\">\n",
       "  <thead>\n",
       "    <tr style=\"text-align: right;\">\n",
       "      <th></th>\n",
       "      <th>flightid</th>\n",
       "      <th>selected</th>\n",
       "    </tr>\n",
       "  </thead>\n",
       "  <tbody>\n",
       "    <tr>\n",
       "      <th>0</th>\n",
       "      <td>2ciqOzND4aTUuEtKvqnX82002</td>\n",
       "      <td>1</td>\n",
       "    </tr>\n",
       "    <tr>\n",
       "      <th>1</th>\n",
       "      <td>2ciqOzND4aTUuEtKvqnX8200D</td>\n",
       "      <td>0</td>\n",
       "    </tr>\n",
       "    <tr>\n",
       "      <th>2</th>\n",
       "      <td>2ciqOzND4aTUuEtKvqnX8200U</td>\n",
       "      <td>1</td>\n",
       "    </tr>\n",
       "    <tr>\n",
       "      <th>3</th>\n",
       "      <td>2ciqOzND4aTUuEtKvqnX8200F</td>\n",
       "      <td>0</td>\n",
       "    </tr>\n",
       "    <tr>\n",
       "      <th>4</th>\n",
       "      <td>2ciqOzND4aTUuEtKvqnX8200k</td>\n",
       "      <td>0</td>\n",
       "    </tr>\n",
       "    <tr>\n",
       "      <th>5</th>\n",
       "      <td>2ciqOzND4aTUuEtKvqnX8200l</td>\n",
       "      <td>0</td>\n",
       "    </tr>\n",
       "    <tr>\n",
       "      <th>6</th>\n",
       "      <td>2ciqOzND4aTUuEtKvqnX8200N</td>\n",
       "      <td>0</td>\n",
       "    </tr>\n",
       "    <tr>\n",
       "      <th>7</th>\n",
       "      <td>2ciqOzND4aTUuEtKvqnX8200u</td>\n",
       "      <td>0</td>\n",
       "    </tr>\n",
       "    <tr>\n",
       "      <th>8</th>\n",
       "      <td>2ciqOzND4aTUuEtKvqnX8200t</td>\n",
       "      <td>0</td>\n",
       "    </tr>\n",
       "    <tr>\n",
       "      <th>9</th>\n",
       "      <td>2ciqOzND4aTUuEtKvqnX8203w</td>\n",
       "      <td>0</td>\n",
       "    </tr>\n",
       "  </tbody>\n",
       "</table>\n",
       "</div>"
      ],
      "text/plain": [
       "                    flightid  selected\n",
       "0  2ciqOzND4aTUuEtKvqnX82002         1\n",
       "1  2ciqOzND4aTUuEtKvqnX8200D         0\n",
       "2  2ciqOzND4aTUuEtKvqnX8200U         1\n",
       "3  2ciqOzND4aTUuEtKvqnX8200F         0\n",
       "4  2ciqOzND4aTUuEtKvqnX8200k         0\n",
       "5  2ciqOzND4aTUuEtKvqnX8200l         0\n",
       "6  2ciqOzND4aTUuEtKvqnX8200N         0\n",
       "7  2ciqOzND4aTUuEtKvqnX8200u         0\n",
       "8  2ciqOzND4aTUuEtKvqnX8200t         0\n",
       "9  2ciqOzND4aTUuEtKvqnX8203w         0"
      ]
     },
     "execution_count": 110,
     "metadata": {},
     "output_type": "execute_result"
    }
   ],
   "source": [
    "# Make predictions based on the test data using SVC\n",
    "predictions4 = model.predict(test[predictors])\n",
    "\n",
    "test_predictions4 = pd.DataFrame({\n",
    "        \"flightid\": test[\"flightid\"],\n",
    "        \"selected\": predictions4\n",
    "    })\n",
    "test_predictions4.head(10)"
   ]
  },
  {
   "cell_type": "markdown",
   "metadata": {},
   "source": [
    "# Cost Calculation"
   ]
  },
  {
   "cell_type": "code",
   "execution_count": 207,
   "metadata": {
    "collapsed": false
   },
   "outputs": [],
   "source": [
    "df = pd.read_csv(\"computations_12122015.csv\") "
   ]
  },
  {
   "cell_type": "code",
   "execution_count": 208,
   "metadata": {
    "collapsed": false
   },
   "outputs": [],
   "source": [
    "#Some current studies show the following 3 major factors in purchasing flight:\n",
    "#Price (43%)\n",
    "#Schedule and convenient flight time (21%)\n",
    "#Frequent Flyer Program (13%)\n",
    "#costWeightFactor\n",
    "#durationWeightFactor\n",
    "costWeightFactor=0.21\n",
    "durationWeightFactor=0.43\n",
    "selectedIndexWithWeight=0\n",
    "selectedIndexAsIs=0\n",
    "selectedOneWithWeight=df['totalcost'][0]*costWeightFactor+df['totalduration'][0]*durationWeightFactor\n",
    "selectedOneAsIs=df['totalcost'][0]+df['totalduration'][0]\n",
    "for index, row in df.iterrows():\n",
    "    costFunctionWithWeight=row['totalcost']*costWeightFactor+row['totalduration']*durationWeightFactor\n",
    "    costFunctionAsIs=row['totalcost']+row['totalduration']\n",
    "    if costFunctionWithWeight < selectedOneWithWeight:\n",
    "        selectedOneWithWeight=costFunctionWithWeight\n",
    "        selectedIndexWithWeight=index\n",
    "        selectedCostPerHourWithWeight=row['costperhour']\n",
    "    if costFunctionAsIs < selectedOneAsIs:\n",
    "        selectedOneAsIs=costFunctionAsIs\n",
    "        selectedIndexAsIs=index \n",
    "        selectedCostPerHourAsIs=row['costperhour']\n"
   ]
  },
  {
   "cell_type": "markdown",
   "metadata": {},
   "source": [
    "# recommended flight with lowest cost function \n",
    "### (totalcost + total duration)"
   ]
  },
  {
   "cell_type": "code",
   "execution_count": 209,
   "metadata": {
    "collapsed": false
   },
   "outputs": [
    {
     "name": "stdout",
     "output_type": "stream",
     "text": [
      "This is the recommended flight without weight factor:\n",
      "airport,      flightid,   flightcost, flightduration, costperhour\n"
     ]
    },
    {
     "data": {
      "text/plain": [
       "('BWI', '2ciqOzND4aTUuEtKvqnX82001', 128.1, 352, 18.423333333333332)"
      ]
     },
     "execution_count": 209,
     "metadata": {},
     "output_type": "execute_result"
    }
   ],
   "source": [
    "print \"This is the recommended flight without weight factor:\"\n",
    "print \"airport,      flightid,   flightcost, flightduration, costperhour\"\n",
    "df['airport'][selectedIndexAsIs],df['flightid'][selectedIndexAsIs],float(df['flightcost'][selectedIndexAsIs]),df['flightduration'][selectedIndexAsIs],df['costperhour'][selectedIndexAsIs]"
   ]
  },
  {
   "cell_type": "markdown",
   "metadata": {},
   "source": [
    "# recommended flight with lowest cost function \n",
    "### (totalcost and totalduration have different weight factor)"
   ]
  },
  {
   "cell_type": "code",
   "execution_count": 210,
   "metadata": {
    "collapsed": false
   },
   "outputs": [
    {
     "name": "stdout",
     "output_type": "stream",
     "text": [
      "This is the recommended flight with weight factor (preferred):\n",
      "airport,      flightid,   flightcost, flightduration, costperhour\n"
     ]
    },
    {
     "data": {
      "text/plain": [
       "('DCA', 'RSETozIzLjLQdvO1tO9iRU001', 180.1, 374, 35.501428571428569)"
      ]
     },
     "execution_count": 210,
     "metadata": {},
     "output_type": "execute_result"
    }
   ],
   "source": [
    "print \"This is the recommended flight with weight factor (preferred):\"\n",
    "print \"airport,      flightid,   flightcost, flightduration, costperhour\"\n",
    "df['airport'][selectedIndexWithWeight],df['flightid'][selectedIndexWithWeight],float(df['flightcost'][selectedIndexWithWeight]),df['flightduration'][selectedIndexWithWeight],df['costperhour'][selectedIndexWithWeight]"
   ]
  },
  {
   "cell_type": "code",
   "execution_count": null,
   "metadata": {
    "collapsed": true
   },
   "outputs": [],
   "source": []
  }
 ],
 "metadata": {
  "kernelspec": {
   "display_name": "Python 2",
   "language": "python",
   "name": "python2"
  },
  "language_info": {
   "codemirror_mode": {
    "name": "ipython",
    "version": 2
   },
   "file_extension": ".py",
   "mimetype": "text/x-python",
   "name": "python",
   "nbconvert_exporter": "python",
   "pygments_lexer": "ipython2",
   "version": "2.7.10"
  }
 },
 "nbformat": 4,
 "nbformat_minor": 0
}
